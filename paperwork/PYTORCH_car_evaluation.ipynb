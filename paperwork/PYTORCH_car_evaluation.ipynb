{
 "cells": [
  {
   "cell_type": "code",
   "execution_count": 3,
   "id": "96dc9bf9",
   "metadata": {},
   "outputs": [],
   "source": [
    "import pandas as pd\n",
    "import numpy as np\n",
    "import torch\n",
    "import torch.nn as nn\n",
    "import torch.optim as optim\n",
    "from torch.utils.data import Dataset, DataLoader, TensorDataset\n",
    "from sklearn.preprocessing import LabelEncoder\n",
    "from sklearn.metrics import precision_score, recall_score, f1_score, roc_auc_score, confusion_matrix, ConfusionMatrixDisplay\n",
    "\n",
    "import matplotlib.pyplot as plt\n",
    "from torchsummary import summary\n",
    "import numpy as np"
   ]
  },
  {
   "cell_type": "code",
   "execution_count": 17,
   "id": "fd979c92",
   "metadata": {},
   "outputs": [],
   "source": [
    "labels  = ['price' , 'maint' , 'doors' , 'persons' , 'lug_capacity' , 'safety' , 'output']"
   ]
  },
  {
   "cell_type": "code",
   "execution_count": 18,
   "id": "b697573a",
   "metadata": {},
   "outputs": [],
   "source": [
    "data = pd.read_csv('car_evaluation.csv' , names = labels)  # CSV 파일 경로"
   ]
  },
  {
   "cell_type": "code",
   "execution_count": 19,
   "id": "f2831999",
   "metadata": {},
   "outputs": [
    {
     "data": {
      "text/html": [
       "<div>\n",
       "<style scoped>\n",
       "    .dataframe tbody tr th:only-of-type {\n",
       "        vertical-align: middle;\n",
       "    }\n",
       "\n",
       "    .dataframe tbody tr th {\n",
       "        vertical-align: top;\n",
       "    }\n",
       "\n",
       "    .dataframe thead th {\n",
       "        text-align: right;\n",
       "    }\n",
       "</style>\n",
       "<table border=\"1\" class=\"dataframe\">\n",
       "  <thead>\n",
       "    <tr style=\"text-align: right;\">\n",
       "      <th></th>\n",
       "      <th>price</th>\n",
       "      <th>maint</th>\n",
       "      <th>doors</th>\n",
       "      <th>persons</th>\n",
       "      <th>lug_capacity</th>\n",
       "      <th>safety</th>\n",
       "      <th>output</th>\n",
       "    </tr>\n",
       "  </thead>\n",
       "  <tbody>\n",
       "    <tr>\n",
       "      <th>0</th>\n",
       "      <td>vhigh</td>\n",
       "      <td>vhigh</td>\n",
       "      <td>2</td>\n",
       "      <td>2</td>\n",
       "      <td>small</td>\n",
       "      <td>low</td>\n",
       "      <td>unacc</td>\n",
       "    </tr>\n",
       "    <tr>\n",
       "      <th>1</th>\n",
       "      <td>vhigh</td>\n",
       "      <td>vhigh</td>\n",
       "      <td>2</td>\n",
       "      <td>2</td>\n",
       "      <td>small</td>\n",
       "      <td>med</td>\n",
       "      <td>unacc</td>\n",
       "    </tr>\n",
       "    <tr>\n",
       "      <th>2</th>\n",
       "      <td>vhigh</td>\n",
       "      <td>vhigh</td>\n",
       "      <td>2</td>\n",
       "      <td>2</td>\n",
       "      <td>small</td>\n",
       "      <td>high</td>\n",
       "      <td>unacc</td>\n",
       "    </tr>\n",
       "    <tr>\n",
       "      <th>3</th>\n",
       "      <td>vhigh</td>\n",
       "      <td>vhigh</td>\n",
       "      <td>2</td>\n",
       "      <td>2</td>\n",
       "      <td>med</td>\n",
       "      <td>low</td>\n",
       "      <td>unacc</td>\n",
       "    </tr>\n",
       "    <tr>\n",
       "      <th>4</th>\n",
       "      <td>vhigh</td>\n",
       "      <td>vhigh</td>\n",
       "      <td>2</td>\n",
       "      <td>2</td>\n",
       "      <td>med</td>\n",
       "      <td>med</td>\n",
       "      <td>unacc</td>\n",
       "    </tr>\n",
       "    <tr>\n",
       "      <th>...</th>\n",
       "      <td>...</td>\n",
       "      <td>...</td>\n",
       "      <td>...</td>\n",
       "      <td>...</td>\n",
       "      <td>...</td>\n",
       "      <td>...</td>\n",
       "      <td>...</td>\n",
       "    </tr>\n",
       "    <tr>\n",
       "      <th>1723</th>\n",
       "      <td>low</td>\n",
       "      <td>low</td>\n",
       "      <td>5more</td>\n",
       "      <td>more</td>\n",
       "      <td>med</td>\n",
       "      <td>med</td>\n",
       "      <td>good</td>\n",
       "    </tr>\n",
       "    <tr>\n",
       "      <th>1724</th>\n",
       "      <td>low</td>\n",
       "      <td>low</td>\n",
       "      <td>5more</td>\n",
       "      <td>more</td>\n",
       "      <td>med</td>\n",
       "      <td>high</td>\n",
       "      <td>vgood</td>\n",
       "    </tr>\n",
       "    <tr>\n",
       "      <th>1725</th>\n",
       "      <td>low</td>\n",
       "      <td>low</td>\n",
       "      <td>5more</td>\n",
       "      <td>more</td>\n",
       "      <td>big</td>\n",
       "      <td>low</td>\n",
       "      <td>unacc</td>\n",
       "    </tr>\n",
       "    <tr>\n",
       "      <th>1726</th>\n",
       "      <td>low</td>\n",
       "      <td>low</td>\n",
       "      <td>5more</td>\n",
       "      <td>more</td>\n",
       "      <td>big</td>\n",
       "      <td>med</td>\n",
       "      <td>good</td>\n",
       "    </tr>\n",
       "    <tr>\n",
       "      <th>1727</th>\n",
       "      <td>low</td>\n",
       "      <td>low</td>\n",
       "      <td>5more</td>\n",
       "      <td>more</td>\n",
       "      <td>big</td>\n",
       "      <td>high</td>\n",
       "      <td>vgood</td>\n",
       "    </tr>\n",
       "  </tbody>\n",
       "</table>\n",
       "<p>1728 rows × 7 columns</p>\n",
       "</div>"
      ],
      "text/plain": [
       "      price  maint  doors persons lug_capacity safety output\n",
       "0     vhigh  vhigh      2       2        small    low  unacc\n",
       "1     vhigh  vhigh      2       2        small    med  unacc\n",
       "2     vhigh  vhigh      2       2        small   high  unacc\n",
       "3     vhigh  vhigh      2       2          med    low  unacc\n",
       "4     vhigh  vhigh      2       2          med    med  unacc\n",
       "...     ...    ...    ...     ...          ...    ...    ...\n",
       "1723    low    low  5more    more          med    med   good\n",
       "1724    low    low  5more    more          med   high  vgood\n",
       "1725    low    low  5more    more          big    low  unacc\n",
       "1726    low    low  5more    more          big    med   good\n",
       "1727    low    low  5more    more          big   high  vgood\n",
       "\n",
       "[1728 rows x 7 columns]"
      ]
     },
     "execution_count": 19,
     "metadata": {},
     "output_type": "execute_result"
    }
   ],
   "source": [
    "data"
   ]
  },
  {
   "cell_type": "code",
   "execution_count": 11,
   "id": "1290e975",
   "metadata": {},
   "outputs": [
    {
     "data": {
      "text/plain": [
       "<Axes: ylabel='output'>"
      ]
     },
     "execution_count": 11,
     "metadata": {},
     "output_type": "execute_result"
    },
    {
     "data": {
      "image/png": "[encoded data removed]",
      "text/plain": [
       "<Figure size 800x600 with 1 Axes>"
      ]
     },
     "metadata": {},
     "output_type": "display_data"
    }
   ],
   "source": [
    "fig_size = plt.rcParams[\"figure.figsize\"]\n",
    "fig_size[0] = 8\n",
    "fig_size[1] = 6\n",
    "plt.rcParams[\"figure.figsize\"] = fig_size\n",
    "data.output.value_counts().plot(kind='pie', autopct='%0.05f%%', colors=['lightblue', 'lightgreen', 'orange', 'pink'], explode=(0.05, 0.05, 0.05,0.05))"
   ]
  },
  {
   "cell_type": "code",
   "execution_count": 13,
   "id": "a773b347",
   "metadata": {},
   "outputs": [
    {
     "data": {
      "text/plain": [
       "Index(['price', 'maint', 'doors', 'persons', 'lug_capacity', 'satety',\n",
       "       'output'],\n",
       "      dtype='object')"
      ]
     },
     "execution_count": 13,
     "metadata": {},
     "output_type": "execute_result"
    }
   ],
   "source": [
    "data.columns"
   ]
  },
  {
   "cell_type": "code",
   "execution_count": 15,
   "id": "d80accaf",
   "metadata": {},
   "outputs": [],
   "source": [
    "columns = ['price', 'maint', 'doors', 'persons', 'lug_capacity', 'safety','output']\n"
   ]
  },
  {
   "cell_type": "code",
   "execution_count": 20,
   "id": "4a21bd25",
   "metadata": {
    "scrolled": true
   },
   "outputs": [],
   "source": [
    "label_encoders = {}\n",
    "for column in columns:\n",
    "    label_encoders[column] = LabelEncoder()\n",
    "    data[column] = label_encoders[column].fit_transform(data[column])"
   ]
  },
  {
   "cell_type": "code",
   "execution_count": 21,
   "id": "0a1db5f0",
   "metadata": {},
   "outputs": [
    {
     "data": {
      "text/html": [
       "<div>\n",
       "<style scoped>\n",
       "    .dataframe tbody tr th:only-of-type {\n",
       "        vertical-align: middle;\n",
       "    }\n",
       "\n",
       "    .dataframe tbody tr th {\n",
       "        vertical-align: top;\n",
       "    }\n",
       "\n",
       "    .dataframe thead th {\n",
       "        text-align: right;\n",
       "    }\n",
       "</style>\n",
       "<table border=\"1\" class=\"dataframe\">\n",
       "  <thead>\n",
       "    <tr style=\"text-align: right;\">\n",
       "      <th></th>\n",
       "      <th>price</th>\n",
       "      <th>maint</th>\n",
       "      <th>doors</th>\n",
       "      <th>persons</th>\n",
       "      <th>lug_capacity</th>\n",
       "      <th>safety</th>\n",
       "      <th>output</th>\n",
       "    </tr>\n",
       "  </thead>\n",
       "  <tbody>\n",
       "    <tr>\n",
       "      <th>0</th>\n",
       "      <td>3</td>\n",
       "      <td>3</td>\n",
       "      <td>0</td>\n",
       "      <td>0</td>\n",
       "      <td>2</td>\n",
       "      <td>1</td>\n",
       "      <td>2</td>\n",
       "    </tr>\n",
       "    <tr>\n",
       "      <th>1</th>\n",
       "      <td>3</td>\n",
       "      <td>3</td>\n",
       "      <td>0</td>\n",
       "      <td>0</td>\n",
       "      <td>2</td>\n",
       "      <td>2</td>\n",
       "      <td>2</td>\n",
       "    </tr>\n",
       "    <tr>\n",
       "      <th>2</th>\n",
       "      <td>3</td>\n",
       "      <td>3</td>\n",
       "      <td>0</td>\n",
       "      <td>0</td>\n",
       "      <td>2</td>\n",
       "      <td>0</td>\n",
       "      <td>2</td>\n",
       "    </tr>\n",
       "    <tr>\n",
       "      <th>3</th>\n",
       "      <td>3</td>\n",
       "      <td>3</td>\n",
       "      <td>0</td>\n",
       "      <td>0</td>\n",
       "      <td>1</td>\n",
       "      <td>1</td>\n",
       "      <td>2</td>\n",
       "    </tr>\n",
       "    <tr>\n",
       "      <th>4</th>\n",
       "      <td>3</td>\n",
       "      <td>3</td>\n",
       "      <td>0</td>\n",
       "      <td>0</td>\n",
       "      <td>1</td>\n",
       "      <td>2</td>\n",
       "      <td>2</td>\n",
       "    </tr>\n",
       "    <tr>\n",
       "      <th>...</th>\n",
       "      <td>...</td>\n",
       "      <td>...</td>\n",
       "      <td>...</td>\n",
       "      <td>...</td>\n",
       "      <td>...</td>\n",
       "      <td>...</td>\n",
       "      <td>...</td>\n",
       "    </tr>\n",
       "    <tr>\n",
       "      <th>1723</th>\n",
       "      <td>1</td>\n",
       "      <td>1</td>\n",
       "      <td>3</td>\n",
       "      <td>2</td>\n",
       "      <td>1</td>\n",
       "      <td>2</td>\n",
       "      <td>1</td>\n",
       "    </tr>\n",
       "    <tr>\n",
       "      <th>1724</th>\n",
       "      <td>1</td>\n",
       "      <td>1</td>\n",
       "      <td>3</td>\n",
       "      <td>2</td>\n",
       "      <td>1</td>\n",
       "      <td>0</td>\n",
       "      <td>3</td>\n",
       "    </tr>\n",
       "    <tr>\n",
       "      <th>1725</th>\n",
       "      <td>1</td>\n",
       "      <td>1</td>\n",
       "      <td>3</td>\n",
       "      <td>2</td>\n",
       "      <td>0</td>\n",
       "      <td>1</td>\n",
       "      <td>2</td>\n",
       "    </tr>\n",
       "    <tr>\n",
       "      <th>1726</th>\n",
       "      <td>1</td>\n",
       "      <td>1</td>\n",
       "      <td>3</td>\n",
       "      <td>2</td>\n",
       "      <td>0</td>\n",
       "      <td>2</td>\n",
       "      <td>1</td>\n",
       "    </tr>\n",
       "    <tr>\n",
       "      <th>1727</th>\n",
       "      <td>1</td>\n",
       "      <td>1</td>\n",
       "      <td>3</td>\n",
       "      <td>2</td>\n",
       "      <td>0</td>\n",
       "      <td>0</td>\n",
       "      <td>3</td>\n",
       "    </tr>\n",
       "  </tbody>\n",
       "</table>\n",
       "<p>1728 rows × 7 columns</p>\n",
       "</div>"
      ],
      "text/plain": [
       "      price  maint  doors  persons  lug_capacity  safety  output\n",
       "0         3      3      0        0             2       1       2\n",
       "1         3      3      0        0             2       2       2\n",
       "2         3      3      0        0             2       0       2\n",
       "3         3      3      0        0             1       1       2\n",
       "4         3      3      0        0             1       2       2\n",
       "...     ...    ...    ...      ...           ...     ...     ...\n",
       "1723      1      1      3        2             1       2       1\n",
       "1724      1      1      3        2             1       0       3\n",
       "1725      1      1      3        2             0       1       2\n",
       "1726      1      1      3        2             0       2       1\n",
       "1727      1      1      3        2             0       0       3\n",
       "\n",
       "[1728 rows x 7 columns]"
      ]
     },
     "execution_count": 21,
     "metadata": {},
     "output_type": "execute_result"
    }
   ],
   "source": [
    "data"
   ]
  },
  {
   "cell_type": "code",
   "execution_count": 22,
   "id": "4326ed22",
   "metadata": {},
   "outputs": [],
   "source": [
    "X = data.drop('output', axis=1).values\n",
    "y = data['output'].values"
   ]
  },
  {
   "cell_type": "code",
   "execution_count": 24,
   "id": "216bf438",
   "metadata": {},
   "outputs": [],
   "source": [
    "import pandas as pd\n",
    "from sklearn.model_selection import train_test_split\n",
    "from sklearn.preprocessing import StandardScaler\n",
    "\n",
    "# Standardize the data\n",
    "scaler = StandardScaler()\n",
    "X = scaler.fit_transform(X)\n",
    "\n",
    "# Split the dataset into training and test sets\n",
    "X_train, X_test, y_train, y_test = train_test_split(X, y, test_size=0.2, random_state=0)"
   ]
  },
  {
   "cell_type": "code",
   "execution_count": 25,
   "id": "5bde4792",
   "metadata": {},
   "outputs": [
    {
     "data": {
      "text/plain": [
       "((1382, 6), (346, 6), (1382,), (346,))"
      ]
     },
     "execution_count": 25,
     "metadata": {},
     "output_type": "execute_result"
    }
   ],
   "source": [
    "X_train.shape, X_test.shape, y_train.shape, y_test.shape, "
   ]
  },
  {
   "cell_type": "code",
   "execution_count": 26,
   "id": "14bead79",
   "metadata": {},
   "outputs": [],
   "source": [
    "X_train = torch.tensor(X_train, dtype=torch.float32)\n",
    "y_train = torch.tensor(y_train, dtype=torch.int64)\n",
    "X_test = torch.tensor(X_test, dtype=torch.float32)\n",
    "y_test = torch.tensor(y_test, dtype=torch.int64)"
   ]
  },
  {
   "cell_type": "code",
   "execution_count": 27,
   "id": "56351f76",
   "metadata": {},
   "outputs": [
    {
     "data": {
      "text/plain": [
       "tensor([[-0.4472, -0.4472, -0.4472, -1.2247,  1.2247, -1.2247],\n",
       "        [-0.4472, -1.3416,  0.4472, -1.2247, -1.2247,  1.2247],\n",
       "        [ 1.3416, -0.4472, -0.4472,  0.0000,  1.2247,  1.2247],\n",
       "        ...,\n",
       "        [-0.4472, -0.4472, -0.4472, -1.2247, -1.2247,  0.0000],\n",
       "        [-1.3416, -1.3416, -1.3416,  1.2247,  1.2247,  1.2247],\n",
       "        [-1.3416,  0.4472, -0.4472,  0.0000,  1.2247,  0.0000]])"
      ]
     },
     "execution_count": 27,
     "metadata": {},
     "output_type": "execute_result"
    }
   ],
   "source": [
    "X_train"
   ]
  },
  {
   "cell_type": "code",
   "execution_count": 28,
   "id": "c60690df",
   "metadata": {},
   "outputs": [
    {
     "data": {
      "text/plain": [
       "tensor([2, 2, 2, 2, 2, 1, 2, 0, 0, 2, 2, 2, 0, 2, 2, 0, 2, 2, 0, 2, 1, 0, 0, 2,\n",
       "        2, 2, 2, 2, 2, 2, 1, 0, 2, 0, 1, 2, 2, 2, 2, 2, 2, 2, 2, 2, 3, 2, 2, 0,\n",
       "        2, 2, 2, 2, 2, 2, 2, 2, 2, 2, 2, 0, 0, 2, 2, 2, 2, 0, 2, 2, 2, 2, 2, 0,\n",
       "        0, 0, 0, 0, 2, 0, 0, 2, 0, 0, 0, 2, 2, 2, 2, 1, 2, 2, 2, 0, 2, 2, 2, 3,\n",
       "        2, 0, 0, 2, 2, 2, 0, 2, 3, 0, 2, 0, 2, 2, 2, 2, 2, 0, 2, 1, 0, 2, 2, 2,\n",
       "        2, 2, 3, 2, 2, 2, 2, 0, 1, 2, 2, 2, 0, 2, 2, 2, 2, 2, 2, 2, 2, 2, 2, 0,\n",
       "        2, 2, 0, 2, 0, 0, 0, 0, 2, 2, 2, 0, 2, 2, 2, 2, 0, 2, 2, 2, 0, 2, 2, 2,\n",
       "        2, 2, 2, 2, 2, 2, 0, 2, 2, 2, 2, 2, 0, 0, 0, 2, 0, 2, 1, 2, 2, 2, 2, 0,\n",
       "        2, 2, 2, 0, 2, 1, 2, 2, 2, 2, 0, 2, 2, 2, 2, 2, 2, 2, 2, 0, 2, 2, 2, 2,\n",
       "        2, 0, 2, 2, 2, 0, 2, 3, 2, 2, 2, 3, 2, 2, 2, 2, 0, 2, 2, 2, 2, 2, 2, 2,\n",
       "        2, 2, 2, 2, 1, 2, 0, 2, 2, 2, 2, 2, 1, 0, 0, 0, 0, 2, 2, 2, 0, 2, 2, 0,\n",
       "        2, 2, 3, 2, 0, 2, 2, 2, 0, 2, 0, 2, 2, 2, 2, 2, 2, 2, 0, 2, 2, 0, 2, 3,\n",
       "        1, 2, 2, 2, 2, 2, 2, 2, 2, 2, 2, 0, 2, 0, 0, 1, 1, 2, 0, 2, 0, 2, 1, 0,\n",
       "        2, 2, 2, 2, 2, 2, 2, 0, 2, 2, 0, 2, 0, 0, 2, 2, 2, 2, 0, 2, 1, 2, 1, 2,\n",
       "        2, 2, 3, 2, 2, 3, 2, 0, 2, 0])"
      ]
     },
     "execution_count": 28,
     "metadata": {},
     "output_type": "execute_result"
    }
   ],
   "source": [
    "y_test"
   ]
  },
  {
   "cell_type": "code",
   "execution_count": 29,
   "id": "5319fe1f",
   "metadata": {},
   "outputs": [],
   "source": [
    "train_dataset = TensorDataset(X_train, y_train)\n",
    "train_dataloader = DataLoader(train_dataset, batch_size=32, shuffle=True)\n",
    "\n",
    "test_dataset = TensorDataset(X_test, y_test)\n",
    "test_dataloader = DataLoader(test_dataset, batch_size=32, shuffle=False)"
   ]
  },
  {
   "cell_type": "code",
   "execution_count": 30,
   "id": "712a2212",
   "metadata": {},
   "outputs": [
    {
     "data": {
      "text/plain": [
       "(torch.Size([1382, 6]),\n",
       " torch.Size([346, 6]),\n",
       " torch.Size([1382]),\n",
       " torch.Size([346]))"
      ]
     },
     "execution_count": 30,
     "metadata": {},
     "output_type": "execute_result"
    }
   ],
   "source": [
    "X_train.shape, X_test.shape, y_train.shape, y_test.shape"
   ]
  },
  {
   "cell_type": "code",
   "execution_count": 36,
   "id": "602c1924",
   "metadata": {},
   "outputs": [],
   "source": [
    "# 모델을 정의\n",
    "\n",
    "import torch.nn as nn\n",
    "import torch\n",
    "\n",
    "class CarEvaluationDense(nn.Module):\n",
    "    def __init__(self):\n",
    "        # 부모 클래스의 생성자를 호출하여 초기화\n",
    "        super(CarEvaluationDense, self).__init__()\n",
    "        # 첫 번째 전결합 층 정의: 입력 크기 6, 출력 크기 64\n",
    "        self.fc1 = nn.Linear(6, 64)\n",
    "        # 두 번째 전결합 층 정의: 입력 크기 64, 출력 크기 32\n",
    "        self.fc2 = nn.Linear(64, 32)\n",
    "        # 세 번째 전결합 층 정의: 입력 크기 32, 출력 크기 4 (4개의 클래스)\n",
    "        self.fc3 = nn.Linear(32, 4)\n",
    "    \n",
    "    def forward(self, x):\n",
    "        # 첫 번째 전결합 층에 ReLU 활성화 함수 적용\n",
    "        x = torch.relu(self.fc1(x))\n",
    "        # 두 번째 전결합 층에 ReLU 활성화 함수 적용\n",
    "        x = torch.relu(self.fc2(x))\n",
    "        # 세 번째 전결합 층을 통해 출력 (활성화 함수 없음, 원시 로그잇 값 반환)\n",
    "        x = self.fc3(x)\n",
    "        return x\n",
    "\n",
    "# 모델, 손실 함수, 최적화 함수 초기화\n",
    "model = CarEvaluationDense()"
   ]
  },
  {
   "cell_type": "code",
   "execution_count": 37,
   "id": "dcf12201",
   "metadata": {},
   "outputs": [],
   "source": [
    "import torch.optim as optim\n",
    "\n",
    "# 손실 함수 정의: 다중 클래스 분류 문제에 사용되는 교차 엔트로피 손실 함수\n",
    "criterion = nn.CrossEntropyLoss()\n",
    "\n",
    "# 최적화 함수 정의: Adam 옵티마이저를 사용하여 학습, 학습률은 0.001로 설정\n",
    "optimizer = optim.Adam(model.parameters(), lr=0.001)"
   ]
  },
  {
   "cell_type": "code",
   "execution_count": 33,
   "id": "343325cf",
   "metadata": {},
   "outputs": [
    {
     "name": "stdout",
     "output_type": "stream",
     "text": [
      "Epoch 1/20, Loss: 1.0319, Accuracy: 69.36%\n",
      "Epoch 2/20, Loss: 0.7397, Accuracy: 69.08%\n",
      "Epoch 3/20, Loss: 0.6668, Accuracy: 69.08%\n",
      "Epoch 4/20, Loss: 0.6046, Accuracy: 69.36%\n",
      "Epoch 5/20, Loss: 0.5511, Accuracy: 71.97%\n",
      "Epoch 6/20, Loss: 0.4906, Accuracy: 76.01%\n",
      "Epoch 7/20, Loss: 0.4532, Accuracy: 79.19%\n",
      "Epoch 8/20, Loss: 0.4078, Accuracy: 80.92%\n",
      "Epoch 9/20, Loss: 0.3663, Accuracy: 85.84%\n",
      "Epoch 10/20, Loss: 0.3401, Accuracy: 87.28%\n",
      "Epoch 11/20, Loss: 0.3048, Accuracy: 87.57%\n",
      "Epoch 12/20, Loss: 0.2815, Accuracy: 86.42%\n",
      "Epoch 13/20, Loss: 0.2627, Accuracy: 88.73%\n",
      "Epoch 14/20, Loss: 0.2505, Accuracy: 86.71%\n",
      "Epoch 15/20, Loss: 0.2347, Accuracy: 89.60%\n",
      "Epoch 16/20, Loss: 0.2264, Accuracy: 90.17%\n",
      "Epoch 17/20, Loss: 0.2063, Accuracy: 89.88%\n",
      "Epoch 18/20, Loss: 0.1935, Accuracy: 89.60%\n",
      "Epoch 19/20, Loss: 0.1813, Accuracy: 89.88%\n",
      "Epoch 20/20, Loss: 0.1745, Accuracy: 91.04%\n",
      "Training complete.\n"
     ]
    }
   ],
   "source": [
    "# 학습 손실과 테스트 정확도를 저장할 변수를 초기화\n",
    "train_losses = []\n",
    "test_accuracies = []\n",
    "\n",
    "# 학습 루프\n",
    "num_epochs = 20\n",
    "for epoch in range(num_epochs):\n",
    "    model.train()  # 모델을 학습 모드로 설정\n",
    "    running_loss = 0.0\n",
    "    \n",
    "    # 훈련 데이터 배치 단위로 반복\n",
    "    for inputs, labels in train_dataloader:\n",
    "        optimizer.zero_grad()  # 파라미터 기울기를 초기화\n",
    "\n",
    "        # 순전파\n",
    "        outputs = model(inputs)\n",
    "        loss = criterion(outputs, labels)\n",
    "\n",
    "        # 역전파 및 최적화\n",
    "        loss.backward()\n",
    "        optimizer.step()\n",
    "\n",
    "        running_loss += loss.item()\n",
    "\n",
    "    # 에포크 당 평균 손실을 계산하여 저장\n",
    "    train_losses.append(running_loss / len(train_dataloader))\n",
    "\n",
    "    # 테스트 데이터 평가\n",
    "    model.eval()  # 모델을 평가 모드로 설정\n",
    "    correct = 0\n",
    "    total = 0\n",
    "    \n",
    "    with torch.no_grad():  # 평가 시 기울기 계산 비활성화\n",
    "        for inputs, labels in test_dataloader:\n",
    "            outputs = model(inputs)\n",
    "            _, predicted = torch.max(outputs.data, 1)\n",
    "            total += labels.size(0)\n",
    "            correct += (predicted == labels).sum().item()\n",
    "\n",
    "    # 정확도 계산 및 저장\n",
    "    accuracy = 100 * correct / total\n",
    "    test_accuracies.append(accuracy)\n",
    "\n",
    "    # 에포크 별 손실과 정확도 출력\n",
    "    print(f\"Epoch {epoch + 1}/{num_epochs}, Loss: {train_losses[-1]:.4f}, Accuracy: {accuracy:.2f}%\")\n",
    "\n",
    "print(\"Training complete.\")"
   ]
  },
  {
   "cell_type": "code",
   "execution_count": 34,
   "id": "46be11bc",
   "metadata": {},
   "outputs": [
    {
     "name": "stdout",
     "output_type": "stream",
     "text": [
      "Confusion Matrix:\n",
      "[[ 73   0   4   2]\n",
      " [ 14   2   0   1]\n",
      " [  8   0 232   0]\n",
      " [  2   0   0   8]]\n",
      "F1 Score: 0.90\n",
      "Precision: 0.92\n",
      "Recall: 0.91\n",
      "Specificity: 0.97\n"
     ]
    }
   ],
   "source": [
    "\n",
    "# Evaluation\n",
    "model.eval()\n",
    "all_labels = []\n",
    "all_predictions = []\n",
    "with torch.no_grad():\n",
    "    for inputs, labels in test_dataloader:\n",
    "        outputs = model(inputs)\n",
    "        _, predicted = torch.max(outputs.data, 1)\n",
    "        all_labels.extend(labels.cpu().numpy())\n",
    "        all_predictions.extend(predicted.cpu().numpy())\n",
    "\n",
    "# Convert to numpy arrays\n",
    "all_labels = np.array(all_labels)\n",
    "all_predictions = np.array(all_predictions)\n",
    "\n",
    "# Calculate metrics\n",
    "conf_matrix = confusion_matrix(all_labels, all_predictions)\n",
    "f1 = f1_score(all_labels, all_predictions, average='weighted')\n",
    "precision = precision_score(all_labels, all_predictions, average='weighted')\n",
    "recall = recall_score(all_labels, all_predictions, average='weighted')\n",
    "\n",
    "# Calculate specificity for each class\n",
    "specificity = []\n",
    "for i in range(conf_matrix.shape[0]):\n",
    "    tn = conf_matrix.sum() - (conf_matrix[i, :].sum() + conf_matrix[:, i].sum() - conf_matrix[i, i])\n",
    "    fp = conf_matrix[:, i].sum() - conf_matrix[i, i]\n",
    "    specificity.append(tn / (tn + fp))\n",
    "\n",
    "print(f'Confusion Matrix:\\n{conf_matrix}')\n",
    "print(f'F1 Score: {f1:.2f}')\n",
    "print(f'Precision: {precision:.2f}')\n",
    "print(f'Recall: {recall:.2f}')\n",
    "print(f'Specificity: {np.mean(specificity):.2f}')"
   ]
  },
  {
   "cell_type": "code",
   "execution_count": 35,
   "id": "2d81229a",
   "metadata": {},
   "outputs": [
    {
     "data": {
      "image/png": "[encoded data removed]",
      "text/plain": [
       "<Figure size 1200x500 with 2 Axes>"
      ]
     },
     "metadata": {},
     "output_type": "display_data"
    }
   ],
   "source": [
    "\n",
    "# Plot the loss and accuracy\n",
    "plt.figure(figsize=(12, 5))\n",
    "\n",
    "# Plot loss\n",
    "plt.subplot(1, 2, 1)\n",
    "plt.plot(train_losses, label='Training Loss')\n",
    "plt.xlabel('Epoch')\n",
    "plt.ylabel('Loss')\n",
    "plt.title('Training Loss Over Epochs')\n",
    "plt.legend()\n",
    "\n",
    "# Plot accuracy\n",
    "plt.subplot(1, 2, 2)\n",
    "plt.plot(test_accuracies, label='Test Accuracy')\n",
    "plt.xlabel('Epoch')\n",
    "plt.ylabel('Accuracy (%)')\n",
    "plt.title('Test Accuracy Over Epochs')\n",
    "plt.legend()\n",
    "\n",
    "plt.show()"
   ]
  },
  {
   "cell_type": "code",
   "execution_count": 97,
   "id": "8858d56a",
   "metadata": {},
   "outputs": [],
   "source": [
    "# 데이터와 타겟 분리\n",
    "X = data.drop('output', axis=1).values\n",
    "y = data['output'].values"
   ]
  },
  {
   "cell_type": "code",
   "execution_count": 98,
   "id": "b6502a94",
   "metadata": {},
   "outputs": [],
   "source": [
    "# Standardize the data\n",
    "scaler = StandardScaler()\n",
    "X = scaler.fit_transform(X)"
   ]
  },
  {
   "cell_type": "code",
   "execution_count": 99,
   "id": "5bc676ae",
   "metadata": {},
   "outputs": [],
   "source": [
    "data_array = np.hstack((X, y.reshape(-1, 1)))\n"
   ]
  },
  {
   "cell_type": "code",
   "execution_count": 100,
   "id": "b9a12a83",
   "metadata": {},
   "outputs": [
    {
     "data": {
      "text/plain": [
       "(1728, 7)"
      ]
     },
     "execution_count": 100,
     "metadata": {},
     "output_type": "execute_result"
    }
   ],
   "source": [
    "data_array.shape\n"
   ]
  },
  {
   "cell_type": "code",
   "execution_count": 101,
   "id": "6bdad159",
   "metadata": {},
   "outputs": [],
   "source": [
    "# Split sequences function\n",
    "def split_sequences(sequences, n_steps):\n",
    "    X, y = list(), list()\n",
    "    for i in range(len(sequences)):\n",
    "        end_ix = i + n_steps\n",
    "        if end_ix > len(sequences):\n",
    "            break\n",
    "        seq_x, seq_y = sequences[i:end_ix, :-1], sequences[end_ix-1, -1]\n",
    "        X.append(seq_x)\n",
    "        y.append(seq_y)\n",
    "    return np.array(X), np.array(y)\n",
    "\n",
    "# Apply sequence transformation\n",
    "n_steps = 5\n",
    "X, y = split_sequences(data_array, n_steps)\n",
    "\n",
    "# Split the dataset into training and test sets\n",
    "X_train, X_test, y_train, y_test = train_test_split(X, y, test_size=0.2, random_state=0)"
   ]
  },
  {
   "cell_type": "code",
   "execution_count": 102,
   "id": "8ac9ab24",
   "metadata": {},
   "outputs": [
    {
     "data": {
      "text/plain": [
       "((1379, 5, 6), (1379,), (345, 5, 6), (345,))"
      ]
     },
     "execution_count": 102,
     "metadata": {},
     "output_type": "execute_result"
    }
   ],
   "source": [
    "X_train.shape, y_train.shape, X_test.shape, y_test.shape, "
   ]
  },
  {
   "cell_type": "code",
   "execution_count": 103,
   "id": "79c78e68",
   "metadata": {},
   "outputs": [],
   "source": [
    "# Convert to PyTorch tensors\n",
    "X_train = torch.tensor(X_train, dtype=torch.float32)\n",
    "y_train = torch.tensor(y_train, dtype=torch.int64)\n",
    "X_test = torch.tensor(X_test, dtype=torch.float32)\n",
    "y_test = torch.tensor(y_test, dtype=torch.int64)\n",
    "\n",
    "# Create DataLoader\n",
    "train_dataset = TensorDataset(X_train, y_train)\n",
    "train_dataloader = DataLoader(train_dataset, batch_size=32, shuffle=True)\n",
    "\n",
    "test_dataset = TensorDataset(X_test, y_test)\n",
    "test_dataloader = DataLoader(test_dataset, batch_size=32, shuffle=False)"
   ]
  },
  {
   "cell_type": "code",
   "execution_count": 104,
   "id": "1b5585b2",
   "metadata": {},
   "outputs": [
    {
     "name": "stderr",
     "output_type": "stream",
     "text": [
      "/tmp/ipykernel_118/2875005953.py:5: UserWarning: To copy construct from a tensor, it is recommended to use sourceTensor.clone().detach() or sourceTensor.clone().detach().requires_grad_(True), rather than torch.tensor(sourceTensor).\n",
      "  X_train = torch.tensor(X_train, dtype=torch.float32)\n",
      "/tmp/ipykernel_118/2875005953.py:6: UserWarning: To copy construct from a tensor, it is recommended to use sourceTensor.clone().detach() or sourceTensor.clone().detach().requires_grad_(True), rather than torch.tensor(sourceTensor).\n",
      "  y_train = torch.tensor(y_train, dtype=torch.int64)\n",
      "/tmp/ipykernel_118/2875005953.py:7: UserWarning: To copy construct from a tensor, it is recommended to use sourceTensor.clone().detach() or sourceTensor.clone().detach().requires_grad_(True), rather than torch.tensor(sourceTensor).\n",
      "  X_test = torch.tensor(X_test, dtype=torch.float32)\n",
      "/tmp/ipykernel_118/2875005953.py:8: UserWarning: To copy construct from a tensor, it is recommended to use sourceTensor.clone().detach() or sourceTensor.clone().detach().requires_grad_(True), rather than torch.tensor(sourceTensor).\n",
      "  y_test = torch.tensor(y_test, dtype=torch.int64)\n"
     ]
    }
   ],
   "source": [
    "from torch.utils.data import DataLoader, TensorDataset\n",
    "import torch\n",
    "\n",
    "# 예시 데이터가 NumPy 배열이라고 가정, PyTorch 텐서로 변환\n",
    "X_train = torch.tensor(X_train, dtype=torch.float32)\n",
    "y_train = torch.tensor(y_train, dtype=torch.int64)\n",
    "X_test = torch.tensor(X_test, dtype=torch.float32)\n",
    "y_test = torch.tensor(y_test, dtype=torch.int64)\n",
    "\n",
    "# TensorDataset 객체 생성\n",
    "train_dataset = TensorDataset(X_train, y_train)\n",
    "test_dataset = TensorDataset(X_test, y_test)\n",
    "\n",
    "# DataLoader 객체 생성\n",
    "train_dataloader = DataLoader(train_dataset, batch_size=32, shuffle=True, num_workers=4)\n",
    "test_dataloader = DataLoader(test_dataset, batch_size=32, shuffle=False, num_workers=4)"
   ]
  },
  {
   "cell_type": "code",
   "execution_count": 105,
   "id": "de017f18",
   "metadata": {},
   "outputs": [],
   "source": [
    "# Define the 1D CNN model\n",
    "class CarEvaluationCNN(nn.Module):\n",
    "    def __init__(self):\n",
    "        super(CarEvaluationCNN, self).__init__()\n",
    "        self.conv1 = nn.Conv1d(6, 16, kernel_size=3, padding=1)  # Change input channels to 6\n",
    "        self.conv2 = nn.Conv1d(16, 32, kernel_size=3, padding=1)\n",
    "        self.fc1 = nn.Linear(32 * 5, 64)  # Adjust the linear layer input size accordingly\n",
    "        self.fc2 = nn.Linear(64, 4)  # 4 classes in the dataset\n",
    "    \n",
    "    def forward(self, x):\n",
    "        x = torch.relu(self.conv1(x))\n",
    "        x = torch.relu(self.conv2(x))\n",
    "        x = x.view(x.size(0), -1)\n",
    "        x = torch.relu(self.fc1(x))\n",
    "        x = self.fc2(x)\n",
    "        return x"
   ]
  },
  {
   "cell_type": "code",
   "execution_count": 106,
   "id": "ea7b32db",
   "metadata": {},
   "outputs": [],
   "source": [
    "model = CarEvaluationCNN()\n"
   ]
  },
  {
   "cell_type": "code",
   "execution_count": 107,
   "id": "b222820d",
   "metadata": {},
   "outputs": [],
   "source": [
    "model = model.to('cuda')  # 또는 model.cuda() 사용"
   ]
  },
  {
   "cell_type": "code",
   "execution_count": 108,
   "id": "546c8c9b",
   "metadata": {
    "scrolled": true
   },
   "outputs": [
    {
     "name": "stdout",
     "output_type": "stream",
     "text": [
      "----------------------------------------------------------------\n",
      "        Layer (type)               Output Shape         Param #\n",
      "================================================================\n",
      "            Conv1d-1                [-1, 16, 5]             304\n",
      "            Conv1d-2                [-1, 32, 5]           1,568\n",
      "            Linear-3                   [-1, 64]          10,304\n",
      "            Linear-4                    [-1, 4]             260\n",
      "================================================================\n",
      "Total params: 12,436\n",
      "Trainable params: 12,436\n",
      "Non-trainable params: 0\n",
      "----------------------------------------------------------------\n",
      "Input size (MB): 0.00\n",
      "Forward/backward pass size (MB): 0.00\n",
      "Params size (MB): 0.05\n",
      "Estimated Total Size (MB): 0.05\n",
      "----------------------------------------------------------------\n"
     ]
    }
   ],
   "source": [
    "# Print the summary of the model\n",
    "summary(model, input_size=(6, 5))"
   ]
  },
  {
   "cell_type": "code",
   "execution_count": 109,
   "id": "73898547",
   "metadata": {},
   "outputs": [],
   "source": [
    "criterion = nn.CrossEntropyLoss()\n",
    "optimizer = optim.Adam(model.parameters(), lr=0.001)\n",
    "\n",
    "# Variables to store loss and accuracy\n",
    "train_losses = []\n",
    "test_accuracies = []"
   ]
  },
  {
   "cell_type": "code",
   "execution_count": 110,
   "id": "1c41f8c2",
   "metadata": {},
   "outputs": [
    {
     "name": "stdout",
     "output_type": "stream",
     "text": [
      "Epoch 1/20, Loss: 0.9219, Accuracy: 72.17%\n",
      "Epoch 2/20, Loss: 0.6385, Accuracy: 75.07%\n",
      "Epoch 3/20, Loss: 0.4880, Accuracy: 79.13%\n",
      "Epoch 4/20, Loss: 0.4045, Accuracy: 81.45%\n",
      "Epoch 5/20, Loss: 0.3254, Accuracy: 84.93%\n",
      "Epoch 6/20, Loss: 0.2883, Accuracy: 83.48%\n",
      "Epoch 7/20, Loss: 0.2223, Accuracy: 88.99%\n",
      "Epoch 8/20, Loss: 0.1981, Accuracy: 91.59%\n",
      "Epoch 9/20, Loss: 0.1547, Accuracy: 93.04%\n",
      "Epoch 10/20, Loss: 0.1275, Accuracy: 94.78%\n",
      "Epoch 11/20, Loss: 0.1080, Accuracy: 96.52%\n",
      "Epoch 12/20, Loss: 0.0971, Accuracy: 94.78%\n",
      "Epoch 13/20, Loss: 0.0951, Accuracy: 95.94%\n",
      "Epoch 14/20, Loss: 0.0747, Accuracy: 97.39%\n",
      "Epoch 15/20, Loss: 0.0708, Accuracy: 98.26%\n",
      "Epoch 16/20, Loss: 0.0633, Accuracy: 97.68%\n",
      "Epoch 17/20, Loss: 0.0599, Accuracy: 97.68%\n",
      "Epoch 18/20, Loss: 0.0444, Accuracy: 98.26%\n",
      "Epoch 19/20, Loss: 0.0443, Accuracy: 98.55%\n",
      "Epoch 20/20, Loss: 0.0374, Accuracy: 98.55%\n",
      "Training complete.\n"
     ]
    }
   ],
   "source": [
    "# 훈련 에포크 수를 설정합니다.\n",
    "num_epochs = 20\n",
    "\n",
    "# 각 에포크마다 반복합니다.\n",
    "for epoch in range(num_epochs):\n",
    "    model.train()  # 모델을 훈련 모드로 설정합니다. 이는 일부 레이어(예: 드롭아웃, 배치 정규화)가 훈련 동안에만 활성화되어야 함을 의미합니다.\n",
    "    running_loss = 0.0  # 현재 에포크의 누적 손실을 추적합니다.\n",
    "\n",
    "    # 훈련 데이터 로더를 통해 반복합니다.\n",
    "    for inputs, labels in train_dataloader:\n",
    "        inputs, labels = inputs.to(device), labels.to(device)  # 입력 데이터와 레이블을 모델이 있는 같은 장치(CPU/GPU)로 이동합니다.\n",
    "\n",
    "        optimizer.zero_grad()  # 옵티마이저의 모든 학습 가능한 파라미터의 기울기를 0으로 설정합니다. 이는 새로운 미니배치의 기울기를 정확히 계산하기 위해 필요합니다.\n",
    "\n",
    "        # 순전파 단계: 모델에 입력을 전달하고 출력을 받습니다.\n",
    "        inputs = inputs.permute(0, 2, 1)  # 입력 데이터의 차원을 조정합니다 (배치 크기, 채널, 시퀀스 길이).\n",
    "        outputs = model(inputs)  # 모델을 통해 입력을 전달하여 출력을 받습니다.\n",
    "        loss = criterion(outputs, labels)  # 출력과 레이블을 비교하여 손실을 계산합니다.\n",
    "\n",
    "        # 역전파 단계: 손실에 대한 모델의 파라미터의 기울기를 계산합니다.\n",
    "        loss.backward()\n",
    "        optimizer.step()  # 옵티마이저를 사용하여 파라미터를 업데이트합니다.\n",
    "\n",
    "        running_loss += loss.item()  # 현재 미니배치의 손실을 누적 손실에 추가합니다.\n",
    "\n",
    "    # 현재 에포크에서 평균 손실을 계산합니다.\n",
    "    train_losses.append(running_loss / len(train_dataloader))\n",
    "\n",
    "    # 평가 모드로 모델을 설정합니다.\n",
    "    model.eval()\n",
    "    correct = 0  # 정확하게 분류된 샘플 수를 추적합니다.\n",
    "    total = 0  # 전체 샘플 수를 추적합니다.\n",
    "    all_labels = []  # 테스트 중인 모든 레이블을 저장합니다.\n",
    "    all_predictions = []  # 모든 예측을 저장합니다.\n",
    "    \n",
    "    # 테스트 데이터 로더를 통해 반복하면서 모델을 평가합니다.\n",
    "    with torch.no_grad():  # 기울기 계산을 비활성화하여 메모리 사용량을 줄이고 계산 속도를 높입니다.\n",
    "        for inputs, labels in test_dataloader:\n",
    "            inputs, labels = inputs.to(device), labels.to(device)\n",
    "            inputs = inputs.permute(0, 2, 1)\n",
    "            outputs = model(inputs)\n",
    "            _, predicted = torch.max(outputs.data, 1)\n",
    "            total += labels.size(0)\n",
    "            correct += (predicted == labels).sum().item()\n",
    "            all_labels.extend(labels.cpu().numpy())\n",
    "            all_predictions.extend(predicted.cpu().numpy())\n",
    "\n",
    "    # 에포크에 대한 정확도를 계산합니다.\n",
    "    accuracy = 100 * correct / total\n",
    "    test_accuracies.append(accuracy)\n",
    "\n",
    "    # 에포크의 결과를 출력합니다.\n",
    "    print(f\"Epoch {epoch + 1}/{num_epochs}, Loss: {train_losses[-1]:.4f}, Accuracy: {accuracy:.2f}%\")\n",
    "\n",
    "# 전체 훈련이 완료된 후 메시지를 출력합니다.\n",
    "print(\"Training complete.\")"
   ]
  },
  {
   "cell_type": "code",
   "execution_count": 113,
   "id": "efd5770d",
   "metadata": {},
   "outputs": [
    {
     "name": "stdout",
     "output_type": "stream",
     "text": [
      "Confusion Matrix:\n",
      "[[ 58   2   2   0]\n",
      " [  0  15   0   0]\n",
      " [  1   0 248   0]\n",
      " [  0   0   0  19]]\n",
      "F1 Score: 0.99\n",
      "Precision: 0.99\n",
      "Recall: 0.99\n",
      "Specificity: 0.99\n"
     ]
    },
    {
     "data": {
      "image/png": "[encoded data removed]",
      "text/plain": [
       "<Figure size 1200x500 with 2 Axes>"
      ]
     },
     "metadata": {},
     "output_type": "display_data"
    }
   ],
   "source": [
    "import numpy as np\n",
    "import matplotlib.pyplot as plt\n",
    "from sklearn.metrics import confusion_matrix, f1_score, precision_score, recall_score\n",
    "\n",
    "# 리스트를 NumPy 배열로 변환\n",
    "all_labels = np.array(all_labels)\n",
    "all_predictions = np.array(all_predictions)\n",
    "\n",
    "# 성능 지표 계산\n",
    "conf_matrix = confusion_matrix(all_labels, all_predictions)  # 혼동 행렬 계산\n",
    "f1 = f1_score(all_labels, all_predictions, average='weighted')  # F1 점수 계산\n",
    "precision = precision_score(all_labels, all_predictions, average='weighted')  # 정밀도 계산\n",
    "recall = recall_score(all_labels, all_predictions, average='weighted')  # 재현율 계산\n",
    "\n",
    "# 각 클래스에 대한 특이도 계산\n",
    "specificity = []\n",
    "for i in range(conf_matrix.shape[0]):\n",
    "    tn = conf_matrix.sum() - (conf_matrix[i, :].sum() + conf_matrix[:, i].sum() - conf_matrix[i, i])  # 참 음성 계산\n",
    "    fp = conf_matrix[:, i].sum() - conf_matrix[i, i]  # 거짓 양성 계산\n",
    "    specificity.append(tn / (tn + fp))  # 특이도 계산\n",
    "\n",
    "# 성능 지표 출력\n",
    "print(f'Confusion Matrix:\\n{conf_matrix}')\n",
    "print(f'F1 Score: {f1:.2f}')\n",
    "print(f'Precision: {precision:.2f}')\n",
    "print(f'Recall: {recall:.2f}')\n",
    "print(f'Specificity: {np.mean(specificity):.2f}')\n",
    "\n",
    "# 손실 및 정확도 그래프 플로팅\n",
    "plt.figure(figsize=(12, 5))\n",
    "\n",
    "# 손실 그래프\n",
    "plt.subplot(1, 2, 1)\n",
    "plt.plot(train_losses, label='Training Loss')\n",
    "plt.xlabel('Epoch')\n",
    "plt.ylabel('Loss')\n",
    "plt.title('Training Loss Over Epochs')\n",
    "plt.legend()\n",
    "\n",
    "# 정확도 그래프\n",
    "plt.subplot(1, 2, 2)\n",
    "plt.plot(test_accuracies, label='Test Accuracy')\n",
    "plt.xlabel('Epoch')\n",
    "plt.ylabel('Accuracy (%)')\n",
    "plt.title('Test Accuracy Over Epochs')\n",
    "plt.legend()\n",
    "\n",
    "plt.show()  # 그래프 표시"
   ]
  },
  {
   "cell_type": "code",
   "execution_count": null,
   "id": "08b18d96",
   "metadata": {},
   "outputs": [],
   "source": []
  }
 ],
 "metadata": {
  "kernelspec": {
   "display_name": "PyTorch 2.2 (NGC 23.11/Python 3.10) on Backend.AI",
   "language": "python",
   "name": "python3"
  },
  "language_info": {
   "codemirror_mode": {
    "name": "ipython",
    "version": 3
   },
   "file_extension": ".py",
   "mimetype": "text/x-python",
   "name": "python",
   "nbconvert_exporter": "python",
   "pygments_lexer": "ipython3",
   "version": "3.10.12"
  }
 },
 "nbformat": 4,
 "nbformat_minor": 5
}
