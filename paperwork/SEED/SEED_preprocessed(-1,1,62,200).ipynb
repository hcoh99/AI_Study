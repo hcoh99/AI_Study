{
 "cells": [
  {
   "cell_type": "markdown",
   "id": "b597e2ba",
   "metadata": {},
   "source": [
    "https://github.com/kanhaoning/Self-supervised-group-meiosis-contrastive-learning-for-EEG-based-emotion-recognition?tab=readme-ov-file"
   ]
  },
  {
   "cell_type": "code",
   "execution_count": 123,
   "id": "107d50b0",
   "metadata": {
    "scrolled": false
   },
   "outputs": [
    {
     "data": {
      "text/html": [
       "<div>\n",
       "<style scoped>\n",
       "    .dataframe tbody tr th:only-of-type {\n",
       "        vertical-align: middle;\n",
       "    }\n",
       "\n",
       "    .dataframe tbody tr th {\n",
       "        vertical-align: top;\n",
       "    }\n",
       "\n",
       "    .dataframe thead th {\n",
       "        text-align: right;\n",
       "    }\n",
       "</style>\n",
       "<table border=\"1\" class=\"dataframe\">\n",
       "  <thead>\n",
       "    <tr style=\"text-align: right;\">\n",
       "      <th></th>\n",
       "      <th>0</th>\n",
       "      <th>1</th>\n",
       "      <th>2</th>\n",
       "      <th>3</th>\n",
       "      <th>4</th>\n",
       "      <th>5</th>\n",
       "      <th>6</th>\n",
       "      <th>7</th>\n",
       "      <th>8</th>\n",
       "      <th>9</th>\n",
       "      <th>...</th>\n",
       "      <th>54</th>\n",
       "      <th>55</th>\n",
       "      <th>56</th>\n",
       "      <th>57</th>\n",
       "      <th>58</th>\n",
       "      <th>59</th>\n",
       "      <th>60</th>\n",
       "      <th>61</th>\n",
       "      <th>label</th>\n",
       "      <th>file</th>\n",
       "    </tr>\n",
       "  </thead>\n",
       "  <tbody>\n",
       "    <tr>\n",
       "      <th>0</th>\n",
       "      <td>-19.282103</td>\n",
       "      <td>11.920929</td>\n",
       "      <td>0.566244</td>\n",
       "      <td>-31.620264</td>\n",
       "      <td>-18.179417</td>\n",
       "      <td>3.129244</td>\n",
       "      <td>-24.169683</td>\n",
       "      <td>-23.305416</td>\n",
       "      <td>-15.854836</td>\n",
       "      <td>-16.301870</td>\n",
       "      <td>...</td>\n",
       "      <td>-7.212162</td>\n",
       "      <td>7.599592</td>\n",
       "      <td>2.413988</td>\n",
       "      <td>10.311604</td>\n",
       "      <td>9.894371</td>\n",
       "      <td>3.457069</td>\n",
       "      <td>5.245209</td>\n",
       "      <td>9.089708</td>\n",
       "      <td>1</td>\n",
       "      <td>10_20131130.mat</td>\n",
       "    </tr>\n",
       "    <tr>\n",
       "      <th>1</th>\n",
       "      <td>-9.298325</td>\n",
       "      <td>20.533800</td>\n",
       "      <td>18.805265</td>\n",
       "      <td>-31.411648</td>\n",
       "      <td>-1.043081</td>\n",
       "      <td>14.007092</td>\n",
       "      <td>-18.477440</td>\n",
       "      <td>-19.043684</td>\n",
       "      <td>-9.566545</td>\n",
       "      <td>-10.997057</td>\n",
       "      <td>...</td>\n",
       "      <td>2.861023</td>\n",
       "      <td>20.056963</td>\n",
       "      <td>17.523766</td>\n",
       "      <td>2.950430</td>\n",
       "      <td>8.463860</td>\n",
       "      <td>10.728836</td>\n",
       "      <td>11.771917</td>\n",
       "      <td>6.347895</td>\n",
       "      <td>1</td>\n",
       "      <td>10_20131130.mat</td>\n",
       "    </tr>\n",
       "    <tr>\n",
       "      <th>2</th>\n",
       "      <td>-25.779009</td>\n",
       "      <td>11.414289</td>\n",
       "      <td>-11.086464</td>\n",
       "      <td>-37.610531</td>\n",
       "      <td>-7.927418</td>\n",
       "      <td>6.139278</td>\n",
       "      <td>-24.557114</td>\n",
       "      <td>-22.530556</td>\n",
       "      <td>-16.152859</td>\n",
       "      <td>-14.036894</td>\n",
       "      <td>...</td>\n",
       "      <td>-15.705824</td>\n",
       "      <td>-2.682209</td>\n",
       "      <td>-4.678965</td>\n",
       "      <td>2.890825</td>\n",
       "      <td>4.917383</td>\n",
       "      <td>-6.794930</td>\n",
       "      <td>-3.665686</td>\n",
       "      <td>1.162291</td>\n",
       "      <td>1</td>\n",
       "      <td>10_20131130.mat</td>\n",
       "    </tr>\n",
       "    <tr>\n",
       "      <th>3</th>\n",
       "      <td>-0.685453</td>\n",
       "      <td>13.530254</td>\n",
       "      <td>-4.529953</td>\n",
       "      <td>-30.815601</td>\n",
       "      <td>-16.301870</td>\n",
       "      <td>9.626150</td>\n",
       "      <td>-21.576881</td>\n",
       "      <td>-18.298626</td>\n",
       "      <td>-12.338161</td>\n",
       "      <td>-12.964010</td>\n",
       "      <td>...</td>\n",
       "      <td>-5.632639</td>\n",
       "      <td>11.235476</td>\n",
       "      <td>9.506941</td>\n",
       "      <td>10.848045</td>\n",
       "      <td>9.447336</td>\n",
       "      <td>1.966953</td>\n",
       "      <td>10.997057</td>\n",
       "      <td>9.596348</td>\n",
       "      <td>1</td>\n",
       "      <td>10_20131130.mat</td>\n",
       "    </tr>\n",
       "    <tr>\n",
       "      <th>4</th>\n",
       "      <td>-13.232231</td>\n",
       "      <td>12.338161</td>\n",
       "      <td>-3.606081</td>\n",
       "      <td>-37.342310</td>\n",
       "      <td>-32.335520</td>\n",
       "      <td>11.503696</td>\n",
       "      <td>-22.411346</td>\n",
       "      <td>-20.533800</td>\n",
       "      <td>-18.000603</td>\n",
       "      <td>-19.878149</td>\n",
       "      <td>...</td>\n",
       "      <td>-7.003546</td>\n",
       "      <td>15.050173</td>\n",
       "      <td>11.175871</td>\n",
       "      <td>7.003546</td>\n",
       "      <td>5.811453</td>\n",
       "      <td>0.923872</td>\n",
       "      <td>6.765127</td>\n",
       "      <td>11.205673</td>\n",
       "      <td>1</td>\n",
       "      <td>10_20131130.mat</td>\n",
       "    </tr>\n",
       "    <tr>\n",
       "      <th>...</th>\n",
       "      <td>...</td>\n",
       "      <td>...</td>\n",
       "      <td>...</td>\n",
       "      <td>...</td>\n",
       "      <td>...</td>\n",
       "      <td>...</td>\n",
       "      <td>...</td>\n",
       "      <td>...</td>\n",
       "      <td>...</td>\n",
       "      <td>...</td>\n",
       "      <td>...</td>\n",
       "      <td>...</td>\n",
       "      <td>...</td>\n",
       "      <td>...</td>\n",
       "      <td>...</td>\n",
       "      <td>...</td>\n",
       "      <td>...</td>\n",
       "      <td>...</td>\n",
       "      <td>...</td>\n",
       "      <td>...</td>\n",
       "      <td>...</td>\n",
       "    </tr>\n",
       "    <tr>\n",
       "      <th>2036440</th>\n",
       "      <td>132.858753</td>\n",
       "      <td>286.757946</td>\n",
       "      <td>179.082155</td>\n",
       "      <td>38.623810</td>\n",
       "      <td>-42.468309</td>\n",
       "      <td>104.010105</td>\n",
       "      <td>44.733286</td>\n",
       "      <td>30.398369</td>\n",
       "      <td>-18.209219</td>\n",
       "      <td>-18.507242</td>\n",
       "      <td>...</td>\n",
       "      <td>11.563301</td>\n",
       "      <td>28.222799</td>\n",
       "      <td>27.805567</td>\n",
       "      <td>3.457069</td>\n",
       "      <td>33.348799</td>\n",
       "      <td>53.942204</td>\n",
       "      <td>49.322844</td>\n",
       "      <td>47.206879</td>\n",
       "      <td>-1</td>\n",
       "      <td>10_20131204.mat</td>\n",
       "    </tr>\n",
       "    <tr>\n",
       "      <th>2036441</th>\n",
       "      <td>132.948160</td>\n",
       "      <td>276.178122</td>\n",
       "      <td>164.449215</td>\n",
       "      <td>32.722950</td>\n",
       "      <td>-37.401915</td>\n",
       "      <td>55.044889</td>\n",
       "      <td>51.617622</td>\n",
       "      <td>35.643578</td>\n",
       "      <td>-18.656254</td>\n",
       "      <td>-19.997358</td>\n",
       "      <td>...</td>\n",
       "      <td>2.443790</td>\n",
       "      <td>18.715858</td>\n",
       "      <td>18.149614</td>\n",
       "      <td>0.059605</td>\n",
       "      <td>32.424927</td>\n",
       "      <td>50.514936</td>\n",
       "      <td>40.650368</td>\n",
       "      <td>43.004751</td>\n",
       "      <td>-1</td>\n",
       "      <td>10_20131204.mat</td>\n",
       "    </tr>\n",
       "    <tr>\n",
       "      <th>2036442</th>\n",
       "      <td>146.448612</td>\n",
       "      <td>307.440758</td>\n",
       "      <td>146.150589</td>\n",
       "      <td>52.452087</td>\n",
       "      <td>-27.745962</td>\n",
       "      <td>-45.746565</td>\n",
       "      <td>23.484230</td>\n",
       "      <td>25.957823</td>\n",
       "      <td>-18.924475</td>\n",
       "      <td>-16.540289</td>\n",
       "      <td>...</td>\n",
       "      <td>9.804964</td>\n",
       "      <td>29.236078</td>\n",
       "      <td>29.861927</td>\n",
       "      <td>10.132790</td>\n",
       "      <td>33.050776</td>\n",
       "      <td>59.068203</td>\n",
       "      <td>54.925680</td>\n",
       "      <td>51.975250</td>\n",
       "      <td>-1</td>\n",
       "      <td>10_20131204.mat</td>\n",
       "    </tr>\n",
       "    <tr>\n",
       "      <th>2036443</th>\n",
       "      <td>116.020441</td>\n",
       "      <td>286.281109</td>\n",
       "      <td>154.942274</td>\n",
       "      <td>61.839819</td>\n",
       "      <td>-36.865473</td>\n",
       "      <td>-212.192535</td>\n",
       "      <td>64.641237</td>\n",
       "      <td>46.402216</td>\n",
       "      <td>-11.056662</td>\n",
       "      <td>-13.649464</td>\n",
       "      <td>...</td>\n",
       "      <td>1.162291</td>\n",
       "      <td>19.788742</td>\n",
       "      <td>19.162893</td>\n",
       "      <td>-0.178814</td>\n",
       "      <td>31.113625</td>\n",
       "      <td>49.769878</td>\n",
       "      <td>46.163797</td>\n",
       "      <td>48.071146</td>\n",
       "      <td>-1</td>\n",
       "      <td>10_20131204.mat</td>\n",
       "    </tr>\n",
       "    <tr>\n",
       "      <th>2036444</th>\n",
       "      <td>138.550997</td>\n",
       "      <td>301.837921</td>\n",
       "      <td>190.287828</td>\n",
       "      <td>42.319298</td>\n",
       "      <td>-43.660402</td>\n",
       "      <td>-177.979469</td>\n",
       "      <td>38.862228</td>\n",
       "      <td>33.766031</td>\n",
       "      <td>-18.149614</td>\n",
       "      <td>-16.480684</td>\n",
       "      <td>...</td>\n",
       "      <td>4.529953</td>\n",
       "      <td>17.374754</td>\n",
       "      <td>16.242266</td>\n",
       "      <td>12.308359</td>\n",
       "      <td>43.064356</td>\n",
       "      <td>60.826540</td>\n",
       "      <td>45.001507</td>\n",
       "      <td>43.213367</td>\n",
       "      <td>-1</td>\n",
       "      <td>10_20131204.mat</td>\n",
       "    </tr>\n",
       "  </tbody>\n",
       "</table>\n",
       "<p>2036445 rows × 64 columns</p>\n",
       "</div>"
      ],
      "text/plain": [
       "                  0           1           2          3          4           5  \\\n",
       "0        -19.282103   11.920929    0.566244 -31.620264 -18.179417    3.129244   \n",
       "1         -9.298325   20.533800   18.805265 -31.411648  -1.043081   14.007092   \n",
       "2        -25.779009   11.414289  -11.086464 -37.610531  -7.927418    6.139278   \n",
       "3         -0.685453   13.530254   -4.529953 -30.815601 -16.301870    9.626150   \n",
       "4        -13.232231   12.338161   -3.606081 -37.342310 -32.335520   11.503696   \n",
       "...             ...         ...         ...        ...        ...         ...   \n",
       "2036440  132.858753  286.757946  179.082155  38.623810 -42.468309  104.010105   \n",
       "2036441  132.948160  276.178122  164.449215  32.722950 -37.401915   55.044889   \n",
       "2036442  146.448612  307.440758  146.150589  52.452087 -27.745962  -45.746565   \n",
       "2036443  116.020441  286.281109  154.942274  61.839819 -36.865473 -212.192535   \n",
       "2036444  138.550997  301.837921  190.287828  42.319298 -43.660402 -177.979469   \n",
       "\n",
       "                 6          7          8          9  ...         54  \\\n",
       "0       -24.169683 -23.305416 -15.854836 -16.301870  ...  -7.212162   \n",
       "1       -18.477440 -19.043684  -9.566545 -10.997057  ...   2.861023   \n",
       "2       -24.557114 -22.530556 -16.152859 -14.036894  ... -15.705824   \n",
       "3       -21.576881 -18.298626 -12.338161 -12.964010  ...  -5.632639   \n",
       "4       -22.411346 -20.533800 -18.000603 -19.878149  ...  -7.003546   \n",
       "...            ...        ...        ...        ...  ...        ...   \n",
       "2036440  44.733286  30.398369 -18.209219 -18.507242  ...  11.563301   \n",
       "2036441  51.617622  35.643578 -18.656254 -19.997358  ...   2.443790   \n",
       "2036442  23.484230  25.957823 -18.924475 -16.540289  ...   9.804964   \n",
       "2036443  64.641237  46.402216 -11.056662 -13.649464  ...   1.162291   \n",
       "2036444  38.862228  33.766031 -18.149614 -16.480684  ...   4.529953   \n",
       "\n",
       "                55         56         57         58         59         60  \\\n",
       "0         7.599592   2.413988  10.311604   9.894371   3.457069   5.245209   \n",
       "1        20.056963  17.523766   2.950430   8.463860  10.728836  11.771917   \n",
       "2        -2.682209  -4.678965   2.890825   4.917383  -6.794930  -3.665686   \n",
       "3        11.235476   9.506941  10.848045   9.447336   1.966953  10.997057   \n",
       "4        15.050173  11.175871   7.003546   5.811453   0.923872   6.765127   \n",
       "...            ...        ...        ...        ...        ...        ...   \n",
       "2036440  28.222799  27.805567   3.457069  33.348799  53.942204  49.322844   \n",
       "2036441  18.715858  18.149614   0.059605  32.424927  50.514936  40.650368   \n",
       "2036442  29.236078  29.861927  10.132790  33.050776  59.068203  54.925680   \n",
       "2036443  19.788742  19.162893  -0.178814  31.113625  49.769878  46.163797   \n",
       "2036444  17.374754  16.242266  12.308359  43.064356  60.826540  45.001507   \n",
       "\n",
       "                61  label             file  \n",
       "0         9.089708      1  10_20131130.mat  \n",
       "1         6.347895      1  10_20131130.mat  \n",
       "2         1.162291      1  10_20131130.mat  \n",
       "3         9.596348      1  10_20131130.mat  \n",
       "4        11.205673      1  10_20131130.mat  \n",
       "...            ...    ...              ...  \n",
       "2036440  47.206879     -1  10_20131204.mat  \n",
       "2036441  43.004751     -1  10_20131204.mat  \n",
       "2036442  51.975250     -1  10_20131204.mat  \n",
       "2036443  48.071146     -1  10_20131204.mat  \n",
       "2036444  43.213367     -1  10_20131204.mat  \n",
       "\n",
       "[2036445 rows x 64 columns]"
      ]
     },
     "execution_count": 123,
     "metadata": {},
     "output_type": "execute_result"
    }
   ],
   "source": [
    "import pandas as pd\n",
    "df = pd.read_csv('/home/work/HCOH/eeg_data_with_labels.csv')\n",
    "df"
   ]
  },
  {
   "cell_type": "code",
   "execution_count": 124,
   "id": "1c0d2718",
   "metadata": {},
   "outputs": [],
   "source": [
    "X = df.drop('label' , axis=1)"
   ]
  },
  {
   "cell_type": "code",
   "execution_count": 125,
   "id": "763d09ab",
   "metadata": {},
   "outputs": [],
   "source": [
    "X = X.drop('file' , axis = 1)"
   ]
  },
  {
   "cell_type": "code",
   "execution_count": 126,
   "id": "46b42a4f",
   "metadata": {},
   "outputs": [],
   "source": [
    "y = df['label']"
   ]
  },
  {
   "cell_type": "code",
   "execution_count": 127,
   "id": "18ddfdd0",
   "metadata": {},
   "outputs": [
    {
     "data": {
      "text/plain": [
       "array([ 1,  0, -1])"
      ]
     },
     "execution_count": 127,
     "metadata": {},
     "output_type": "execute_result"
    }
   ],
   "source": [
    "y.unique()"
   ]
  },
  {
   "cell_type": "code",
   "execution_count": 111,
   "id": "a064cd45",
   "metadata": {},
   "outputs": [],
   "source": [
    "labels = y"
   ]
  },
  {
   "cell_type": "code",
   "execution_count": 95,
   "id": "656888ec",
   "metadata": {},
   "outputs": [
    {
     "data": {
      "text/plain": [
       "array([3])"
      ]
     },
     "execution_count": 95,
     "metadata": {},
     "output_type": "execute_result"
    }
   ],
   "source": [
    "labels.unique()"
   ]
  },
  {
   "cell_type": "code",
   "execution_count": 87,
   "id": "6eef5135",
   "metadata": {},
   "outputs": [
    {
     "data": {
      "text/plain": [
       "(2036445,)"
      ]
     },
     "execution_count": 87,
     "metadata": {},
     "output_type": "execute_result"
    }
   ],
   "source": [
    "label.shape"
   ]
  },
  {
   "cell_type": "code",
   "execution_count": 88,
   "id": "fc858b91",
   "metadata": {},
   "outputs": [
    {
     "data": {
      "text/plain": [
       "(2036445, 64)"
      ]
     },
     "execution_count": 88,
     "metadata": {},
     "output_type": "execute_result"
    }
   ],
   "source": [
    "df.shape"
   ]
  },
  {
   "cell_type": "code",
   "execution_count": 90,
   "id": "7da59427",
   "metadata": {},
   "outputs": [],
   "source": [
    "\n",
    "import numpy as np\n",
    "import pandas as pd\n",
    "import seaborn as sns\n",
    "from sklearn.model_selection import train_test_split\n",
    "import tensorflow as tf\n",
    "from tensorflow import keras\n",
    "from sklearn.datasets import load_breast_cancer\n",
    "import pandas as pd\n",
    "import numpy as np\n",
    "import matplotlib.pyplot as plt\n",
    "from sklearn.model_selection import train_test_split\n",
    "from sklearn.preprocessing import StandardScaler, LabelEncoder\n",
    "from sklearn.neighbors import KNeighborsClassifier\n",
    "import seaborn as sns\n",
    "import numpy as np\n",
    "import pandas as pd\n",
    "import seaborn as sns\n",
    "from sklearn.model_selection import train_test_split\n",
    "import tensorflow as tf\n",
    "from tensorflow import keras\n",
    "\n",
    "import numpy as np\n",
    "import tensorflow as tf\n",
    "from tensorflow import keras\n",
    "\n",
    "import pandas as pd\n",
    "import seaborn as sns\n",
    "from pylab import rcParams\n",
    "import matplotlib.pyplot as plt\n",
    "from matplotlib import rc\n",
    "from pandas.plotting import register_matplotlib_converters\n",
    "from sklearn.model_selection import train_test_split\n",
    "from sklearn.metrics import precision_score, recall_score, f1_score\n"
   ]
  },
  {
   "cell_type": "code",
   "execution_count": 68,
   "id": "c827168a",
   "metadata": {},
   "outputs": [
    {
     "data": {
      "text/plain": [
       "(1, 62, 1)"
      ]
     },
     "execution_count": 68,
     "metadata": {},
     "output_type": "execute_result"
    }
   ],
   "source": [
    "\n",
    "#Epoch 500\n",
    "\n",
    "BATCH_SIZE = 32\n",
    "\n",
    "verbose,epochs,batch_size=1,10, BATCH_SIZE\n",
    "\n",
    "n_timesteps,n_features,n_outputs= x_train.shape[1],x_train.shape[2],y_train_hot.shape[1]\n",
    "n_timesteps,n_features,n_outputs"
   ]
  },
  {
   "cell_type": "code",
   "execution_count": 129,
   "id": "9e70e045",
   "metadata": {},
   "outputs": [
    {
     "name": "stdout",
     "output_type": "stream",
     "text": [
      "(7117, 1, 62, 200) (7117, 3) (1525, 1, 62, 200) (1525, 3)\n"
     ]
    },
    {
     "name": "stderr",
     "output_type": "stream",
     "text": [
      "/usr/local/lib/python3.10/dist-packages/sklearn/preprocessing/_encoders.py:808: FutureWarning: `sparse` was renamed to `sparse_output` in version 1.2 and will be removed in 1.4. `sparse_output` is ignored unless you leave `sparse` to its default value.\n",
      "  warnings.warn(\n"
     ]
    }
   ],
   "source": [
    "import numpy as np\n",
    "import pandas as pd\n",
    "import tensorflow as tf\n",
    "from sklearn.model_selection import train_test_split\n",
    "from sklearn.preprocessing import OneHotEncoder\n",
    "import matplotlib.pyplot as plt\n",
    "\n",
    "window_size = 200\n",
    "\n",
    "# y 값을 1, 2, 3으로 변환\n",
    "y = np.where(y == -1, 1, np.where(y == 0, 2, 3))\n",
    "\n",
    "# DataFrame으로 변환 (예시로 사용)\n",
    "df = pd.DataFrame(X)\n",
    "\n",
    "# 필요한 요소 수 계산\n",
    "total_elements = 10168 * 1 * 62 * 200  # 필요한 요소 수 계산\n",
    "required_elements = total_elements if total_elements <= df.values.size else df.values.size\n",
    "\n",
    "# 데이터 자르기 및 numpy 배열로 변환\n",
    "X = df.values.flatten()[:required_elements].reshape(-1, 62)\n",
    "\n",
    "# 윈도우로 나눈 데이터와 라벨 매핑\n",
    "segments = []\n",
    "segment_labels = []\n",
    "\n",
    "for i in range(0, X.shape[0] - window_size + 1, window_size):\n",
    "    segment = X[i:i + window_size, :]\n",
    "    segments.append(segment)\n",
    "    segment_labels.append(y[i])\n",
    "\n",
    "segments = np.array(segments)\n",
    "segments = segments.reshape(-1, 1, 62, 200)  # (N, 1, 62, 200)\n",
    "segment_labels = np.array(segment_labels)\n",
    "\n",
    "# 데이터셋 분할\n",
    "x_train, x_temp, y_train, y_temp = train_test_split(segments, segment_labels, test_size=0.3, random_state=42, stratify=segment_labels)\n",
    "x_test, x_val, y_test, y_val = train_test_split(x_temp, y_temp, test_size=0.5, random_state=42, stratify=y_temp)\n",
    "\n",
    "# OneHotEncoder 객체 생성\n",
    "enc = OneHotEncoder(handle_unknown=\"ignore\", sparse=False)\n",
    "\n",
    "# 학습 데이터에 OneHotEncoder 적용\n",
    "enc.fit(y_train.reshape(-1, 1))\n",
    "\n",
    "# 학습, 테스트 및 검증 데이터 변환\n",
    "y_train_hot = enc.transform(y_train.reshape(-1, 1))\n",
    "y_test_hot = enc.transform(y_test.reshape(-1, 1))\n",
    "y_val_hot = enc.transform(y_val.reshape(-1, 1))\n",
    "\n",
    "# 데이터의 모양 출력\n",
    "print(x_train.shape, y_train_hot.shape, x_test.shape, y_test_hot.shape)"
   ]
  },
  {
   "cell_type": "code",
   "execution_count": 131,
   "id": "60c24d5b",
   "metadata": {},
   "outputs": [
    {
     "name": "stdout",
     "output_type": "stream",
     "text": [
      "Model: \"sequential_18\"\n",
      "_________________________________________________________________\n",
      " Layer (type)                Output Shape              Param #   \n",
      "=================================================================\n",
      " conv2d_51 (Conv2D)          (None, 1, 62, 32)         57632     \n",
      "                                                                 \n",
      " max_pooling2d_43 (MaxPooli  (None, 1, 31, 32)         0         \n",
      " ng2D)                                                           \n",
      "                                                                 \n",
      " conv2d_52 (Conv2D)          (None, 1, 31, 64)         18496     \n",
      "                                                                 \n",
      " max_pooling2d_44 (MaxPooli  (None, 1, 16, 64)         0         \n",
      " ng2D)                                                           \n",
      "                                                                 \n",
      " conv2d_53 (Conv2D)          (None, 1, 16, 64)         36928     \n",
      "                                                                 \n",
      " max_pooling2d_45 (MaxPooli  (None, 1, 8, 64)          0         \n",
      " ng2D)                                                           \n",
      "                                                                 \n",
      " flatten_17 (Flatten)        (None, 512)               0         \n",
      "                                                                 \n",
      " dense_34 (Dense)            (None, 64)                32832     \n",
      "                                                                 \n",
      " dense_35 (Dense)            (None, 3)                 195       \n",
      "                                                                 \n",
      "=================================================================\n",
      "Total params: 146083 (570.64 KB)\n",
      "Trainable params: 146083 (570.64 KB)\n",
      "Non-trainable params: 0 (0.00 Byte)\n",
      "_________________________________________________________________\n"
     ]
    }
   ],
   "source": [
    "\n",
    "# CNN 모델 정의\n",
    "model = tf.keras.models.Sequential([\n",
    "    tf.keras.layers.Conv2D(128, (4, 4), activation='relu', input_shape=(1, 62, 200), padding='same'),\n",
    "    tf.keras.layers.MaxPooling2D((2, 2), padding='same'),\n",
    "    tf.keras.layers.Conv2D(128, (3, 3), activation='relu', padding='same'),\n",
    "    tf.keras.layers.MaxPooling2D((2, 2), padding='same'),\n",
    "    tf.keras.layers.Conv2D(64, (3, 3), activation='relu', padding='same'),\n",
    "    tf.keras.layers.MaxPooling2D((2, 2), padding='same'),\n",
    "    tf.keras.layers.Flatten(),\n",
    "    tf.keras.layers.Dense(64, activation='relu'),\n",
    "    tf.keras.layers.Dense(3, activation='softmax')  # 다중 클래스 분류를 위한 출력층\n",
    "])\n",
    "\n",
    "# 모델 컴파일\n",
    "model.compile(optimizer='adam',\n",
    "              loss='categorical_crossentropy',\n",
    "              metrics=['accuracy'])\n",
    "model.summary()"
   ]
  },
  {
   "cell_type": "code",
   "execution_count": 130,
   "id": "93d643eb",
   "metadata": {},
   "outputs": [
    {
     "data": {
      "image/png": "[encoded data removed]",
      "text/plain": [
       "<Figure size 640x480 with 1 Axes>"
      ]
     },
     "metadata": {},
     "output_type": "display_data"
    }
   ],
   "source": [
    "# 크기 맞춘 후 라벨 분포 시각화\n",
    "segment_labels_df = pd.DataFrame(segment_labels, columns=['label'])\n",
    "sns.countplot(x='label', data=segment_labels_df, order=segment_labels_df['label'].value_counts().index)\n",
    "plt.show()\n"
   ]
  },
  {
   "cell_type": "code",
   "execution_count": 132,
   "id": "67a55897",
   "metadata": {
    "scrolled": true
   },
   "outputs": [
    {
     "name": "stdout",
     "output_type": "stream",
     "text": [
      "Epoch 1/100\n",
      "112/112 [==============================] - 2s 6ms/step - loss: 1.4584 - accuracy: 0.3551 - val_loss: 1.1102 - val_accuracy: 0.3565\n",
      "Epoch 2/100\n",
      "112/112 [==============================] - 1s 4ms/step - loss: 1.0840 - accuracy: 0.4000 - val_loss: 1.1139 - val_accuracy: 0.3598\n",
      "Epoch 3/100\n",
      "112/112 [==============================] - 1s 4ms/step - loss: 1.0741 - accuracy: 0.4183 - val_loss: 1.1256 - val_accuracy: 0.3689\n",
      "Epoch 4/100\n",
      "112/112 [==============================] - 1s 4ms/step - loss: 1.0457 - accuracy: 0.4486 - val_loss: 1.1037 - val_accuracy: 0.3899\n",
      "Epoch 5/100\n",
      "112/112 [==============================] - 1s 5ms/step - loss: 1.0357 - accuracy: 0.4579 - val_loss: 1.0955 - val_accuracy: 0.4128\n",
      "Epoch 6/100\n",
      "112/112 [==============================] - 1s 4ms/step - loss: 0.9900 - accuracy: 0.5039 - val_loss: 1.1032 - val_accuracy: 0.4246\n",
      "Epoch 7/100\n",
      "112/112 [==============================] - 1s 5ms/step - loss: 0.9588 - accuracy: 0.5363 - val_loss: 1.0991 - val_accuracy: 0.4358\n",
      "Epoch 8/100\n",
      "112/112 [==============================] - 1s 5ms/step - loss: 0.9132 - accuracy: 0.5615 - val_loss: 1.1129 - val_accuracy: 0.4351\n",
      "Epoch 9/100\n",
      "112/112 [==============================] - 0s 4ms/step - loss: 0.8756 - accuracy: 0.5979 - val_loss: 1.1499 - val_accuracy: 0.4332\n",
      "Epoch 10/100\n",
      "112/112 [==============================] - 0s 4ms/step - loss: 0.8321 - accuracy: 0.6220 - val_loss: 1.1360 - val_accuracy: 0.4567\n",
      "Epoch 11/100\n",
      "112/112 [==============================] - 0s 4ms/step - loss: 0.7842 - accuracy: 0.6508 - val_loss: 1.1856 - val_accuracy: 0.4594\n",
      "Epoch 12/100\n",
      "112/112 [==============================] - 1s 4ms/step - loss: 0.7481 - accuracy: 0.6770 - val_loss: 1.3312 - val_accuracy: 0.4332\n",
      "Epoch 13/100\n",
      "112/112 [==============================] - 0s 4ms/step - loss: 0.7502 - accuracy: 0.6780 - val_loss: 1.2430 - val_accuracy: 0.4541\n",
      "Epoch 14/100\n",
      "112/112 [==============================] - 1s 4ms/step - loss: 0.6629 - accuracy: 0.7188 - val_loss: 1.2507 - val_accuracy: 0.4554\n",
      "Epoch 15/100\n",
      "112/112 [==============================] - 0s 4ms/step - loss: 0.6214 - accuracy: 0.7399 - val_loss: 1.2955 - val_accuracy: 0.4731\n",
      "Epoch 16/100\n",
      "112/112 [==============================] - 1s 5ms/step - loss: 0.5559 - accuracy: 0.7703 - val_loss: 1.4616 - val_accuracy: 0.4672\n",
      "Epoch 17/100\n",
      "112/112 [==============================] - 0s 4ms/step - loss: 0.5329 - accuracy: 0.7821 - val_loss: 1.5458 - val_accuracy: 0.4469\n",
      "Epoch 18/100\n",
      "112/112 [==============================] - 1s 5ms/step - loss: 0.5040 - accuracy: 0.8008 - val_loss: 1.6216 - val_accuracy: 0.4607\n",
      "Epoch 19/100\n",
      "112/112 [==============================] - 1s 4ms/step - loss: 0.4288 - accuracy: 0.8291 - val_loss: 1.6946 - val_accuracy: 0.4594\n",
      "Epoch 20/100\n",
      "112/112 [==============================] - 0s 4ms/step - loss: 0.3832 - accuracy: 0.8522 - val_loss: 1.8385 - val_accuracy: 0.4712\n",
      "Epoch 21/100\n",
      "112/112 [==============================] - 1s 4ms/step - loss: 0.3578 - accuracy: 0.8648 - val_loss: 1.9905 - val_accuracy: 0.4528\n",
      "Epoch 22/100\n",
      "112/112 [==============================] - 1s 5ms/step - loss: 0.3394 - accuracy: 0.8695 - val_loss: 1.8329 - val_accuracy: 0.4626\n",
      "Epoch 23/100\n",
      "112/112 [==============================] - 1s 5ms/step - loss: 0.3179 - accuracy: 0.8799 - val_loss: 2.1443 - val_accuracy: 0.4581\n",
      "Epoch 24/100\n",
      "112/112 [==============================] - 1s 5ms/step - loss: 0.2852 - accuracy: 0.8917 - val_loss: 2.0859 - val_accuracy: 0.4646\n",
      "Epoch 25/100\n",
      "112/112 [==============================] - 1s 5ms/step - loss: 0.2362 - accuracy: 0.9080 - val_loss: 2.2882 - val_accuracy: 0.4764\n",
      "Epoch 26/100\n",
      "112/112 [==============================] - 1s 5ms/step - loss: 0.3252 - accuracy: 0.8758 - val_loss: 2.1177 - val_accuracy: 0.4653\n",
      "Epoch 27/100\n",
      "112/112 [==============================] - 1s 5ms/step - loss: 0.2536 - accuracy: 0.9023 - val_loss: 2.3412 - val_accuracy: 0.4646\n",
      "Epoch 28/100\n",
      "112/112 [==============================] - 1s 5ms/step - loss: 0.1673 - accuracy: 0.9390 - val_loss: 2.5353 - val_accuracy: 0.4581\n",
      "Epoch 29/100\n",
      "112/112 [==============================] - 1s 5ms/step - loss: 0.1730 - accuracy: 0.9371 - val_loss: 2.6672 - val_accuracy: 0.4640\n",
      "Epoch 30/100\n",
      "112/112 [==============================] - 1s 4ms/step - loss: 0.1642 - accuracy: 0.9414 - val_loss: 2.6552 - val_accuracy: 0.4646\n",
      "Epoch 31/100\n",
      "112/112 [==============================] - 1s 5ms/step - loss: 0.1894 - accuracy: 0.9306 - val_loss: 2.7383 - val_accuracy: 0.4554\n",
      "Epoch 32/100\n",
      "112/112 [==============================] - 1s 5ms/step - loss: 0.2999 - accuracy: 0.8943 - val_loss: 2.2846 - val_accuracy: 0.4699\n",
      "Epoch 33/100\n",
      "112/112 [==============================] - 1s 5ms/step - loss: 0.1629 - accuracy: 0.9432 - val_loss: 2.6359 - val_accuracy: 0.4672\n",
      "Epoch 34/100\n",
      "112/112 [==============================] - 0s 4ms/step - loss: 0.2546 - accuracy: 0.9101 - val_loss: 2.4181 - val_accuracy: 0.4594\n",
      "Epoch 35/100\n",
      "112/112 [==============================] - 1s 5ms/step - loss: 0.1158 - accuracy: 0.9614 - val_loss: 2.8796 - val_accuracy: 0.4712\n",
      "Epoch 36/100\n",
      "112/112 [==============================] - 0s 4ms/step - loss: 0.1569 - accuracy: 0.9442 - val_loss: 2.9370 - val_accuracy: 0.4594\n",
      "Epoch 37/100\n",
      "112/112 [==============================] - 0s 4ms/step - loss: 0.1107 - accuracy: 0.9621 - val_loss: 3.1870 - val_accuracy: 0.4607\n",
      "Epoch 38/100\n",
      "112/112 [==============================] - 1s 5ms/step - loss: 0.1138 - accuracy: 0.9621 - val_loss: 3.3443 - val_accuracy: 0.4397\n",
      "Epoch 39/100\n",
      "112/112 [==============================] - 1s 5ms/step - loss: 0.1417 - accuracy: 0.9517 - val_loss: 3.0594 - val_accuracy: 0.4600\n",
      "Epoch 40/100\n",
      "112/112 [==============================] - 0s 4ms/step - loss: 0.1724 - accuracy: 0.9407 - val_loss: 2.8520 - val_accuracy: 0.4659\n",
      "Epoch 41/100\n",
      "112/112 [==============================] - 0s 4ms/step - loss: 0.1283 - accuracy: 0.9556 - val_loss: 3.3914 - val_accuracy: 0.4567\n",
      "Epoch 42/100\n",
      "112/112 [==============================] - 0s 4ms/step - loss: 0.0757 - accuracy: 0.9722 - val_loss: 3.3351 - val_accuracy: 0.4685\n",
      "Epoch 43/100\n",
      "112/112 [==============================] - 1s 5ms/step - loss: 0.0595 - accuracy: 0.9820 - val_loss: 3.9115 - val_accuracy: 0.4522\n",
      "Epoch 44/100\n",
      "112/112 [==============================] - 1s 5ms/step - loss: 0.1285 - accuracy: 0.9569 - val_loss: 3.1826 - val_accuracy: 0.4607\n",
      "Epoch 45/100\n",
      "112/112 [==============================] - 1s 4ms/step - loss: 0.2836 - accuracy: 0.9082 - val_loss: 2.6911 - val_accuracy: 0.4450\n",
      "Epoch 46/100\n",
      "112/112 [==============================] - 1s 4ms/step - loss: 0.1767 - accuracy: 0.9397 - val_loss: 3.1881 - val_accuracy: 0.4587\n",
      "Epoch 47/100\n",
      "112/112 [==============================] - 1s 5ms/step - loss: 0.0984 - accuracy: 0.9659 - val_loss: 3.3422 - val_accuracy: 0.4607\n",
      "Epoch 48/100\n",
      "112/112 [==============================] - 0s 4ms/step - loss: 0.0748 - accuracy: 0.9743 - val_loss: 3.0758 - val_accuracy: 0.4705\n",
      "Epoch 49/100\n",
      "112/112 [==============================] - 1s 5ms/step - loss: 0.0605 - accuracy: 0.9806 - val_loss: 3.6438 - val_accuracy: 0.4600\n",
      "Epoch 50/100\n",
      "112/112 [==============================] - 0s 4ms/step - loss: 0.1238 - accuracy: 0.9597 - val_loss: 3.2622 - val_accuracy: 0.4495\n",
      "Epoch 51/100\n",
      "112/112 [==============================] - 1s 4ms/step - loss: 0.1020 - accuracy: 0.9645 - val_loss: 3.4975 - val_accuracy: 0.4633\n",
      "Epoch 52/100\n",
      "112/112 [==============================] - 1s 4ms/step - loss: 0.0758 - accuracy: 0.9743 - val_loss: 3.6063 - val_accuracy: 0.4469\n",
      "Epoch 53/100\n",
      "112/112 [==============================] - 1s 4ms/step - loss: 0.1646 - accuracy: 0.9521 - val_loss: 3.2198 - val_accuracy: 0.4515\n",
      "Epoch 54/100\n",
      "112/112 [==============================] - 1s 5ms/step - loss: 0.3216 - accuracy: 0.8908 - val_loss: 2.8396 - val_accuracy: 0.4600\n",
      "Epoch 55/100\n",
      "112/112 [==============================] - 0s 4ms/step - loss: 0.0780 - accuracy: 0.9739 - val_loss: 3.2081 - val_accuracy: 0.4515\n",
      "Epoch 56/100\n",
      "112/112 [==============================] - 0s 4ms/step - loss: 0.0426 - accuracy: 0.9868 - val_loss: 3.4951 - val_accuracy: 0.4594\n",
      "Epoch 57/100\n",
      "112/112 [==============================] - 1s 5ms/step - loss: 0.0537 - accuracy: 0.9830 - val_loss: 4.0150 - val_accuracy: 0.4541\n",
      "Epoch 58/100\n",
      "112/112 [==============================] - 1s 5ms/step - loss: 0.1016 - accuracy: 0.9659 - val_loss: 3.4663 - val_accuracy: 0.4554\n",
      "Epoch 59/100\n",
      "112/112 [==============================] - 1s 4ms/step - loss: 0.1518 - accuracy: 0.9486 - val_loss: 3.4249 - val_accuracy: 0.4502\n",
      "Epoch 60/100\n",
      "112/112 [==============================] - 0s 4ms/step - loss: 0.0768 - accuracy: 0.9753 - val_loss: 3.4171 - val_accuracy: 0.4554\n",
      "Epoch 61/100\n",
      "112/112 [==============================] - 0s 4ms/step - loss: 0.0673 - accuracy: 0.9775 - val_loss: 3.7130 - val_accuracy: 0.4718\n",
      "Epoch 62/100\n",
      "112/112 [==============================] - 1s 4ms/step - loss: 0.1103 - accuracy: 0.9623 - val_loss: 3.8015 - val_accuracy: 0.4502\n",
      "Epoch 63/100\n",
      "112/112 [==============================] - 1s 5ms/step - loss: 0.0982 - accuracy: 0.9671 - val_loss: 3.4766 - val_accuracy: 0.4718\n",
      "Epoch 64/100\n",
      "112/112 [==============================] - 1s 5ms/step - loss: 0.1119 - accuracy: 0.9609 - val_loss: 3.8328 - val_accuracy: 0.4646\n",
      "Epoch 65/100\n",
      "112/112 [==============================] - 0s 4ms/step - loss: 0.0622 - accuracy: 0.9782 - val_loss: 4.0424 - val_accuracy: 0.4541\n",
      "Epoch 66/100\n",
      "112/112 [==============================] - 0s 4ms/step - loss: 0.0360 - accuracy: 0.9881 - val_loss: 4.3004 - val_accuracy: 0.4581\n",
      "Epoch 67/100\n",
      "112/112 [==============================] - 0s 4ms/step - loss: 0.0901 - accuracy: 0.9708 - val_loss: 4.1727 - val_accuracy: 0.4509\n",
      "Epoch 68/100\n",
      "112/112 [==============================] - 0s 4ms/step - loss: 0.1031 - accuracy: 0.9671 - val_loss: 3.7373 - val_accuracy: 0.4495\n",
      "Epoch 69/100\n",
      "112/112 [==============================] - 1s 5ms/step - loss: 0.1128 - accuracy: 0.9621 - val_loss: 3.5471 - val_accuracy: 0.4522\n",
      "Epoch 70/100\n",
      "112/112 [==============================] - 0s 4ms/step - loss: 0.0801 - accuracy: 0.9746 - val_loss: 3.8310 - val_accuracy: 0.4587\n",
      "Epoch 71/100\n",
      "112/112 [==============================] - 0s 4ms/step - loss: 0.1315 - accuracy: 0.9538 - val_loss: 3.5386 - val_accuracy: 0.4613\n",
      "Epoch 72/100\n",
      "112/112 [==============================] - 0s 4ms/step - loss: 0.1065 - accuracy: 0.9623 - val_loss: 3.5175 - val_accuracy: 0.4666\n",
      "Epoch 73/100\n",
      "112/112 [==============================] - 1s 4ms/step - loss: 0.0508 - accuracy: 0.9817 - val_loss: 3.9378 - val_accuracy: 0.4620\n",
      "Epoch 74/100\n",
      "112/112 [==============================] - 0s 4ms/step - loss: 0.0621 - accuracy: 0.9784 - val_loss: 3.9242 - val_accuracy: 0.4469\n",
      "Epoch 75/100\n",
      "112/112 [==============================] - 0s 4ms/step - loss: 0.0503 - accuracy: 0.9838 - val_loss: 4.2632 - val_accuracy: 0.4561\n",
      "Epoch 76/100\n",
      "112/112 [==============================] - 0s 4ms/step - loss: 0.0303 - accuracy: 0.9889 - val_loss: 4.3461 - val_accuracy: 0.4666\n",
      "Epoch 77/100\n",
      "112/112 [==============================] - 0s 4ms/step - loss: 0.0298 - accuracy: 0.9903 - val_loss: 4.3390 - val_accuracy: 0.4718\n",
      "Epoch 78/100\n",
      "112/112 [==============================] - 0s 4ms/step - loss: 0.0498 - accuracy: 0.9834 - val_loss: 4.3512 - val_accuracy: 0.4646\n",
      "Epoch 79/100\n",
      "112/112 [==============================] - 0s 4ms/step - loss: 0.1044 - accuracy: 0.9681 - val_loss: 4.0109 - val_accuracy: 0.4738\n",
      "Epoch 80/100\n",
      "112/112 [==============================] - 0s 4ms/step - loss: 0.0970 - accuracy: 0.9699 - val_loss: 3.9870 - val_accuracy: 0.4626\n",
      "Epoch 81/100\n",
      "112/112 [==============================] - 0s 4ms/step - loss: 0.1180 - accuracy: 0.9595 - val_loss: 3.5790 - val_accuracy: 0.4561\n",
      "Epoch 82/100\n",
      "112/112 [==============================] - 0s 4ms/step - loss: 0.0773 - accuracy: 0.9736 - val_loss: 3.6641 - val_accuracy: 0.4836\n",
      "Epoch 83/100\n",
      "112/112 [==============================] - 0s 4ms/step - loss: 0.0468 - accuracy: 0.9848 - val_loss: 3.9252 - val_accuracy: 0.4581\n",
      "Epoch 84/100\n",
      "112/112 [==============================] - 1s 5ms/step - loss: 0.0174 - accuracy: 0.9940 - val_loss: 4.3124 - val_accuracy: 0.4594\n",
      "Epoch 85/100\n",
      "112/112 [==============================] - 0s 4ms/step - loss: 0.0164 - accuracy: 0.9948 - val_loss: 4.4095 - val_accuracy: 0.4646\n",
      "Epoch 86/100\n",
      "112/112 [==============================] - 0s 4ms/step - loss: 0.0360 - accuracy: 0.9881 - val_loss: 4.1538 - val_accuracy: 0.4705\n",
      "Epoch 87/100\n",
      "112/112 [==============================] - 0s 4ms/step - loss: 0.0472 - accuracy: 0.9843 - val_loss: 4.6568 - val_accuracy: 0.4613\n",
      "Epoch 88/100\n",
      "112/112 [==============================] - 0s 4ms/step - loss: 0.1130 - accuracy: 0.9623 - val_loss: 3.7387 - val_accuracy: 0.4404\n",
      "Epoch 89/100\n",
      "112/112 [==============================] - 0s 4ms/step - loss: 0.0963 - accuracy: 0.9685 - val_loss: 3.7756 - val_accuracy: 0.4502\n",
      "Epoch 90/100\n",
      "112/112 [==============================] - 0s 4ms/step - loss: 0.0664 - accuracy: 0.9788 - val_loss: 4.0071 - val_accuracy: 0.4476\n",
      "Epoch 91/100\n",
      "112/112 [==============================] - 0s 4ms/step - loss: 0.0758 - accuracy: 0.9740 - val_loss: 3.5444 - val_accuracy: 0.4633\n",
      "Epoch 92/100\n",
      "112/112 [==============================] - 0s 4ms/step - loss: 0.0853 - accuracy: 0.9716 - val_loss: 3.6025 - val_accuracy: 0.4679\n",
      "Epoch 93/100\n",
      "112/112 [==============================] - 0s 4ms/step - loss: 0.0429 - accuracy: 0.9857 - val_loss: 4.4292 - val_accuracy: 0.4640\n",
      "Epoch 94/100\n",
      "112/112 [==============================] - 0s 4ms/step - loss: 0.0424 - accuracy: 0.9865 - val_loss: 4.4387 - val_accuracy: 0.4646\n",
      "Epoch 95/100\n",
      "112/112 [==============================] - 0s 4ms/step - loss: 0.1568 - accuracy: 0.9501 - val_loss: 3.4987 - val_accuracy: 0.4731\n",
      "Epoch 96/100\n",
      "112/112 [==============================] - 1s 5ms/step - loss: 0.0515 - accuracy: 0.9834 - val_loss: 3.7103 - val_accuracy: 0.4626\n",
      "Epoch 97/100\n",
      "112/112 [==============================] - 0s 4ms/step - loss: 0.0353 - accuracy: 0.9876 - val_loss: 4.2624 - val_accuracy: 0.4751\n",
      "Epoch 98/100\n",
      "112/112 [==============================] - 0s 4ms/step - loss: 0.0322 - accuracy: 0.9895 - val_loss: 4.5060 - val_accuracy: 0.4607\n",
      "Epoch 99/100\n",
      "112/112 [==============================] - 0s 4ms/step - loss: 0.0782 - accuracy: 0.9747 - val_loss: 3.9255 - val_accuracy: 0.4692\n",
      "Epoch 100/100\n",
      "112/112 [==============================] - 0s 4ms/step - loss: 0.1094 - accuracy: 0.9656 - val_loss: 3.7065 - val_accuracy: 0.4613\n"
     ]
    }
   ],
   "source": [
    "history = model.fit(x_train, y_train_hot, epochs=100, batch_size=64, validation_data=(x_val, y_val_hot), shuffle=True)"
   ]
  },
  {
   "cell_type": "code",
   "execution_count": 93,
   "id": "5bfb089a",
   "metadata": {},
   "outputs": [
    {
     "name": "stdout",
     "output_type": "stream",
     "text": [
      "y_train_hot shape: (7117, 1), y_test_hot shape: (1525, 1), y_val_hot shape: (1526, 1)\n"
     ]
    },
    {
     "name": "stderr",
     "output_type": "stream",
     "text": [
      "/usr/local/lib/python3.10/dist-packages/sklearn/preprocessing/_encoders.py:808: FutureWarning: `sparse` was renamed to `sparse_output` in version 1.2 and will be removed in 1.4. `sparse_output` is ignored unless you leave `sparse` to its default value.\n",
      "  warnings.warn(\n"
     ]
    }
   ],
   "source": [
    "# OneHotEncoder 객체 생성\n",
    "enc = OneHotEncoder(handle_unknown=\"ignore\", sparse=False)\n",
    "\n",
    "# 학습 데이터에 OneHotEncoder 적용\n",
    "enc.fit(y_train.reshape(-1, 1))\n",
    "\n",
    "# 학습, 테스트 및 검증 데이터 변환\n",
    "y_train_hot = enc.transform(y_train.reshape(-1, 1))\n",
    "y_test_hot = enc.transform(y_test.reshape(-1, 1))\n",
    "y_val_hot = enc.transform(y_val.reshape(-1, 1))\n",
    "\n",
    "# 변환된 라벨의 모양 출력\n",
    "print(f\"y_train_hot shape: {y_train_hot.shape}, y_test_hot shape: {y_test_hot.shape}, y_val_hot shape: {y_val_hot.shape}\")"
   ]
  },
  {
   "cell_type": "code",
   "execution_count": 133,
   "id": "68811572",
   "metadata": {},
   "outputs": [
    {
     "data": {
      "text/plain": [
       "<matplotlib.legend.Legend at 0x7f7da5543850>"
      ]
     },
     "execution_count": 133,
     "metadata": {},
     "output_type": "execute_result"
    },
    {
     "data": {
      "image/png": "[encoded data removed]",
      "text/plain": [
       "<Figure size 640x480 with 1 Axes>"
      ]
     },
     "metadata": {},
     "output_type": "display_data"
    }
   ],
   "source": [
    "import matplotlib.pyplot as plt\n",
    "plt.plot(history.history['loss'])\n",
    "plt.plot(history.history['val_loss'])\n",
    "plt.title('model loss')\n",
    "plt.ylabel('loss')\n",
    "plt.xlabel('epoch')\n",
    "plt.legend(['train', 'Validation'], loc='upper left')"
   ]
  },
  {
   "cell_type": "code",
   "execution_count": 134,
   "id": "aefead3e",
   "metadata": {},
   "outputs": [
    {
     "data": {
      "text/plain": [
       "<matplotlib.legend.Legend at 0x7f7da552a590>"
      ]
     },
     "execution_count": 134,
     "metadata": {},
     "output_type": "execute_result"
    },
    {
     "data": {
      "image/png": "[encoded data removed]",
      "text/plain": [
       "<Figure size 640x480 with 1 Axes>"
      ]
     },
     "metadata": {},
     "output_type": "display_data"
    }
   ],
   "source": [
    "plt.plot(history.history['accuracy'])\n",
    "plt.plot(history.history['val_accuracy'])\n",
    "plt.title('Training and validation accuracy')\n",
    "plt.ylabel('accuracy')\n",
    "plt.xlabel('epoch')\n",
    "plt.legend(['train', 'Validation'], loc='upper left')"
   ]
  },
  {
   "cell_type": "code",
   "execution_count": 138,
   "id": "266cc28b",
   "metadata": {},
   "outputs": [
    {
     "name": "stdout",
     "output_type": "stream",
     "text": [
      "48/48 [==============================] - 0s 2ms/step\n"
     ]
    }
   ],
   "source": [
    "\n",
    "from sklearn.metrics import confusion_matrix,classification_report,accuracy_score\n",
    "\n",
    "y_pred=model.predict(x_test)\n",
    "y_pred = np.argmax(y_pred, axis=-1)\n",
    "y_true = np.argmax(y_test_hot, axis=-1)"
   ]
  },
  {
   "cell_type": "code",
   "execution_count": 139,
   "id": "37489a4a",
   "metadata": {},
   "outputs": [
    {
     "name": "stdout",
     "output_type": "stream",
     "text": [
      "f1_score =  0.4754145025697094\n",
      "0.47737704918032786\n",
      "              precision    recall  f1-score   support\n",
      "\n",
      "           0       0.46      0.40      0.43       502\n",
      "           1       0.48      0.56      0.51       497\n",
      "           2       0.49      0.47      0.48       526\n",
      "\n",
      "    accuracy                           0.48      1525\n",
      "   macro avg       0.48      0.48      0.48      1525\n",
      "weighted avg       0.48      0.48      0.48      1525\n",
      "\n"
     ]
    }
   ],
   "source": [
    "print('f1_score = ', f1_score(y_true, y_pred, average='weighted'))\n",
    "print(accuracy_score(y_true,y_pred))\n",
    "print(classification_report(y_true,y_pred))"
   ]
  },
  {
   "cell_type": "code",
   "execution_count": 157,
   "id": "75c1d934",
   "metadata": {},
   "outputs": [
    {
     "name": "stdout",
     "output_type": "stream",
     "text": [
      "Model: \"sequential_32\"\n",
      "_________________________________________________________________\n",
      " Layer (type)                Output Shape              Param #   \n",
      "=================================================================\n",
      " conv2d_90 (Conv2D)          (None, 1, 62, 32)         57632     \n",
      "                                                                 \n",
      " conv2d_91 (Conv2D)          (None, 1, 62, 64)         18496     \n",
      "                                                                 \n",
      " conv2d_92 (Conv2D)          (None, 1, 62, 64)         36928     \n",
      "                                                                 \n",
      " flatten_27 (Flatten)        (None, 3968)              0         \n",
      "                                                                 \n",
      " reshape_12 (Reshape)        (None, 31, 128)           0         \n",
      "                                                                 \n",
      " lstm_24 (LSTM)              (None, 31, 128)           131584    \n",
      "                                                                 \n",
      " lstm_25 (LSTM)              (None, 128)               131584    \n",
      "                                                                 \n",
      " dense_60 (Dense)            (None, 100)               12900     \n",
      "                                                                 \n",
      " dense_61 (Dense)            (None, 3)                 303       \n",
      "                                                                 \n",
      "=================================================================\n",
      "Total params: 389427 (1.49 MB)\n",
      "Trainable params: 389427 (1.49 MB)\n",
      "Non-trainable params: 0 (0.00 Byte)\n",
      "_________________________________________________________________\n"
     ]
    }
   ],
   "source": [
    "# CNN + LSTM 모델 정의 (MaxPooling 층 제거)\n",
    "model = tf.keras.models.Sequential([\n",
    "    # Conv2D 층\n",
    "    tf.keras.layers.Conv2D(32, (3, 3), activation='relu', input_shape=(1, 62, 200), padding='same'),\n",
    "    tf.keras.layers.Conv2D(64, (3, 3), activation='relu', padding='same'),\n",
    "    tf.keras.layers.Conv2D(64, (3, 3), activation='relu', padding='same'),\n",
    "\n",
    "    # Conv2D 층의 출력을 Flatten 후 Reshape\n",
    "    tf.keras.layers.Flatten(),\n",
    "    tf.keras.layers.Reshape((-1, 128)),  # (batch_size, steps, features)\n",
    "\n",
    "    # LSTM 층\n",
    "    tf.keras.layers.LSTM(128, return_sequences=True),\n",
    "    tf.keras.layers.LSTM(128),\n",
    "\n",
    "    # Dense 층\n",
    "    tf.keras.layers.Dense(100, activation='relu'),\n",
    "    tf.keras.layers.Dense(3, activation='softmax')  # 다중 클래스 분류를 위한 출력층\n",
    "])\n",
    "\n",
    "# 모델 컴파일\n",
    "model.compile(optimizer='adam',\n",
    "              loss='categorical_crossentropy',\n",
    "              metrics=['accuracy'])\n",
    "\n",
    "model.summary()"
   ]
  },
  {
   "cell_type": "code",
   "execution_count": 160,
   "id": "5c8edc5b",
   "metadata": {},
   "outputs": [
    {
     "name": "stdout",
     "output_type": "stream",
     "text": [
      "Epoch 1/50\n",
      "56/56 [==============================] - 4s 24ms/step - loss: 1.1062 - accuracy: 0.3448 - val_loss: 1.0986 - val_accuracy: 0.3486\n",
      "Epoch 2/50\n",
      "56/56 [==============================] - 1s 11ms/step - loss: 1.0992 - accuracy: 0.3447 - val_loss: 1.0960 - val_accuracy: 0.3591\n",
      "Epoch 3/50\n",
      "56/56 [==============================] - 1s 11ms/step - loss: 1.0949 - accuracy: 0.3611 - val_loss: 1.0884 - val_accuracy: 0.3991\n",
      "Epoch 4/50\n",
      "56/56 [==============================] - 1s 11ms/step - loss: 1.0877 - accuracy: 0.3881 - val_loss: 1.0921 - val_accuracy: 0.4017\n",
      "Epoch 5/50\n",
      "56/56 [==============================] - 1s 12ms/step - loss: 1.0612 - accuracy: 0.4412 - val_loss: 1.0801 - val_accuracy: 0.4194\n",
      "Epoch 6/50\n",
      "56/56 [==============================] - 1s 11ms/step - loss: 1.0134 - accuracy: 0.4893 - val_loss: 1.0594 - val_accuracy: 0.4345\n",
      "Epoch 7/50\n",
      "56/56 [==============================] - 1s 12ms/step - loss: 0.9453 - accuracy: 0.5556 - val_loss: 1.0948 - val_accuracy: 0.4292\n",
      "Epoch 8/50\n",
      "56/56 [==============================] - 1s 12ms/step - loss: 0.8911 - accuracy: 0.5835 - val_loss: 1.0720 - val_accuracy: 0.4758\n",
      "Epoch 9/50\n",
      "56/56 [==============================] - 1s 11ms/step - loss: 0.8275 - accuracy: 0.6357 - val_loss: 1.0560 - val_accuracy: 0.4758\n",
      "Epoch 10/50\n",
      "56/56 [==============================] - 1s 10ms/step - loss: 0.7477 - accuracy: 0.6794 - val_loss: 1.1005 - val_accuracy: 0.4961\n",
      "Epoch 11/50\n",
      "56/56 [==============================] - 1s 10ms/step - loss: 0.6706 - accuracy: 0.7198 - val_loss: 1.1900 - val_accuracy: 0.4862\n",
      "Epoch 12/50\n",
      "56/56 [==============================] - 1s 10ms/step - loss: 0.6100 - accuracy: 0.7486 - val_loss: 1.2009 - val_accuracy: 0.4961\n",
      "Epoch 13/50\n",
      "56/56 [==============================] - 1s 11ms/step - loss: 0.5534 - accuracy: 0.7769 - val_loss: 1.2212 - val_accuracy: 0.4902\n",
      "Epoch 14/50\n",
      "56/56 [==============================] - 1s 10ms/step - loss: 0.4684 - accuracy: 0.8172 - val_loss: 1.3469 - val_accuracy: 0.5079\n",
      "Epoch 15/50\n",
      "56/56 [==============================] - 1s 10ms/step - loss: 0.4105 - accuracy: 0.8398 - val_loss: 1.3437 - val_accuracy: 0.5393\n",
      "Epoch 16/50\n",
      "56/56 [==============================] - 1s 11ms/step - loss: 0.3804 - accuracy: 0.8522 - val_loss: 1.4872 - val_accuracy: 0.5308\n",
      "Epoch 17/50\n",
      "56/56 [==============================] - 1s 11ms/step - loss: 0.3154 - accuracy: 0.8782 - val_loss: 1.5955 - val_accuracy: 0.4908\n",
      "Epoch 18/50\n",
      "56/56 [==============================] - 1s 10ms/step - loss: 0.3017 - accuracy: 0.8858 - val_loss: 1.6289 - val_accuracy: 0.5164\n",
      "Epoch 19/50\n",
      "56/56 [==============================] - 1s 10ms/step - loss: 0.2417 - accuracy: 0.9109 - val_loss: 1.8274 - val_accuracy: 0.5059\n",
      "Epoch 20/50\n",
      "56/56 [==============================] - 1s 10ms/step - loss: 0.2110 - accuracy: 0.9222 - val_loss: 1.8881 - val_accuracy: 0.5197\n",
      "Epoch 21/50\n",
      "56/56 [==============================] - 1s 10ms/step - loss: 0.2027 - accuracy: 0.9262 - val_loss: 1.9236 - val_accuracy: 0.5177\n",
      "Epoch 22/50\n",
      "56/56 [==============================] - 1s 10ms/step - loss: 0.1774 - accuracy: 0.9344 - val_loss: 2.0813 - val_accuracy: 0.5203\n",
      "Epoch 23/50\n",
      "56/56 [==============================] - 1s 10ms/step - loss: 0.1725 - accuracy: 0.9345 - val_loss: 2.1283 - val_accuracy: 0.5125\n",
      "Epoch 24/50\n",
      "56/56 [==============================] - 1s 10ms/step - loss: 0.1454 - accuracy: 0.9465 - val_loss: 2.1989 - val_accuracy: 0.5170\n",
      "Epoch 25/50\n",
      "56/56 [==============================] - 1s 11ms/step - loss: 0.1653 - accuracy: 0.9410 - val_loss: 2.0495 - val_accuracy: 0.5125\n",
      "Epoch 26/50\n",
      "56/56 [==============================] - 1s 11ms/step - loss: 0.1375 - accuracy: 0.9497 - val_loss: 2.2722 - val_accuracy: 0.5085\n",
      "Epoch 27/50\n",
      "56/56 [==============================] - 1s 10ms/step - loss: 0.1202 - accuracy: 0.9590 - val_loss: 2.3642 - val_accuracy: 0.5118\n",
      "Epoch 28/50\n",
      "56/56 [==============================] - 1s 10ms/step - loss: 0.1210 - accuracy: 0.9559 - val_loss: 2.2845 - val_accuracy: 0.5046\n",
      "Epoch 29/50\n",
      "56/56 [==============================] - 1s 10ms/step - loss: 0.0904 - accuracy: 0.9681 - val_loss: 2.6007 - val_accuracy: 0.5105\n",
      "Epoch 30/50\n",
      "56/56 [==============================] - 1s 10ms/step - loss: 0.1108 - accuracy: 0.9611 - val_loss: 2.5201 - val_accuracy: 0.5079\n",
      "Epoch 31/50\n",
      "56/56 [==============================] - 1s 10ms/step - loss: 0.1059 - accuracy: 0.9618 - val_loss: 2.3211 - val_accuracy: 0.5210\n",
      "Epoch 32/50\n",
      "56/56 [==============================] - 1s 10ms/step - loss: 0.1007 - accuracy: 0.9649 - val_loss: 2.5238 - val_accuracy: 0.4993\n",
      "Epoch 33/50\n",
      "56/56 [==============================] - 1s 10ms/step - loss: 0.0864 - accuracy: 0.9702 - val_loss: 2.4710 - val_accuracy: 0.4948\n",
      "Epoch 34/50\n",
      "56/56 [==============================] - 1s 11ms/step - loss: 0.0625 - accuracy: 0.9767 - val_loss: 2.6641 - val_accuracy: 0.5138\n",
      "Epoch 35/50\n",
      "56/56 [==============================] - 1s 10ms/step - loss: 0.0706 - accuracy: 0.9751 - val_loss: 2.5410 - val_accuracy: 0.5111\n",
      "Epoch 36/50\n",
      "56/56 [==============================] - 1s 10ms/step - loss: 0.1059 - accuracy: 0.9629 - val_loss: 2.4128 - val_accuracy: 0.5269\n",
      "Epoch 37/50\n",
      "56/56 [==============================] - 1s 10ms/step - loss: 0.0666 - accuracy: 0.9758 - val_loss: 2.6581 - val_accuracy: 0.5020\n",
      "Epoch 38/50\n",
      "56/56 [==============================] - 1s 10ms/step - loss: 0.0679 - accuracy: 0.9754 - val_loss: 2.7895 - val_accuracy: 0.5007\n",
      "Epoch 39/50\n",
      "56/56 [==============================] - 1s 10ms/step - loss: 0.0940 - accuracy: 0.9653 - val_loss: 2.5804 - val_accuracy: 0.5210\n",
      "Epoch 40/50\n",
      "56/56 [==============================] - 1s 10ms/step - loss: 0.0754 - accuracy: 0.9748 - val_loss: 2.5118 - val_accuracy: 0.5275\n",
      "Epoch 41/50\n",
      "56/56 [==============================] - 1s 11ms/step - loss: 0.0476 - accuracy: 0.9843 - val_loss: 2.8755 - val_accuracy: 0.4921\n",
      "Epoch 42/50\n",
      "56/56 [==============================] - 1s 11ms/step - loss: 0.0745 - accuracy: 0.9737 - val_loss: 2.7535 - val_accuracy: 0.5125\n",
      "Epoch 43/50\n",
      "56/56 [==============================] - 1s 11ms/step - loss: 0.0622 - accuracy: 0.9777 - val_loss: 2.7840 - val_accuracy: 0.4993\n",
      "Epoch 44/50\n",
      "56/56 [==============================] - 1s 10ms/step - loss: 0.0707 - accuracy: 0.9747 - val_loss: 2.7148 - val_accuracy: 0.5020\n",
      "Epoch 45/50\n",
      "56/56 [==============================] - 1s 11ms/step - loss: 0.0697 - accuracy: 0.9746 - val_loss: 2.7135 - val_accuracy: 0.5125\n",
      "Epoch 46/50\n",
      "56/56 [==============================] - 1s 10ms/step - loss: 0.0724 - accuracy: 0.9743 - val_loss: 2.5362 - val_accuracy: 0.5242\n",
      "Epoch 47/50\n",
      "56/56 [==============================] - 1s 10ms/step - loss: 0.0597 - accuracy: 0.9784 - val_loss: 2.8339 - val_accuracy: 0.5033\n",
      "Epoch 48/50\n",
      "56/56 [==============================] - 1s 10ms/step - loss: 0.0324 - accuracy: 0.9879 - val_loss: 3.0529 - val_accuracy: 0.5118\n",
      "Epoch 49/50\n",
      "56/56 [==============================] - 1s 10ms/step - loss: 0.0621 - accuracy: 0.9774 - val_loss: 2.8988 - val_accuracy: 0.5111\n",
      "Epoch 50/50\n",
      "56/56 [==============================] - 1s 10ms/step - loss: 0.0895 - accuracy: 0.9685 - val_loss: 2.5794 - val_accuracy: 0.5039\n"
     ]
    }
   ],
   "source": [
    "# validation_split = 0.1\n",
    "batch_size = 128\n",
    "\n",
    "train_epochs = 50\n",
    "history = model.fit(x_train, y_train_hot, epochs=train_epochs, batch_size=batch_size, verbose=True,  validation_data = (x_val, y_val_hot), shuffle=True)"
   ]
  },
  {
   "cell_type": "code",
   "execution_count": 161,
   "id": "ef711dac",
   "metadata": {},
   "outputs": [
    {
     "data": {
      "text/plain": [
       "<matplotlib.legend.Legend at 0x7f7d76e55240>"
      ]
     },
     "execution_count": 161,
     "metadata": {},
     "output_type": "execute_result"
    },
    {
     "data": {
      "image/png": "[encoded data removed]",
      "text/plain": [
       "<Figure size 640x480 with 1 Axes>"
      ]
     },
     "metadata": {},
     "output_type": "display_data"
    }
   ],
   "source": [
    "\n",
    "plt.plot(history.history['loss'][2:])\n",
    "plt.plot(history.history['val_loss'][2:])\n",
    "plt.title('model loss')\n",
    "plt.ylabel('loss')\n",
    "plt.xlabel('epoch')\n",
    "plt.legend(['train', 'Validation'], loc='upper left')"
   ]
  },
  {
   "cell_type": "code",
   "execution_count": 163,
   "id": "6d15ba33",
   "metadata": {},
   "outputs": [
    {
     "data": {
      "text/plain": [
       "<matplotlib.legend.Legend at 0x7f7da4b36aa0>"
      ]
     },
     "execution_count": 163,
     "metadata": {},
     "output_type": "execute_result"
    },
    {
     "data": {
      "image/png": "[encoded data removed]",
      "text/plain": [
       "<Figure size 640x480 with 1 Axes>"
      ]
     },
     "metadata": {},
     "output_type": "display_data"
    }
   ],
   "source": [
    "plt.plot(history.history['accuracy'])\n",
    "plt.plot(history.history['val_accuracy'])\n",
    "plt.title('Training and validation accuracy')\n",
    "plt.ylabel('accuracy')\n",
    "plt.xlabel('epoch')\n",
    "plt.legend(['train', 'Validation'], loc='upper left')"
   ]
  },
  {
   "cell_type": "code",
   "execution_count": 164,
   "id": "02661ab1",
   "metadata": {},
   "outputs": [
    {
     "name": "stdout",
     "output_type": "stream",
     "text": [
      "48/48 [==============================] - 1s 3ms/step\n",
      "f1_score =  0.5239572717340885\n",
      "0.5239344262295081\n",
      "              precision    recall  f1-score   support\n",
      "\n",
      "           0       0.51      0.53      0.52       502\n",
      "           1       0.52      0.50      0.51       497\n",
      "           2       0.55      0.54      0.54       526\n",
      "\n",
      "    accuracy                           0.52      1525\n",
      "   macro avg       0.52      0.52      0.52      1525\n",
      "weighted avg       0.52      0.52      0.52      1525\n",
      "\n"
     ]
    }
   ],
   "source": [
    "from sklearn.metrics import confusion_matrix,classification_report,accuracy_score\n",
    "\n",
    "y_pred=model.predict(x_test)\n",
    "y_pred = np.argmax(y_pred, axis=-1)\n",
    "y_true = np.argmax(y_test_hot, axis=-1)\n",
    "print('f1_score = ', f1_score(y_true, y_pred, average='weighted'))\n",
    "print(accuracy_score(y_true,y_pred))\n",
    "print(classification_report(y_true,y_pred))"
   ]
  }
 ],
 "metadata": {
  "kernelspec": {
   "display_name": "Python 3.10 (NGC 24.01 / TensorFlow 2.14) on Backend.AI",
   "language": "python",
   "name": "python3"
  },
  "language_info": {
   "codemirror_mode": {
    "name": "ipython",
    "version": 3
   },
   "file_extension": ".py",
   "mimetype": "text/x-python",
   "name": "python",
   "nbconvert_exporter": "python",
   "pygments_lexer": "ipython3",
   "version": "3.10.12"
  }
 },
 "nbformat": 4,
 "nbformat_minor": 5
}
