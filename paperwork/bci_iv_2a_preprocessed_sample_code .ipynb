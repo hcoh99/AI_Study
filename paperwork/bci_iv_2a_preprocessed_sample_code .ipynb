{
 "cells": [
  {
   "cell_type": "code",
   "execution_count": 6,
   "id": "fe867790",
   "metadata": {},
   "outputs": [
    {
     "name": "stdout",
     "output_type": "stream",
     "text": [
      "Defaulting to user installation because normal site-packages is not writeable\n",
      "Requirement already satisfied: mne in /usr/local/lib/python3.10/dist-packages (0.20.5)\n",
      "Collecting mne\n",
      "  Downloading mne-1.7.1-py3-none-any.whl.metadata (13 kB)\n",
      "Requirement already satisfied: decorator in /usr/local/lib/python3.10/dist-packages (from mne) (5.1.1)\n",
      "Requirement already satisfied: jinja2 in /usr/local/lib/python3.10/dist-packages (from mne) (2.11.3)\n",
      "Requirement already satisfied: lazy-loader>=0.3 in /usr/local/lib/python3.10/dist-packages (from mne) (0.3)\n",
      "Requirement already satisfied: matplotlib>=3.5.0 in /usr/local/lib/python3.10/dist-packages (from mne) (3.8.3)\n",
      "Requirement already satisfied: numpy>=1.21.2 in /usr/local/lib/python3.10/dist-packages (from mne) (1.24.4)\n",
      "Requirement already satisfied: packaging in /usr/local/lib/python3.10/dist-packages (from mne) (23.2)\n",
      "Requirement already satisfied: pooch>=1.5 in /usr/local/lib/python3.10/dist-packages (from mne) (1.8.1)\n",
      "Requirement already satisfied: scipy>=1.7.1 in /usr/local/lib/python3.10/dist-packages (from mne) (1.11.4)\n",
      "Requirement already satisfied: tqdm in /usr/local/lib/python3.10/dist-packages (from mne) (4.66.2)\n",
      "Requirement already satisfied: contourpy>=1.0.1 in /usr/local/lib/python3.10/dist-packages (from matplotlib>=3.5.0->mne) (1.2.0)\n",
      "Requirement already satisfied: cycler>=0.10 in /usr/local/lib/python3.10/dist-packages (from matplotlib>=3.5.0->mne) (0.10.0)\n",
      "Requirement already satisfied: fonttools>=4.22.0 in /usr/local/lib/python3.10/dist-packages (from matplotlib>=3.5.0->mne) (4.49.0)\n",
      "Requirement already satisfied: kiwisolver>=1.3.1 in /usr/local/lib/python3.10/dist-packages (from matplotlib>=3.5.0->mne) (1.4.5)\n",
      "Requirement already satisfied: pillow>=8 in /usr/local/lib/python3.10/dist-packages (from matplotlib>=3.5.0->mne) (10.1.0)\n",
      "Requirement already satisfied: pyparsing>=2.3.1 in /usr/local/lib/python3.10/dist-packages (from matplotlib>=3.5.0->mne) (3.1.1)\n",
      "Requirement already satisfied: python-dateutil>=2.7 in /usr/local/lib/python3.10/dist-packages (from matplotlib>=3.5.0->mne) (2.8.2)\n",
      "Requirement already satisfied: platformdirs>=2.5.0 in /usr/local/lib/python3.10/dist-packages (from pooch>=1.5->mne) (4.1.0)\n",
      "Requirement already satisfied: requests>=2.19.0 in /usr/local/lib/python3.10/dist-packages (from pooch>=1.5->mne) (2.31.0)\n",
      "Requirement already satisfied: MarkupSafe>=0.23 in /usr/local/lib/python3.10/dist-packages (from jinja2->mne) (2.0.1)\n",
      "Requirement already satisfied: six in /usr/local/lib/python3.10/dist-packages (from cycler>=0.10->matplotlib>=3.5.0->mne) (1.16.0)\n",
      "Requirement already satisfied: charset-normalizer<4,>=2 in /usr/local/lib/python3.10/dist-packages (from requests>=2.19.0->pooch>=1.5->mne) (3.3.2)\n",
      "Requirement already satisfied: idna<4,>=2.5 in /usr/local/lib/python3.10/dist-packages (from requests>=2.19.0->pooch>=1.5->mne) (3.6)\n",
      "Requirement already satisfied: urllib3<3,>=1.21.1 in /usr/local/lib/python3.10/dist-packages (from requests>=2.19.0->pooch>=1.5->mne) (1.26.18)\n",
      "Requirement already satisfied: certifi>=2017.4.17 in /usr/local/lib/python3.10/dist-packages (from requests>=2.19.0->pooch>=1.5->mne) (2023.11.17)\n",
      "Downloading mne-1.7.1-py3-none-any.whl (7.4 MB)\n",
      "\u001b[2K   \u001b[90m━━━━━━━━━━━━━━━━━━━━━━━━━━━━━━━━━━━━━━━━\u001b[0m \u001b[32m7.4/7.4 MB\u001b[0m \u001b[31m28.4 MB/s\u001b[0m eta \u001b[36m0:00:00\u001b[0m00:01\u001b[0m00:01\u001b[0m\n",
      "\u001b[?25hInstalling collected packages: mne\n",
      "Successfully installed mne-1.7.1\n",
      "Note: you may need to restart the kernel to use updated packages.\n"
     ]
    }
   ],
   "source": [
    "pip install --upgrade mne"
   ]
  },
  {
   "cell_type": "code",
   "execution_count": 16,
   "id": "04385b6f",
   "metadata": {
    "scrolled": false
   },
   "outputs": [
    {
     "name": "stdout",
     "output_type": "stream",
     "text": [
      "Extracting EDF parameters from /home/work/HCOH/BCICIV_2a_gdf/A01T.gdf...\n",
      "GDF file detected\n",
      "Setting channel info structure...\n",
      "Could not determine channel type of the following channels, they will be set as EEG:\n",
      "EEG-Fz, EEG, EEG, EEG, EEG, EEG, EEG, EEG-C3, EEG, EEG-Cz, EEG, EEG-C4, EEG, EEG, EEG, EEG, EEG, EEG, EEG, EEG-Pz, EEG, EEG, EOG-left, EOG-central, EOG-right\n",
      "Creating raw.info structure...\n",
      "Reading 0 ... 672527  =      0.000 ...  2690.108 secs...\n"
     ]
    },
    {
     "name": "stderr",
     "output_type": "stream",
     "text": [
      "/usr/lib/python3.10/contextlib.py:142: RuntimeWarning: Channel names are not unique, found duplicates for: {'EEG'}. Applying running numbers for duplicates.\n",
      "  next(self.gen)\n"
     ]
    },
    {
     "name": "stdout",
     "output_type": "stream",
     "text": [
      "Used Annotations descriptions: ['1023', '1072', '276', '277', '32766', '768', '769', '770', '771', '772']\n",
      "Filtering a subset of channels. The highpass and lowpass values in the measurement info will not be updated.\n",
      "Filtering raw data in 1 contiguous segment\n",
      "Setting up band-pass filter from 7 - 35 Hz\n",
      "\n",
      "FIR filter parameters\n",
      "---------------------\n",
      "Designing a one-pass, zero-phase, non-causal bandpass filter:\n",
      "- Windowed time-domain design (firwin) method\n",
      "- Hamming window with 0.0194 passband ripple and 53 dB stopband attenuation\n",
      "- Lower passband edge: 7.00\n",
      "- Lower transition bandwidth: 2.00 Hz (-6 dB cutoff frequency: 6.00 Hz)\n",
      "- Upper passband edge: 35.00 Hz\n",
      "- Upper transition bandwidth: 8.75 Hz (-6 dB cutoff frequency: 39.38 Hz)\n",
      "- Filter length: 207 samples (1.656 s)\n",
      "\n",
      "Not setting metadata\n",
      "288 matching events found\n",
      "No baseline correction applied\n",
      "0 projection items activated\n",
      "Using data from preloaded Raw for 288 events and 376 original time points ...\n",
      "167 bad epochs dropped\n"
     ]
    },
    {
     "name": "stderr",
     "output_type": "stream",
     "text": [
      "[Parallel(n_jobs=1)]: Done  17 tasks      | elapsed:    0.2s\n",
      "/tmp/ipykernel_166/3762398406.py:51: FutureWarning: The current default of copy=False will change to copy=True in 1.7. Set the value of copy explicitly to avoid this warning\n",
      "  X = epochs.get_data()  # shape: (n_epochs, n_channels, n_times)\n"
     ]
    },
    {
     "name": "stdout",
     "output_type": "stream",
     "text": [
      "Processed EEG data shape: (121, 22, 376)\n",
      "Labels shape: (121,)\n"
     ]
    }
   ],
   "source": [
    "import mne\n",
    "import numpy as np\n",
    "from sklearn.preprocessing import StandardScaler\n",
    "\n",
    "# GDF 파일 경로 지정\n",
    "filename = \"/home/work/HCOH/BCICIV_2a_gdf/A01T.gdf\"\n",
    "\n",
    "# GDF 파일 읽기\n",
    "raw = mne.io.read_raw_gdf(filename, preload=True)\n",
    "\n",
    "# 이벤트 시간 위치 찾기\n",
    "events, _ = mne.events_from_annotations(raw)\n",
    "\n",
    "# 중복된 채널 이름 수정\n",
    "def fix_duplicate_channel_names(raw):\n",
    "    counts = {}\n",
    "    new_names = []\n",
    "    for name in raw.info['ch_names']:\n",
    "        if name in counts:\n",
    "            counts[name] += 1\n",
    "            new_name = f\"{name}-{counts[name]}\"\n",
    "        else:\n",
    "            counts[name] = 1\n",
    "            new_name = name\n",
    "        new_names.append(new_name)\n",
    "    rename_dict = dict(zip(raw.info['ch_names'], new_names))\n",
    "    mne.rename_channels(raw.info, rename_dict)\n",
    "\n",
    "fix_duplicate_channel_names(raw)\n",
    "\n",
    "# EOG 채널 제거하고 원하는 EEG 채널만 선택\n",
    "raw.info['bads'] += ['EOG-left', 'EOG-central', 'EOG-right']\n",
    "picks = mne.pick_types(raw.info, meg=False, eeg=True, eog=False, stim=False, exclude='bads')\n",
    "\n",
    "# 250Hz에서 125Hz로 다운샘플링\n",
    "raw.resample(125, npad=\"auto\")\n",
    "\n",
    "# 7-35 Hz 대역 통과 필터 적용\n",
    "raw.filter(7., 35., picks=picks, fir_design='firwin')\n",
    "\n",
    "# 4개의 클래스에 대한 288개의 이벤트에서 3초 시간 간격의 에포크 추출\n",
    "tmin, tmax = 0., 3.  # 큐 시작 후 3초\n",
    "event_id = dict({'769': 7, '770': 8, '771': 9, '772': 10})\n",
    "\n",
    "epochs = mne.Epochs(raw, events, event_id, tmin, tmax, proj=True, picks=picks,\n",
    "                    baseline=None, preload=True)\n",
    "\n",
    "# 신호의 평균을 0으로, 분산을 1로 스케일링\n",
    "scaler = StandardScaler()\n",
    "\n",
    "X = epochs.get_data()  # shape: (n_epochs, n_channels, n_times)\n",
    "n_epochs, n_channels, n_times = X.shape\n",
    "\n",
    "# 각 채널별로 평균 0, 분산 1로 스케일링\n",
    "for i in range(n_epochs):\n",
    "    for j in range(n_channels):\n",
    "        X[i, j, :] = scaler.fit_transform(X[i, j, :].reshape(-1, 1)).flatten()\n",
    "\n",
    "# y 값(라벨) 설정\n",
    "y = epochs.events[:, -1]\n",
    "\n",
    "print(f\"Processed EEG data shape: {X.shape}\")\n",
    "print(f\"Labels shape: {y.shape}\")"
   ]
  },
  {
   "cell_type": "code",
   "execution_count": 17,
   "id": "d0428bb7",
   "metadata": {},
   "outputs": [
    {
     "data": {
      "text/plain": [
       "array([10,  9,  8,  7,  7,  8,  9, 10,  8,  9,  7,  7,  7, 10,  8,  8,  7,\n",
       "        7,  9,  7,  8, 10, 10,  9,  7, 10, 10,  8, 10, 10,  8,  7,  8,  9,\n",
       "        9,  9, 10,  9,  7, 10,  8,  9,  8,  9, 10,  8,  9,  7,  7,  7, 10,\n",
       "        8,  7,  9,  7,  9,  8, 10,  7,  9,  9,  7,  9,  8, 10, 10, 10,  9,\n",
       "        7, 10,  8, 10,  8,  7,  9,  8,  7,  9,  9,  7,  9, 10, 10,  8,  7,\n",
       "        8, 10,  8, 10,  9,  8,  8,  8,  9, 10,  7,  8, 10,  7,  9,  9, 10,\n",
       "        7,  7,  9,  8, 10, 10, 10,  8,  7,  9,  8, 10,  7, 10,  9,  8, 10,\n",
       "       10,  7])"
      ]
     },
     "execution_count": 17,
     "metadata": {},
     "output_type": "execute_result"
    }
   ],
   "source": [
    "y"
   ]
  },
  {
   "cell_type": "code",
   "execution_count": 18,
   "id": "c38f7434",
   "metadata": {
    "scrolled": false
   },
   "outputs": [
    {
     "name": "stdout",
     "output_type": "stream",
     "text": [
      "Extracting EDF parameters from /home/work/HCOH/BCICIV_2a_gdf/A01T.gdf...\n",
      "GDF file detected\n",
      "Setting channel info structure...\n",
      "Could not determine channel type of the following channels, they will be set as EEG:\n",
      "EEG-Fz, EEG, EEG, EEG, EEG, EEG, EEG, EEG-C3, EEG, EEG-Cz, EEG, EEG-C4, EEG, EEG, EEG, EEG, EEG, EEG, EEG, EEG-Pz, EEG, EEG, EOG-left, EOG-central, EOG-right\n",
      "Creating raw.info structure...\n",
      "Reading 0 ... 672527  =      0.000 ...  2690.108 secs...\n"
     ]
    },
    {
     "name": "stderr",
     "output_type": "stream",
     "text": [
      "/usr/lib/python3.10/contextlib.py:142: RuntimeWarning: Channel names are not unique, found duplicates for: {'EEG'}. Applying running numbers for duplicates.\n",
      "  next(self.gen)\n"
     ]
    },
    {
     "name": "stdout",
     "output_type": "stream",
     "text": [
      "Used Annotations descriptions: ['1023', '1072', '276', '277', '32766', '768', '769', '770', '771', '772']\n",
      "Not setting metadata\n",
      "288 matching events found\n",
      "No baseline correction applied\n",
      "0 projection items activated\n",
      "Using data from preloaded Raw for 288 events and 376 original time points ...\n",
      "167 bad epochs dropped\n"
     ]
    },
    {
     "name": "stderr",
     "output_type": "stream",
     "text": [
      "/tmp/ipykernel_166/2096256767.py:48: FutureWarning: The current default of copy=False will change to copy=True in 1.7. Set the value of copy explicitly to avoid this warning\n",
      "  X = epochs.get_data()  # shape: (n_epochs, n_channels, n_times)\n"
     ]
    },
    {
     "name": "stdout",
     "output_type": "stream",
     "text": [
      "Processed EEG data shape: (121, 22, 376)\n",
      "Labels shape: (121,)\n"
     ]
    }
   ],
   "source": [
    "import mne\n",
    "import numpy as np\n",
    "from sklearn.preprocessing import StandardScaler\n",
    "\n",
    "# GDF 파일 경로 지정\n",
    "filename = \"/home/work/HCOH/BCICIV_2a_gdf/A01T.gdf\"\n",
    "\n",
    "# GDF 파일 읽기\n",
    "raw = mne.io.read_raw_gdf(filename, preload=True)\n",
    "\n",
    "# 이벤트 시간 위치 찾기\n",
    "events, _ = mne.events_from_annotations(raw)\n",
    "\n",
    "# 중복된 채널 이름 수정\n",
    "def fix_duplicate_channel_names(raw):\n",
    "    counts = {}\n",
    "    new_names = []\n",
    "    for name in raw.info['ch_names']:\n",
    "        if name in counts:\n",
    "            counts[name] += 1\n",
    "            new_name = f\"{name}-{counts[name]}\"\n",
    "        else:\n",
    "            counts[name] = 1\n",
    "            new_name = name\n",
    "        new_names.append(new_name)\n",
    "    rename_dict = dict(zip(raw.info['ch_names'], new_names))\n",
    "    mne.rename_channels(raw.info, rename_dict)\n",
    "\n",
    "fix_duplicate_channel_names(raw)\n",
    "\n",
    "# EOG 채널 제거하고 원하는 EEG 채널만 선택\n",
    "raw.info['bads'] += ['EOG-left', 'EOG-central', 'EOG-right']\n",
    "picks = mne.pick_types(raw.info, meg=False, eeg=True, eog=False, stim=False, exclude='bads')\n",
    "\n",
    "# 250Hz에서 125Hz로 다운샘플링\n",
    "raw.resample(125, npad=\"auto\")\n",
    "\n",
    "# 4개의 클래스에 대한 288개의 이벤트에서 3초 시간 간격의 에포크 추출\n",
    "tmin, tmax = 0., 3.  # 큐 시작 후 3초\n",
    "event_id = dict({'769': 7, '770': 8, '771': 9, '772': 10})\n",
    "\n",
    "epochs = mne.Epochs(raw, events, event_id, tmin, tmax, proj=True, picks=picks,\n",
    "                    baseline=None, preload=True)\n",
    "\n",
    "# 신호의 평균을 0으로, 분산을 1로 스케일링\n",
    "scaler = StandardScaler()\n",
    "\n",
    "X = epochs.get_data()  # shape: (n_epochs, n_channels, n_times)\n",
    "n_epochs, n_channels, n_times = X.shape\n",
    "\n",
    "# 각 채널별로 평균 0, 분산 1로 스케일링\n",
    "for i in range(n_epochs):\n",
    "    for j in range(n_channels):\n",
    "        X[i, j, :] = scaler.fit_transform(X[i, j, :].reshape(-1, 1)).flatten()\n",
    "\n",
    "# y 값(라벨) 설정\n",
    "y = epochs.events[:, -1]\n",
    "\n",
    "print(f\"Processed EEG data shape: {X.shape}\")\n",
    "print(f\"Labels shape: {y.shape}\")"
   ]
  },
  {
   "cell_type": "code",
   "execution_count": 19,
   "id": "36800cd8",
   "metadata": {},
   "outputs": [
    {
     "data": {
      "text/plain": [
       "array([10,  9,  8,  7,  7,  8,  9, 10,  8,  9,  7,  7,  7, 10,  8,  8,  7,\n",
       "        7,  9,  7,  8, 10, 10,  9,  7, 10, 10,  8, 10, 10,  8,  7,  8,  9,\n",
       "        9,  9, 10,  9,  7, 10,  8,  9,  8,  9, 10,  8,  9,  7,  7,  7, 10,\n",
       "        8,  7,  9,  7,  9,  8, 10,  7,  9,  9,  7,  9,  8, 10, 10, 10,  9,\n",
       "        7, 10,  8, 10,  8,  7,  9,  8,  7,  9,  9,  7,  9, 10, 10,  8,  7,\n",
       "        8, 10,  8, 10,  9,  8,  8,  8,  9, 10,  7,  8, 10,  7,  9,  9, 10,\n",
       "        7,  7,  9,  8, 10, 10, 10,  8,  7,  9,  8, 10,  7, 10,  9,  8, 10,\n",
       "       10,  7])"
      ]
     },
     "execution_count": 19,
     "metadata": {},
     "output_type": "execute_result"
    }
   ],
   "source": [
    "y"
   ]
  },
  {
   "cell_type": "code",
   "execution_count": 8,
   "id": "3e5ed6d3",
   "metadata": {
    "scrolled": false
   },
   "outputs": [
    {
     "name": "stdout",
     "output_type": "stream",
     "text": [
      "              ch_1      ch_2      ch_3      ch_4      ch_5      ch_6  \\\n",
      "0        -0.637232 -0.874646 -0.570164 -0.741646 -0.596358 -0.798655   \n",
      "1        -0.637232 -0.874646 -0.570164 -0.741646 -0.596358 -0.798655   \n",
      "2        -0.637232 -0.874646 -0.570164 -0.741646 -0.596358 -0.798655   \n",
      "3        -0.637232 -0.874646 -0.570164 -0.741646 -0.596358 -0.798655   \n",
      "4        -0.637232 -0.874646 -0.570164 -0.741646 -0.596358 -0.798655   \n",
      "...            ...       ...       ...       ...       ...       ...   \n",
      "17106491  0.323410 -0.425648 -0.173034  0.209801  0.006763 -0.148383   \n",
      "17106492  0.323410 -0.425648 -0.173034  0.209801  0.006763 -0.148383   \n",
      "17106493  0.323410 -0.425648 -0.173034  0.209801  0.006763 -0.148383   \n",
      "17106494  0.323410 -0.425648 -0.173034  0.209801  0.006763 -0.148383   \n",
      "17106495  0.323410 -0.425648 -0.173034  0.209801  0.006763 -0.148383   \n",
      "\n",
      "              ch_7      ch_8      ch_9     ch_10  ...     ch_15     ch_16  \\\n",
      "0        -0.075720 -0.546965 -0.364167 -0.511728  ...  0.109760  0.002380   \n",
      "1        -0.075720 -0.546965 -0.364167 -0.511728  ...  0.109760  0.002380   \n",
      "2        -0.075720 -0.546965 -0.364167 -0.511728  ...  0.109760  0.002380   \n",
      "3        -0.075720 -0.546965 -0.364167 -0.511728  ...  0.109760  0.002380   \n",
      "4        -0.075720 -0.546965 -0.364167 -0.511728  ...  0.109760  0.002380   \n",
      "...            ...       ...       ...       ...  ...       ...       ...   \n",
      "17106491 -0.466239 -0.374671 -0.143512 -0.188434  ... -0.263305 -0.162999   \n",
      "17106492 -0.466239 -0.374671 -0.143512 -0.188434  ... -0.263305 -0.162999   \n",
      "17106493 -0.466239 -0.374671 -0.143512 -0.188434  ... -0.263305 -0.162999   \n",
      "17106494 -0.466239 -0.374671 -0.143512 -0.188434  ... -0.263305 -0.162999   \n",
      "17106495 -0.466239 -0.374671 -0.143512 -0.188434  ... -0.263305 -0.162999   \n",
      "\n",
      "             ch_17     ch_18     ch_19     ch_20     ch_21     ch_22  epoch  \\\n",
      "0        -0.129304 -0.202526  0.571584  0.531761  0.366660  0.882804      1   \n",
      "1        -0.129304 -0.202526  0.571584  0.531761  0.366660  0.882804      1   \n",
      "2        -0.129304 -0.202526  0.571584  0.531761  0.366660  0.882804      1   \n",
      "3        -0.129304 -0.202526  0.571584  0.531761  0.366660  0.882804      1   \n",
      "4        -0.129304 -0.202526  0.571584  0.531761  0.366660  0.882804      1   \n",
      "...            ...       ...       ...       ...       ...       ...    ...   \n",
      "17106491 -0.256593 -0.174342 -0.519514 -0.377519 -0.321382 -0.597081    121   \n",
      "17106492 -0.256593 -0.174342 -0.519514 -0.377519 -0.321382 -0.597081    121   \n",
      "17106493 -0.256593 -0.174342 -0.519514 -0.377519 -0.321382 -0.597081    121   \n",
      "17106494 -0.256593 -0.174342 -0.519514 -0.377519 -0.321382 -0.597081    121   \n",
      "17106495 -0.256593 -0.174342 -0.519514 -0.377519 -0.321382 -0.597081    121   \n",
      "\n",
      "          label  \n",
      "0            10  \n",
      "1            10  \n",
      "2            10  \n",
      "3            10  \n",
      "4            10  \n",
      "...         ...  \n",
      "17106491      7  \n",
      "17106492      7  \n",
      "17106493      7  \n",
      "17106494      7  \n",
      "17106495      7  \n",
      "\n",
      "[17106496 rows x 24 columns]\n"
     ]
    }
   ],
   "source": [
    "import pandas as pd\n",
    "import numpy as np\n",
    "\n",
    "# 가정: X는 (121, 22, 376) 형태의 EEG 데이터이고, y는 레이블 (121,) 입니다.\n",
    "\n",
    "# 각 채널의 데이터를 DataFrame으로 변환\n",
    "# epoch마다 데이터를 전부 펼쳐서 행으로 만듭니다.\n",
    "epoch_dfs = []\n",
    "for epoch_idx in range(X.shape[0]):\n",
    "    epoch_data = X[epoch_idx, :, :]  # 각 epoch에 대한 데이터 (22, 376)\n",
    "    epoch_df = pd.DataFrame(epoch_data.T, columns=[f'ch_{i}' for i in range(1, X.shape[1] + 1)])\n",
    "    epoch_df['epoch'] = epoch_idx + 1  # 각 행이 어떤 epoch에 속하는지 추가\n",
    "    epoch_dfs.append(epoch_df)\n",
    "\n",
    "# 모든 epoch의 데이터를 하나의 DataFrame으로 결합\n",
    "combined_df = pd.concat(epoch_dfs, ignore_index=True)\n",
    "\n",
    "# 각 epoch의 레이블을 결합\n",
    "labels_df = pd.DataFrame({'epoch': np.repeat(np.arange(1, X.shape[0] + 1), X.shape[2]),\n",
    "                          'label': np.repeat(y, X.shape[2])})\n",
    "\n",
    "# 데이터와 레이블을 병합\n",
    "final_df = pd.merge(combined_df, labels_df, on='epoch')\n",
    "\n",
    "# 결과 출력\n",
    "print(final_df)"
   ]
  },
  {
   "cell_type": "code",
   "execution_count": 21,
   "id": "4b5937f7",
   "metadata": {
    "scrolled": false
   },
   "outputs": [],
   "source": [
    "from sklearn.model_selection import train_test_split\n",
    "\n",
    "X_train, X_test, y_train, y_test = train_test_split(X, y,test_size = 0.1,\n",
    "                                                    shuffle = True,\n",
    "                                                    random_state = 21)"
   ]
  },
  {
   "cell_type": "code",
   "execution_count": 22,
   "id": "8f888bbe",
   "metadata": {
    "scrolled": true
   },
   "outputs": [
    {
     "data": {
      "text/plain": [
       "(108, 22, 376)"
      ]
     },
     "execution_count": 22,
     "metadata": {},
     "output_type": "execute_result"
    }
   ],
   "source": [
    "X_train.shape"
   ]
  },
  {
   "cell_type": "code",
   "execution_count": 23,
   "id": "65256e62",
   "metadata": {
    "scrolled": true
   },
   "outputs": [
    {
     "data": {
      "text/plain": [
       "array([ 9,  9,  7, 10,  8,  9, 10, 10,  7, 10, 10, 10,  8,  7,  7,  7,  7,\n",
       "        9, 10,  7, 10,  8,  7,  7, 10,  8,  8,  9,  8,  7,  9,  9,  8, 10,\n",
       "        8,  7,  9,  9, 10,  7,  8, 10,  9, 10,  9,  7,  7,  7, 10,  9,  7,\n",
       "        8, 10, 10,  8,  7,  8, 10,  8, 10,  9,  8,  8, 10, 10,  9, 10,  9,\n",
       "       10,  9,  8, 10,  7,  9,  7,  9,  8,  9, 10, 10, 10,  8,  9,  8,  9,\n",
       "       10,  7,  8,  9,  7,  7,  9,  9,  8,  7, 10,  8,  8,  9,  7,  9,  9,\n",
       "        8,  7,  7,  8,  7,  7])"
      ]
     },
     "execution_count": 23,
     "metadata": {},
     "output_type": "execute_result"
    }
   ],
   "source": [
    "y_train"
   ]
  },
  {
   "cell_type": "code",
   "execution_count": 24,
   "id": "4ff0c838",
   "metadata": {},
   "outputs": [
    {
     "name": "stdout",
     "output_type": "stream",
     "text": [
      "[[0. 0. 1. 0.]\n",
      " [0. 0. 1. 0.]\n",
      " [1. 0. 0. 0.]\n",
      " [0. 0. 0. 1.]\n",
      " [0. 1. 0. 0.]\n",
      " [0. 0. 1. 0.]\n",
      " [0. 0. 0. 1.]\n",
      " [0. 0. 0. 1.]\n",
      " [1. 0. 0. 0.]\n",
      " [0. 0. 0. 1.]\n",
      " [0. 0. 0. 1.]\n",
      " [0. 0. 0. 1.]\n",
      " [0. 1. 0. 0.]\n",
      " [1. 0. 0. 0.]\n",
      " [1. 0. 0. 0.]\n",
      " [1. 0. 0. 0.]\n",
      " [1. 0. 0. 0.]\n",
      " [0. 0. 1. 0.]\n",
      " [0. 0. 0. 1.]\n",
      " [1. 0. 0. 0.]\n",
      " [0. 0. 0. 1.]\n",
      " [0. 1. 0. 0.]\n",
      " [1. 0. 0. 0.]\n",
      " [1. 0. 0. 0.]\n",
      " [0. 0. 0. 1.]\n",
      " [0. 1. 0. 0.]\n",
      " [0. 1. 0. 0.]\n",
      " [0. 0. 1. 0.]\n",
      " [0. 1. 0. 0.]\n",
      " [1. 0. 0. 0.]\n",
      " [0. 0. 1. 0.]\n",
      " [0. 0. 1. 0.]\n",
      " [0. 1. 0. 0.]\n",
      " [0. 0. 0. 1.]\n",
      " [0. 1. 0. 0.]\n",
      " [1. 0. 0. 0.]\n",
      " [0. 0. 1. 0.]\n",
      " [0. 0. 1. 0.]\n",
      " [0. 0. 0. 1.]\n",
      " [1. 0. 0. 0.]\n",
      " [0. 1. 0. 0.]\n",
      " [0. 0. 0. 1.]\n",
      " [0. 0. 1. 0.]\n",
      " [0. 0. 0. 1.]\n",
      " [0. 0. 1. 0.]\n",
      " [1. 0. 0. 0.]\n",
      " [1. 0. 0. 0.]\n",
      " [1. 0. 0. 0.]\n",
      " [0. 0. 0. 1.]\n",
      " [0. 0. 1. 0.]\n",
      " [1. 0. 0. 0.]\n",
      " [0. 1. 0. 0.]\n",
      " [0. 0. 0. 1.]\n",
      " [0. 0. 0. 1.]\n",
      " [0. 1. 0. 0.]\n",
      " [1. 0. 0. 0.]\n",
      " [0. 1. 0. 0.]\n",
      " [0. 0. 0. 1.]\n",
      " [0. 1. 0. 0.]\n",
      " [0. 0. 0. 1.]\n",
      " [0. 0. 1. 0.]\n",
      " [0. 1. 0. 0.]\n",
      " [0. 1. 0. 0.]\n",
      " [0. 0. 0. 1.]\n",
      " [0. 0. 0. 1.]\n",
      " [0. 0. 1. 0.]\n",
      " [0. 0. 0. 1.]\n",
      " [0. 0. 1. 0.]\n",
      " [0. 0. 0. 1.]\n",
      " [0. 0. 1. 0.]\n",
      " [0. 1. 0. 0.]\n",
      " [0. 0. 0. 1.]\n",
      " [1. 0. 0. 0.]\n",
      " [0. 0. 1. 0.]\n",
      " [1. 0. 0. 0.]\n",
      " [0. 0. 1. 0.]\n",
      " [0. 1. 0. 0.]\n",
      " [0. 0. 1. 0.]\n",
      " [0. 0. 0. 1.]\n",
      " [0. 0. 0. 1.]\n",
      " [0. 0. 0. 1.]\n",
      " [0. 1. 0. 0.]\n",
      " [0. 0. 1. 0.]\n",
      " [0. 1. 0. 0.]\n",
      " [0. 0. 1. 0.]\n",
      " [0. 0. 0. 1.]\n",
      " [1. 0. 0. 0.]\n",
      " [0. 1. 0. 0.]\n",
      " [0. 0. 1. 0.]\n",
      " [1. 0. 0. 0.]\n",
      " [1. 0. 0. 0.]\n",
      " [0. 0. 1. 0.]\n",
      " [0. 0. 1. 0.]\n",
      " [0. 1. 0. 0.]\n",
      " [1. 0. 0. 0.]\n",
      " [0. 0. 0. 1.]\n",
      " [0. 1. 0. 0.]\n",
      " [0. 1. 0. 0.]\n",
      " [0. 0. 1. 0.]\n",
      " [1. 0. 0. 0.]\n",
      " [0. 0. 1. 0.]\n",
      " [0. 0. 1. 0.]\n",
      " [0. 1. 0. 0.]\n",
      " [1. 0. 0. 0.]\n",
      " [1. 0. 0. 0.]\n",
      " [0. 1. 0. 0.]\n",
      " [1. 0. 0. 0.]\n",
      " [1. 0. 0. 0.]]\n"
     ]
    }
   ],
   "source": [
    "from tensorflow.keras.utils import to_categorical\n",
    "\n",
    "# 라벨 7, 8, 9, 10을 0, 1, 2, 3으로 변환\n",
    "y_train = y_train - 7\n",
    "y_test = y_test - 7\n",
    "\n",
    "# 원-핫 인코딩 적용\n",
    "y_train = to_categorical(y_train, num_classes=4)\n",
    "y_test = to_categorical(y_test, num_classes=4)\n",
    "\n",
    "print(y_train)"
   ]
  },
  {
   "cell_type": "code",
   "execution_count": 25,
   "id": "538c4b89",
   "metadata": {},
   "outputs": [],
   "source": [
    "X_train = X_train.astype('float32')\n",
    "X_test = X_test.astype('float32')"
   ]
  },
  {
   "cell_type": "code",
   "execution_count": 26,
   "id": "3e371078",
   "metadata": {},
   "outputs": [],
   "source": [
    "import keras\n",
    "from tensorflow.keras.layers import Conv1D\n",
    "from tensorflow.keras.layers import Input\n",
    "from keras.layers import Dense, Flatten, Dropout"
   ]
  },
  {
   "cell_type": "code",
   "execution_count": 27,
   "id": "1a222588",
   "metadata": {},
   "outputs": [
    {
     "name": "stdout",
     "output_type": "stream",
     "text": [
      "Model: \"model_1\"\n",
      "_________________________________________________________________\n",
      " Layer (type)                Output Shape              Param #   \n",
      "=================================================================\n",
      " input_2 (InputLayer)        [(None, 22, 376)]         0         \n",
      "                                                                 \n",
      " conv1d_1 (Conv1D)           (None, 20, 64)            72256     \n",
      "                                                                 \n",
      " flatten_1 (Flatten)         (None, 1280)              0         \n",
      "                                                                 \n",
      " dense_2 (Dense)             (None, 64)                81984     \n",
      "                                                                 \n",
      " dense_3 (Dense)             (None, 4)                 260       \n",
      "                                                                 \n",
      "=================================================================\n",
      "Total params: 154500 (603.52 KB)\n",
      "Trainable params: 154500 (603.52 KB)\n",
      "Non-trainable params: 0 (0.00 Byte)\n",
      "_________________________________________________________________\n"
     ]
    }
   ],
   "source": [
    "input_layer = Input(shape=(22,376))\n",
    "\n",
    "conv1 = Conv1D(filters=64, kernel_size=3, activation='relu')(input_layer)\n",
    "flat = Flatten()(conv1)\n",
    "dens = Dense(64, activation = \"relu\")(flat)\n",
    "outputs = Dense(4, activation = \"sigmoid\")(dens)\n",
    "\n",
    "model = keras.Model(input_layer, outputs)\n",
    "model.compile(loss='categorical_crossentropy', optimizer='adam', metrics=['accuracy'])\n",
    "model.summary()"
   ]
  },
  {
   "cell_type": "code",
   "execution_count": null,
   "id": "786358b6",
   "metadata": {
    "scrolled": true
   },
   "outputs": [
    {
     "name": "stdout",
     "output_type": "stream",
     "text": [
      "Epoch 1/30\n",
      "4/4 [==============================] - 1s 54ms/step - loss: 1.7356 - accuracy: 0.2474 - val_loss: 2.2674 - val_accuracy: 0.1818\n",
      "Epoch 2/30\n",
      "4/4 [==============================] - 0s 15ms/step - loss: 0.7147 - accuracy: 0.7320 - val_loss: 2.3346 - val_accuracy: 0.1818\n",
      "Epoch 3/30\n",
      "4/4 [==============================] - 0s 14ms/step - loss: 0.3247 - accuracy: 0.9175 - val_loss: 2.2705 - val_accuracy: 0.1818\n",
      "Epoch 4/30\n",
      "4/4 [==============================] - 0s 14ms/step - loss: 0.1478 - accuracy: 0.9794 - val_loss: 2.2018 - val_accuracy: 0.4545\n",
      "Epoch 5/30\n",
      "4/4 [==============================] - 0s 14ms/step - loss: 0.0737 - accuracy: 0.9897 - val_loss: 2.4106 - val_accuracy: 0.4545\n",
      "Epoch 6/30\n",
      "4/4 [==============================] - 0s 14ms/step - loss: 0.0624 - accuracy: 0.9897 - val_loss: 2.8391 - val_accuracy: 0.4545\n",
      "Epoch 7/30\n",
      "4/4 [==============================] - 0s 14ms/step - loss: 0.0244 - accuracy: 1.0000 - val_loss: 3.2086 - val_accuracy: 0.3636\n",
      "Epoch 8/30\n",
      "4/4 [==============================] - 0s 15ms/step - loss: 0.0166 - accuracy: 1.0000 - val_loss: 3.4054 - val_accuracy: 0.3636\n",
      "Epoch 9/30\n",
      "4/4 [==============================] - 0s 14ms/step - loss: 0.0103 - accuracy: 1.0000 - val_loss: 3.4740 - val_accuracy: 0.3636\n",
      "Epoch 10/30\n",
      "4/4 [==============================] - 0s 14ms/step - loss: 0.0066 - accuracy: 1.0000 - val_loss: 3.4889 - val_accuracy: 0.3636\n",
      "Epoch 11/30\n",
      "4/4 [==============================] - 0s 14ms/step - loss: 0.0045 - accuracy: 1.0000 - val_loss: 3.5200 - val_accuracy: 0.3636\n",
      "Epoch 12/30\n",
      "4/4 [==============================] - 0s 14ms/step - loss: 0.0036 - accuracy: 1.0000 - val_loss: 3.5542 - val_accuracy: 0.3636\n",
      "Epoch 13/30\n",
      "4/4 [==============================] - 0s 14ms/step - loss: 0.0031 - accuracy: 1.0000 - val_loss: 3.5996 - val_accuracy: 0.3636\n",
      "Epoch 14/30\n",
      "4/4 [==============================] - 0s 21ms/step - loss: 0.0025 - accuracy: 1.0000 - val_loss: 3.6460 - val_accuracy: 0.3636\n",
      "Epoch 15/30\n",
      "4/4 [==============================] - 0s 15ms/step - loss: 0.0021 - accuracy: 1.0000 - val_loss: 3.7098 - val_accuracy: 0.3636\n",
      "Epoch 16/30\n",
      "4/4 [==============================] - 0s 14ms/step - loss: 0.0018 - accuracy: 1.0000 - val_loss: 3.7699 - val_accuracy: 0.3636\n",
      "Epoch 17/30\n",
      "4/4 [==============================] - 0s 15ms/step - loss: 0.0015 - accuracy: 1.0000 - val_loss: 3.8205 - val_accuracy: 0.3636\n",
      "Epoch 18/30\n",
      "4/4 [==============================] - 0s 14ms/step - loss: 0.0013 - accuracy: 1.0000 - val_loss: 3.8621 - val_accuracy: 0.3636\n",
      "Epoch 19/30\n",
      "4/4 [==============================] - 0s 14ms/step - loss: 0.0012 - accuracy: 1.0000 - val_loss: 3.8995 - val_accuracy: 0.3636\n",
      "Epoch 20/30\n",
      "4/4 [==============================] - 0s 15ms/step - loss: 0.0011 - accuracy: 1.0000 - val_loss: 3.9481 - val_accuracy: 0.3636\n",
      "Epoch 21/30\n",
      "4/4 [==============================] - 0s 15ms/step - loss: 0.0010 - accuracy: 1.0000 - val_loss: 4.0136 - val_accuracy: 0.3636\n",
      "Epoch 22/30\n",
      "4/4 [==============================] - 0s 14ms/step - loss: 9.5020e-04 - accuracy: 1.0000 - val_loss: 4.0665 - val_accuracy: 0.3636\n",
      "Epoch 23/30\n",
      "4/4 [==============================] - 0s 14ms/step - loss: 8.9272e-04 - accuracy: 1.0000 - val_loss: 4.1167 - val_accuracy: 0.3636\n",
      "Epoch 24/30\n",
      "4/4 [==============================] - 0s 14ms/step - loss: 8.4343e-04 - accuracy: 1.0000 - val_loss: 4.1546 - val_accuracy: 0.2727\n",
      "Epoch 25/30\n",
      "4/4 [==============================] - 0s 14ms/step - loss: 8.0043e-04 - accuracy: 1.0000 - val_loss: 4.1721 - val_accuracy: 0.2727\n",
      "Epoch 26/30\n",
      "4/4 [==============================] - 0s 15ms/step - loss: 7.6149e-04 - accuracy: 1.0000 - val_loss: 4.1879 - val_accuracy: 0.2727\n",
      "Epoch 27/30\n",
      "4/4 [==============================] - 0s 19ms/step - loss: 7.2298e-04 - accuracy: 1.0000 - val_loss: 4.1970 - val_accuracy: 0.2727\n",
      "Epoch 28/30\n",
      "4/4 [==============================] - 0s 19ms/step - loss: 6.7926e-04 - accuracy: 1.0000 - val_loss: 4.2036 - val_accuracy: 0.3636\n",
      "Epoch 29/30\n",
      "4/4 [==============================] - 0s 20ms/step - loss: 6.4184e-04 - accuracy: 1.0000 - val_loss: 4.2095 - val_accuracy: 0.3636\n",
      "Epoch 30/30\n"
     ]
    }
   ],
   "source": [
    "\n",
    "# 모델 학습\n",
    "history = model.fit(X_train, y_train, epochs=30, verbose=True, validation_split=0.1)\n",
    "\n",
    "print(f\"Processed Training Data Shape: {X_train.shape}\")\n",
    "print(f\"Processed Test Data Shape: {X_test.shape}\")"
   ]
  },
  {
   "cell_type": "code",
   "execution_count": 11,
   "id": "fa657659",
   "metadata": {},
   "outputs": [
    {
     "data": {
      "image/png": "[encoded data removed]",
      "text/plain": [
       "<Figure size 640x480 with 1 Axes>"
      ]
     },
     "metadata": {},
     "output_type": "display_data"
    }
   ],
   "source": [
    "import matplotlib.pyplot as plt\n",
    "import seaborn as sns\n",
    "\n",
    "loss = history.history['loss']\n",
    "val_loss = history.history['val_loss']\n",
    "epochs = range(1, len(loss) + 1)\n",
    "plt.plot(epochs, loss, 'y', label='Training loss')\n",
    "plt.plot(epochs, val_loss, 'r', label='Validation loss')\n",
    "plt.title('Training and validation loss')\n",
    "plt.xlabel('Epochs')\n",
    "plt.ylabel('Loss')\n",
    "plt.legend()\n",
    "plt.show()"
   ]
  },
  {
   "cell_type": "code",
   "execution_count": 12,
   "id": "bada9d2a",
   "metadata": {},
   "outputs": [
    {
     "data": {
      "image/png": "[encoded data removed]",
      "text/plain": [
       "<Figure size 640x480 with 1 Axes>"
      ]
     },
     "metadata": {},
     "output_type": "display_data"
    }
   ],
   "source": [
    "acc = history.history['accuracy']\n",
    "val_acc = history.history['val_accuracy']\n",
    "plt.plot(epochs, acc, 'y', label='Training acc')\n",
    "plt.plot(epochs, val_acc, 'r', label='Validation acc')\n",
    "plt.title('Training and validation accuracy')\n",
    "plt.xlabel('Epochs')\n",
    "plt.ylabel('Accuracy')\n",
    "plt.legend()\n",
    "plt.show()"
   ]
  },
  {
   "cell_type": "code",
   "execution_count": 13,
   "id": "102466ee",
   "metadata": {},
   "outputs": [
    {
     "name": "stdout",
     "output_type": "stream",
     "text": [
      "1/1 [==============================] - 0s 164ms/step\n"
     ]
    }
   ],
   "source": [
    "\n",
    "#Accuracy of the predicted values\n",
    "from sklearn.metrics import classification_report,confusion_matrix\n",
    "\n",
    "\n",
    "y_pred = model.predict(X_test)\n",
    "y_test_class = np.argmax(y_test_onehot,axis=1)\n",
    "y_pred_class = np.argmax(y_pred,axis=1)"
   ]
  },
  {
   "cell_type": "code",
   "execution_count": 14,
   "id": "67db17dd",
   "metadata": {},
   "outputs": [
    {
     "name": "stdout",
     "output_type": "stream",
     "text": [
      "              precision    recall  f1-score   support\n",
      "\n",
      "           0       0.00      0.00      0.00         2\n",
      "           1       1.00      0.25      0.40         4\n",
      "           2       0.00      0.00      0.00         2\n",
      "           3       0.50      1.00      0.67         5\n",
      "\n",
      "    accuracy                           0.46        13\n",
      "   macro avg       0.38      0.31      0.27        13\n",
      "weighted avg       0.50      0.46      0.38        13\n",
      "\n",
      "[[0 0 1 1]\n",
      " [0 1 1 2]\n",
      " [0 0 0 2]\n",
      " [0 0 0 5]]\n"
     ]
    },
    {
     "name": "stderr",
     "output_type": "stream",
     "text": [
      "/usr/local/lib/python3.10/dist-packages/sklearn/metrics/_classification.py:1344: UndefinedMetricWarning: Precision and F-score are ill-defined and being set to 0.0 in labels with no predicted samples. Use `zero_division` parameter to control this behavior.\n",
      "  _warn_prf(average, modifier, msg_start, len(result))\n",
      "/usr/local/lib/python3.10/dist-packages/sklearn/metrics/_classification.py:1344: UndefinedMetricWarning: Precision and F-score are ill-defined and being set to 0.0 in labels with no predicted samples. Use `zero_division` parameter to control this behavior.\n",
      "  _warn_prf(average, modifier, msg_start, len(result))\n",
      "/usr/local/lib/python3.10/dist-packages/sklearn/metrics/_classification.py:1344: UndefinedMetricWarning: Precision and F-score are ill-defined and being set to 0.0 in labels with no predicted samples. Use `zero_division` parameter to control this behavior.\n",
      "  _warn_prf(average, modifier, msg_start, len(result))\n"
     ]
    }
   ],
   "source": [
    "#Accuracy of the predicted values\n",
    "from sklearn.metrics import classification_report,confusion_matrix\n",
    "print(classification_report(y_test_class,y_pred_class))\n",
    "print(confusion_matrix(y_test_class,y_pred_class))\n"
   ]
  }
 ],
 "metadata": {
  "kernelspec": {
   "display_name": "Python 3.10 (NGC 24.01 / TensorFlow 2.14) on Backend.AI",
   "language": "python",
   "name": "python3"
  },
  "language_info": {
   "codemirror_mode": {
    "name": "ipython",
    "version": 3
   },
   "file_extension": ".py",
   "mimetype": "text/x-python",
   "name": "python",
   "nbconvert_exporter": "python",
   "pygments_lexer": "ipython3",
   "version": "3.10.12"
  }
 },
 "nbformat": 4,
 "nbformat_minor": 5
}
