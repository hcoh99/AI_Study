{
 "cells": [
  {
   "cell_type": "code",
   "execution_count": 1,
   "id": "b7b4e32c-06d0-41c5-90e5-eefeb72b54cd",
   "metadata": {},
   "outputs": [],
   "source": [
    "import pandas as pd\n",
    "import numpy as np\n",
    "import os\n",
    "import tensorflow as tf\n",
    "import matplotlib.pyplot as plt\n",
    "import seaborn\n",
    "from sklearn.metrics import classification_report\n",
    "from sklearn.metrics import cohen_kappa_score\n",
    "from sklearn.metrics import roc_curve, auc, roc_auc_score\n",
    "from sklearn.metrics import precision_recall_curve\n",
    "from sklearn.preprocessing import LabelBinarizer"
   ]
  },
  {
   "cell_type": "code",
   "execution_count": null,
   "id": "75a9ae15-3077-4bf4-865b-4afac65f68cc",
   "metadata": {},
   "outputs": [],
   "source": []
  },
  {
   "cell_type": "code",
   "execution_count": 2,
   "id": "8b66803b-fdb2-4f60-885d-7a407b5849a5",
   "metadata": {},
   "outputs": [],
   "source": [
    "import numpy as np\n",
    "import tensorflow as tf\n",
    "from tensorflow import keras\n",
    "\n",
    "import pandas as pd\n",
    "import seaborn as sns\n",
    "from pylab import rcParams\n",
    "import matplotlib.pyplot as plt\n",
    "from matplotlib import rc\n",
    "from pandas.plotting import register_matplotlib_converters\n",
    "from sklearn.model_selection import train_test_split\n",
    "from sklearn.metrics import precision_score, recall_score, f1_score\n",
    "\n",
    "from pandas import read_csv, unique\n",
    "\n",
    "import numpy as np\n",
    "import pandas as pd\n",
    "\n",
    "from scipy.interpolate import interp1d\n",
    "from scipy.stats import mode\n",
    "\n",
    "from sklearn.preprocessing import LabelEncoder\n",
    "from sklearn.metrics import classification_report, confusion_matrix, ConfusionMatrixDisplay\n",
    "\n",
    "from tensorflow import stack\n",
    "from tensorflow.keras.utils import to_categorical\n",
    "from keras.models import Sequential\n",
    "from tensorflow.keras.layers import Bidirectional, LSTM, Dropout, Dense\n",
    "from keras.layers import Dense, GlobalAveragePooling1D, BatchNormalization, MaxPool1D, Reshape, Activation\n",
    "from tensorflow.keras.layers import Conv1D, Flatten, Reshape, MaxPooling1D\n",
    "from keras.callbacks import ModelCheckpoint, EarlyStopping\n",
    "import matplotlib.pyplot as plt\n",
    "from imblearn.over_sampling import SMOTE"
   ]
  },
  {
   "cell_type": "code",
   "execution_count": 3,
   "id": "b0956204-c189-4bce-b484-0efc4fda3923",
   "metadata": {},
   "outputs": [],
   "source": [
    "features = ['Time', 'ankle-x', 'ankle-y', 'ankle-z', \n",
    "            'thigh-x', 'thigh-y', 'thigh-z',\n",
    "            'trunk-x', 'trunk-y', 'trunk-z', 'status','user_number']\n",
    "\n",
    "     "
   ]
  },
  {
   "cell_type": "code",
   "execution_count": 4,
   "id": "0dd1c64b-7c3e-429a-9a81-baf317c1811f",
   "metadata": {},
   "outputs": [
    {
     "data": {
      "text/html": [
       "<div>\n",
       "<style scoped>\n",
       "    .dataframe tbody tr th:only-of-type {\n",
       "        vertical-align: middle;\n",
       "    }\n",
       "\n",
       "    .dataframe tbody tr th {\n",
       "        vertical-align: top;\n",
       "    }\n",
       "\n",
       "    .dataframe thead th {\n",
       "        text-align: right;\n",
       "    }\n",
       "</style>\n",
       "<table border=\"1\" class=\"dataframe\">\n",
       "  <thead>\n",
       "    <tr style=\"text-align: right;\">\n",
       "      <th></th>\n",
       "      <th>Time</th>\n",
       "      <th>ankle-x</th>\n",
       "      <th>ankle-y</th>\n",
       "      <th>ankle-z</th>\n",
       "      <th>thigh-x</th>\n",
       "      <th>thigh-y</th>\n",
       "      <th>thigh-z</th>\n",
       "      <th>trunk-x</th>\n",
       "      <th>trunk-y</th>\n",
       "      <th>trunk-z</th>\n",
       "      <th>status</th>\n",
       "      <th>user_number</th>\n",
       "    </tr>\n",
       "  </thead>\n",
       "  <tbody>\n",
       "    <tr>\n",
       "      <th>0</th>\n",
       "      <td>15</td>\n",
       "      <td>0</td>\n",
       "      <td>0</td>\n",
       "      <td>0</td>\n",
       "      <td>-100</td>\n",
       "      <td>0</td>\n",
       "      <td>-969</td>\n",
       "      <td>0</td>\n",
       "      <td>0</td>\n",
       "      <td>0</td>\n",
       "      <td>0</td>\n",
       "      <td>10</td>\n",
       "    </tr>\n",
       "    <tr>\n",
       "      <th>1</th>\n",
       "      <td>31</td>\n",
       "      <td>0</td>\n",
       "      <td>0</td>\n",
       "      <td>0</td>\n",
       "      <td>-100</td>\n",
       "      <td>0</td>\n",
       "      <td>-969</td>\n",
       "      <td>0</td>\n",
       "      <td>0</td>\n",
       "      <td>0</td>\n",
       "      <td>0</td>\n",
       "      <td>10</td>\n",
       "    </tr>\n",
       "    <tr>\n",
       "      <th>2</th>\n",
       "      <td>46</td>\n",
       "      <td>0</td>\n",
       "      <td>0</td>\n",
       "      <td>0</td>\n",
       "      <td>-100</td>\n",
       "      <td>9</td>\n",
       "      <td>-969</td>\n",
       "      <td>0</td>\n",
       "      <td>0</td>\n",
       "      <td>0</td>\n",
       "      <td>0</td>\n",
       "      <td>10</td>\n",
       "    </tr>\n",
       "    <tr>\n",
       "      <th>3</th>\n",
       "      <td>62</td>\n",
       "      <td>0</td>\n",
       "      <td>0</td>\n",
       "      <td>0</td>\n",
       "      <td>-100</td>\n",
       "      <td>9</td>\n",
       "      <td>-969</td>\n",
       "      <td>0</td>\n",
       "      <td>0</td>\n",
       "      <td>0</td>\n",
       "      <td>0</td>\n",
       "      <td>10</td>\n",
       "    </tr>\n",
       "    <tr>\n",
       "      <th>4</th>\n",
       "      <td>78</td>\n",
       "      <td>0</td>\n",
       "      <td>0</td>\n",
       "      <td>0</td>\n",
       "      <td>-109</td>\n",
       "      <td>9</td>\n",
       "      <td>-1000</td>\n",
       "      <td>0</td>\n",
       "      <td>0</td>\n",
       "      <td>0</td>\n",
       "      <td>0</td>\n",
       "      <td>10</td>\n",
       "    </tr>\n",
       "    <tr>\n",
       "      <th>...</th>\n",
       "      <td>...</td>\n",
       "      <td>...</td>\n",
       "      <td>...</td>\n",
       "      <td>...</td>\n",
       "      <td>...</td>\n",
       "      <td>...</td>\n",
       "      <td>...</td>\n",
       "      <td>...</td>\n",
       "      <td>...</td>\n",
       "      <td>...</td>\n",
       "      <td>...</td>\n",
       "      <td>...</td>\n",
       "    </tr>\n",
       "    <tr>\n",
       "      <th>100741</th>\n",
       "      <td>1574093</td>\n",
       "      <td>50</td>\n",
       "      <td>39</td>\n",
       "      <td>-970</td>\n",
       "      <td>54</td>\n",
       "      <td>37</td>\n",
       "      <td>-989</td>\n",
       "      <td>330</td>\n",
       "      <td>-123</td>\n",
       "      <td>-922</td>\n",
       "      <td>0</td>\n",
       "      <td>05</td>\n",
       "    </tr>\n",
       "    <tr>\n",
       "      <th>100742</th>\n",
       "      <td>1574109</td>\n",
       "      <td>60</td>\n",
       "      <td>29</td>\n",
       "      <td>-960</td>\n",
       "      <td>36</td>\n",
       "      <td>55</td>\n",
       "      <td>-979</td>\n",
       "      <td>339</td>\n",
       "      <td>-123</td>\n",
       "      <td>-902</td>\n",
       "      <td>0</td>\n",
       "      <td>05</td>\n",
       "    </tr>\n",
       "    <tr>\n",
       "      <th>100743</th>\n",
       "      <td>1574125</td>\n",
       "      <td>60</td>\n",
       "      <td>39</td>\n",
       "      <td>-940</td>\n",
       "      <td>36</td>\n",
       "      <td>55</td>\n",
       "      <td>-1000</td>\n",
       "      <td>339</td>\n",
       "      <td>-123</td>\n",
       "      <td>-912</td>\n",
       "      <td>0</td>\n",
       "      <td>05</td>\n",
       "    </tr>\n",
       "    <tr>\n",
       "      <th>100744</th>\n",
       "      <td>1574140</td>\n",
       "      <td>60</td>\n",
       "      <td>39</td>\n",
       "      <td>-960</td>\n",
       "      <td>45</td>\n",
       "      <td>46</td>\n",
       "      <td>-959</td>\n",
       "      <td>320</td>\n",
       "      <td>-123</td>\n",
       "      <td>-912</td>\n",
       "      <td>0</td>\n",
       "      <td>05</td>\n",
       "    </tr>\n",
       "    <tr>\n",
       "      <th>100745</th>\n",
       "      <td>1574156</td>\n",
       "      <td>60</td>\n",
       "      <td>29</td>\n",
       "      <td>-960</td>\n",
       "      <td>0</td>\n",
       "      <td>0</td>\n",
       "      <td>0</td>\n",
       "      <td>0</td>\n",
       "      <td>0</td>\n",
       "      <td>0</td>\n",
       "      <td>0</td>\n",
       "      <td>05</td>\n",
       "    </tr>\n",
       "  </tbody>\n",
       "</table>\n",
       "<p>1917887 rows × 12 columns</p>\n",
       "</div>"
      ],
      "text/plain": [
       "           Time  ankle-x  ankle-y  ankle-z  thigh-x  thigh-y  thigh-z  \\\n",
       "0            15        0        0        0     -100        0     -969   \n",
       "1            31        0        0        0     -100        0     -969   \n",
       "2            46        0        0        0     -100        9     -969   \n",
       "3            62        0        0        0     -100        9     -969   \n",
       "4            78        0        0        0     -109        9    -1000   \n",
       "...         ...      ...      ...      ...      ...      ...      ...   \n",
       "100741  1574093       50       39     -970       54       37     -989   \n",
       "100742  1574109       60       29     -960       36       55     -979   \n",
       "100743  1574125       60       39     -940       36       55    -1000   \n",
       "100744  1574140       60       39     -960       45       46     -959   \n",
       "100745  1574156       60       29     -960        0        0        0   \n",
       "\n",
       "        trunk-x  trunk-y  trunk-z  status user_number  \n",
       "0             0        0        0       0          10  \n",
       "1             0        0        0       0          10  \n",
       "2             0        0        0       0          10  \n",
       "3             0        0        0       0          10  \n",
       "4             0        0        0       0          10  \n",
       "...         ...      ...      ...     ...         ...  \n",
       "100741      330     -123     -922       0          05  \n",
       "100742      339     -123     -902       0          05  \n",
       "100743      339     -123     -912       0          05  \n",
       "100744      320     -123     -912       0          05  \n",
       "100745        0        0        0       0          05  \n",
       "\n",
       "[1917887 rows x 12 columns]"
      ]
     },
     "execution_count": 4,
     "metadata": {},
     "output_type": "execute_result"
    }
   ],
   "source": [
    "import os\n",
    "import pandas as pd\n",
    "\n",
    "# 데이터가 저장될 CSV 파일명\n",
    "output_csv_file = \"combined_data.csv\"\n",
    "\n",
    "# 읽어들일 디렉토리\n",
    "directory = \"/Users/ohheungchan/workspace/AI_Study/Paperwork/dataset/\"\n",
    "\n",
    "# 데이터를 저장할 DataFrame 생성\n",
    "combined_df = pd.DataFrame()\n",
    "\n",
    "# 디렉토리 내의 모든 파일에 대해 반복\n",
    "for file in os.listdir(directory):\n",
    "    if file.endswith(\".txt\"):\n",
    "        # 파일명에서 user_number 추출\n",
    "        user_number = file[1:3]  # 파일명에서 일부를 추출하여 user_number로 저장 (예: \"file01.txt\"에서 \"01\" 추출)\n",
    "        \n",
    "        # 각 텍스트 파일을 DataFrame으로 읽기\n",
    "        file_path = os.path.join(directory, file)\n",
    "        df = pd.read_csv(file_path, delimiter=' ', header=None, names=features, encoding='utf-8')  # delimiter와 컬럼명 수정 필요\n",
    "        \n",
    "        # 'user_number' 컬럼 추가\n",
    "        df['user_number'] = user_number\n",
    "        \n",
    "        # 데이터프레임에 추가\n",
    "        combined_df = pd.concat([combined_df, df])\n",
    "\n",
    "# CSV 파일로 저장\n",
    "combined_df.to_csv(output_csv_file, index=False)\n",
    "combined_df\n"
   ]
  },
  {
   "cell_type": "code",
   "execution_count": 5,
   "id": "bd61d3ea-d55e-4359-9199-752999498560",
   "metadata": {},
   "outputs": [],
   "source": [
    "df = combined_df"
   ]
  },
  {
   "cell_type": "code",
   "execution_count": 6,
   "id": "881f4921-b8bd-4587-b7a3-b08cccb8f3f1",
   "metadata": {},
   "outputs": [
    {
     "data": {
      "text/html": [
       "<div>\n",
       "<style scoped>\n",
       "    .dataframe tbody tr th:only-of-type {\n",
       "        vertical-align: middle;\n",
       "    }\n",
       "\n",
       "    .dataframe tbody tr th {\n",
       "        vertical-align: top;\n",
       "    }\n",
       "\n",
       "    .dataframe thead th {\n",
       "        text-align: right;\n",
       "    }\n",
       "</style>\n",
       "<table border=\"1\" class=\"dataframe\">\n",
       "  <thead>\n",
       "    <tr style=\"text-align: right;\">\n",
       "      <th></th>\n",
       "      <th>Time</th>\n",
       "      <th>ankle-x</th>\n",
       "      <th>ankle-y</th>\n",
       "      <th>ankle-z</th>\n",
       "      <th>thigh-x</th>\n",
       "      <th>thigh-y</th>\n",
       "      <th>thigh-z</th>\n",
       "      <th>trunk-x</th>\n",
       "      <th>trunk-y</th>\n",
       "      <th>trunk-z</th>\n",
       "      <th>status</th>\n",
       "      <th>user_number</th>\n",
       "    </tr>\n",
       "  </thead>\n",
       "  <tbody>\n",
       "    <tr>\n",
       "      <th>0</th>\n",
       "      <td>15</td>\n",
       "      <td>0</td>\n",
       "      <td>0</td>\n",
       "      <td>0</td>\n",
       "      <td>-100</td>\n",
       "      <td>0</td>\n",
       "      <td>-969</td>\n",
       "      <td>0</td>\n",
       "      <td>0</td>\n",
       "      <td>0</td>\n",
       "      <td>0</td>\n",
       "      <td>10</td>\n",
       "    </tr>\n",
       "    <tr>\n",
       "      <th>1</th>\n",
       "      <td>31</td>\n",
       "      <td>0</td>\n",
       "      <td>0</td>\n",
       "      <td>0</td>\n",
       "      <td>-100</td>\n",
       "      <td>0</td>\n",
       "      <td>-969</td>\n",
       "      <td>0</td>\n",
       "      <td>0</td>\n",
       "      <td>0</td>\n",
       "      <td>0</td>\n",
       "      <td>10</td>\n",
       "    </tr>\n",
       "    <tr>\n",
       "      <th>2</th>\n",
       "      <td>46</td>\n",
       "      <td>0</td>\n",
       "      <td>0</td>\n",
       "      <td>0</td>\n",
       "      <td>-100</td>\n",
       "      <td>9</td>\n",
       "      <td>-969</td>\n",
       "      <td>0</td>\n",
       "      <td>0</td>\n",
       "      <td>0</td>\n",
       "      <td>0</td>\n",
       "      <td>10</td>\n",
       "    </tr>\n",
       "    <tr>\n",
       "      <th>3</th>\n",
       "      <td>62</td>\n",
       "      <td>0</td>\n",
       "      <td>0</td>\n",
       "      <td>0</td>\n",
       "      <td>-100</td>\n",
       "      <td>9</td>\n",
       "      <td>-969</td>\n",
       "      <td>0</td>\n",
       "      <td>0</td>\n",
       "      <td>0</td>\n",
       "      <td>0</td>\n",
       "      <td>10</td>\n",
       "    </tr>\n",
       "    <tr>\n",
       "      <th>4</th>\n",
       "      <td>78</td>\n",
       "      <td>0</td>\n",
       "      <td>0</td>\n",
       "      <td>0</td>\n",
       "      <td>-109</td>\n",
       "      <td>9</td>\n",
       "      <td>-1000</td>\n",
       "      <td>0</td>\n",
       "      <td>0</td>\n",
       "      <td>0</td>\n",
       "      <td>0</td>\n",
       "      <td>10</td>\n",
       "    </tr>\n",
       "    <tr>\n",
       "      <th>...</th>\n",
       "      <td>...</td>\n",
       "      <td>...</td>\n",
       "      <td>...</td>\n",
       "      <td>...</td>\n",
       "      <td>...</td>\n",
       "      <td>...</td>\n",
       "      <td>...</td>\n",
       "      <td>...</td>\n",
       "      <td>...</td>\n",
       "      <td>...</td>\n",
       "      <td>...</td>\n",
       "      <td>...</td>\n",
       "    </tr>\n",
       "    <tr>\n",
       "      <th>100741</th>\n",
       "      <td>1574093</td>\n",
       "      <td>50</td>\n",
       "      <td>39</td>\n",
       "      <td>-970</td>\n",
       "      <td>54</td>\n",
       "      <td>37</td>\n",
       "      <td>-989</td>\n",
       "      <td>330</td>\n",
       "      <td>-123</td>\n",
       "      <td>-922</td>\n",
       "      <td>0</td>\n",
       "      <td>05</td>\n",
       "    </tr>\n",
       "    <tr>\n",
       "      <th>100742</th>\n",
       "      <td>1574109</td>\n",
       "      <td>60</td>\n",
       "      <td>29</td>\n",
       "      <td>-960</td>\n",
       "      <td>36</td>\n",
       "      <td>55</td>\n",
       "      <td>-979</td>\n",
       "      <td>339</td>\n",
       "      <td>-123</td>\n",
       "      <td>-902</td>\n",
       "      <td>0</td>\n",
       "      <td>05</td>\n",
       "    </tr>\n",
       "    <tr>\n",
       "      <th>100743</th>\n",
       "      <td>1574125</td>\n",
       "      <td>60</td>\n",
       "      <td>39</td>\n",
       "      <td>-940</td>\n",
       "      <td>36</td>\n",
       "      <td>55</td>\n",
       "      <td>-1000</td>\n",
       "      <td>339</td>\n",
       "      <td>-123</td>\n",
       "      <td>-912</td>\n",
       "      <td>0</td>\n",
       "      <td>05</td>\n",
       "    </tr>\n",
       "    <tr>\n",
       "      <th>100744</th>\n",
       "      <td>1574140</td>\n",
       "      <td>60</td>\n",
       "      <td>39</td>\n",
       "      <td>-960</td>\n",
       "      <td>45</td>\n",
       "      <td>46</td>\n",
       "      <td>-959</td>\n",
       "      <td>320</td>\n",
       "      <td>-123</td>\n",
       "      <td>-912</td>\n",
       "      <td>0</td>\n",
       "      <td>05</td>\n",
       "    </tr>\n",
       "    <tr>\n",
       "      <th>100745</th>\n",
       "      <td>1574156</td>\n",
       "      <td>60</td>\n",
       "      <td>29</td>\n",
       "      <td>-960</td>\n",
       "      <td>0</td>\n",
       "      <td>0</td>\n",
       "      <td>0</td>\n",
       "      <td>0</td>\n",
       "      <td>0</td>\n",
       "      <td>0</td>\n",
       "      <td>0</td>\n",
       "      <td>05</td>\n",
       "    </tr>\n",
       "  </tbody>\n",
       "</table>\n",
       "<p>1917887 rows × 12 columns</p>\n",
       "</div>"
      ],
      "text/plain": [
       "           Time  ankle-x  ankle-y  ankle-z  thigh-x  thigh-y  thigh-z  \\\n",
       "0            15        0        0        0     -100        0     -969   \n",
       "1            31        0        0        0     -100        0     -969   \n",
       "2            46        0        0        0     -100        9     -969   \n",
       "3            62        0        0        0     -100        9     -969   \n",
       "4            78        0        0        0     -109        9    -1000   \n",
       "...         ...      ...      ...      ...      ...      ...      ...   \n",
       "100741  1574093       50       39     -970       54       37     -989   \n",
       "100742  1574109       60       29     -960       36       55     -979   \n",
       "100743  1574125       60       39     -940       36       55    -1000   \n",
       "100744  1574140       60       39     -960       45       46     -959   \n",
       "100745  1574156       60       29     -960        0        0        0   \n",
       "\n",
       "        trunk-x  trunk-y  trunk-z  status user_number  \n",
       "0             0        0        0       0          10  \n",
       "1             0        0        0       0          10  \n",
       "2             0        0        0       0          10  \n",
       "3             0        0        0       0          10  \n",
       "4             0        0        0       0          10  \n",
       "...         ...      ...      ...     ...         ...  \n",
       "100741      330     -123     -922       0          05  \n",
       "100742      339     -123     -902       0          05  \n",
       "100743      339     -123     -912       0          05  \n",
       "100744      320     -123     -912       0          05  \n",
       "100745        0        0        0       0          05  \n",
       "\n",
       "[1917887 rows x 12 columns]"
      ]
     },
     "execution_count": 6,
     "metadata": {},
     "output_type": "execute_result"
    }
   ],
   "source": [
    "df"
   ]
  },
  {
   "cell_type": "code",
   "execution_count": 7,
   "id": "58403b8c-e63e-4a13-baa2-511b8846489c",
   "metadata": {
    "scrolled": true
   },
   "outputs": [
    {
     "name": "stdout",
     "output_type": "stream",
     "text": [
      "<class 'pandas.core.frame.DataFrame'>\n",
      "Index: 1917887 entries, 0 to 100745\n",
      "Data columns (total 12 columns):\n",
      " #   Column       Dtype \n",
      "---  ------       ----- \n",
      " 0   Time         int64 \n",
      " 1   ankle-x      int64 \n",
      " 2   ankle-y      int64 \n",
      " 3   ankle-z      int64 \n",
      " 4   thigh-x      int64 \n",
      " 5   thigh-y      int64 \n",
      " 6   thigh-z      int64 \n",
      " 7   trunk-x      int64 \n",
      " 8   trunk-y      int64 \n",
      " 9   trunk-z      int64 \n",
      " 10  status       int64 \n",
      " 11  user_number  object\n",
      "dtypes: int64(11), object(1)\n",
      "memory usage: 190.2+ MB\n"
     ]
    }
   ],
   "source": [
    "df.info()"
   ]
  },
  {
   "cell_type": "code",
   "execution_count": 8,
   "id": "b3797f10-cab0-4612-a8ae-490bfef0db5b",
   "metadata": {},
   "outputs": [
    {
     "data": {
      "text/plain": [
       "array(['10', '02', '06', '08', '04', '01', '03', '07', '09', '05'],\n",
       "      dtype=object)"
      ]
     },
     "execution_count": 8,
     "metadata": {},
     "output_type": "execute_result"
    }
   ],
   "source": [
    "df['user_number'].unique()"
   ]
  },
  {
   "cell_type": "code",
   "execution_count": 9,
   "id": "0af98c94-6789-4824-a3d7-2a86a57d9615",
   "metadata": {},
   "outputs": [
    {
     "name": "stderr",
     "output_type": "stream",
     "text": [
      "/var/folders/9x/8whwzmnj6z5bjc7_h1txd9_r0000gn/T/ipykernel_5627/3599006899.py:2: SettingWithCopyWarning: \n",
      "A value is trying to be set on a copy of a slice from a DataFrame.\n",
      "Try using .loc[row_indexer,col_indexer] = value instead\n",
      "\n",
      "See the caveats in the documentation: https://pandas.pydata.org/pandas-docs/stable/user_guide/indexing.html#returning-a-view-versus-a-copy\n",
      "  df['status'] = df['status'].replace({1: 0, 2: 1})\n"
     ]
    }
   ],
   "source": [
    "df = df[df['status'] != 0]\n",
    "df['status'] = df['status'].replace({1: 0, 2: 1})\n"
   ]
  },
  {
   "cell_type": "code",
   "execution_count": 10,
   "id": "678fabd3-1c2d-4217-8799-f236e35ced3b",
   "metadata": {
    "scrolled": true
   },
   "outputs": [
    {
     "data": {
      "text/plain": [
       "status\n",
       "0    1030050\n",
       "1     110785\n",
       "Name: count, dtype: int64"
      ]
     },
     "execution_count": 10,
     "metadata": {},
     "output_type": "execute_result"
    }
   ],
   "source": [
    "df['status'].value_counts()\n"
   ]
  },
  {
   "cell_type": "code",
   "execution_count": 11,
   "id": "67565371-3a7f-429c-8bbb-dc3326142c8a",
   "metadata": {
    "scrolled": true
   },
   "outputs": [
    {
     "name": "stdout",
     "output_type": "stream",
     "text": [
      "<class 'pandas.core.frame.DataFrame'>\n",
      "Index: 1140835 entries, 38399 to 94079\n",
      "Data columns (total 12 columns):\n",
      " #   Column       Non-Null Count    Dtype \n",
      "---  ------       --------------    ----- \n",
      " 0   Time         1140835 non-null  int64 \n",
      " 1   ankle-x      1140835 non-null  int64 \n",
      " 2   ankle-y      1140835 non-null  int64 \n",
      " 3   ankle-z      1140835 non-null  int64 \n",
      " 4   thigh-x      1140835 non-null  int64 \n",
      " 5   thigh-y      1140835 non-null  int64 \n",
      " 6   thigh-z      1140835 non-null  int64 \n",
      " 7   trunk-x      1140835 non-null  int64 \n",
      " 8   trunk-y      1140835 non-null  int64 \n",
      " 9   trunk-z      1140835 non-null  int64 \n",
      " 10  status       1140835 non-null  int64 \n",
      " 11  user_number  1140835 non-null  object\n",
      "dtypes: int64(11), object(1)\n",
      "memory usage: 113.2+ MB\n"
     ]
    }
   ],
   "source": [
    "df.info()"
   ]
  },
  {
   "cell_type": "code",
   "execution_count": 12,
   "id": "96ff6350-8de0-4b6a-9d6a-12fe977bb6d8",
   "metadata": {},
   "outputs": [
    {
     "name": "stderr",
     "output_type": "stream",
     "text": [
      "/var/folders/9x/8whwzmnj6z5bjc7_h1txd9_r0000gn/T/ipykernel_5627/1227113622.py:1: SettingWithCopyWarning: \n",
      "A value is trying to be set on a copy of a slice from a DataFrame.\n",
      "Try using .loc[row_indexer,col_indexer] = value instead\n",
      "\n",
      "See the caveats in the documentation: https://pandas.pydata.org/pandas-docs/stable/user_guide/indexing.html#returning-a-view-versus-a-copy\n",
      "  df['user_number'] = df['user_number'].astype(int)\n"
     ]
    }
   ],
   "source": [
    "df['user_number'] = df['user_number'].astype(int)"
   ]
  },
  {
   "cell_type": "code",
   "execution_count": 14,
   "id": "8bde4155-4a01-4ed1-9cb9-b310b5260820",
   "metadata": {},
   "outputs": [
    {
     "data": {
      "image/png": "[encoded data removed]",
      "text/plain": [
       "<Figure size 3000x1000 with 1 Axes>"
      ]
     },
     "metadata": {},
     "output_type": "display_data"
    }
   ],
   "source": [
    "plt.figure(figsize=(30, 10))\n",
    "sns.countplot(x = \"user_number\", hue=\"status\", data = df,\n",
    "              order = df.user_number.value_counts().index)\n",
    "plt.title(\"Records per user\");"
   ]
  },
  {
   "cell_type": "code",
   "execution_count": 13,
   "id": "9ce75bb6-6fb6-47a5-8612-d7307417910e",
   "metadata": {
    "scrolled": true
   },
   "outputs": [
    {
     "data": {
      "text/html": [
       "<div>\n",
       "<style scoped>\n",
       "    .dataframe tbody tr th:only-of-type {\n",
       "        vertical-align: middle;\n",
       "    }\n",
       "\n",
       "    .dataframe tbody tr th {\n",
       "        vertical-align: top;\n",
       "    }\n",
       "\n",
       "    .dataframe thead th {\n",
       "        text-align: right;\n",
       "    }\n",
       "</style>\n",
       "<table border=\"1\" class=\"dataframe\">\n",
       "  <thead>\n",
       "    <tr style=\"text-align: right;\">\n",
       "      <th></th>\n",
       "      <th>Time</th>\n",
       "      <th>ankle-x</th>\n",
       "      <th>ankle-y</th>\n",
       "      <th>ankle-z</th>\n",
       "      <th>thigh-x</th>\n",
       "      <th>thigh-y</th>\n",
       "      <th>thigh-z</th>\n",
       "      <th>trunk-x</th>\n",
       "      <th>trunk-y</th>\n",
       "      <th>trunk-z</th>\n",
       "      <th>user_number</th>\n",
       "    </tr>\n",
       "  </thead>\n",
       "  <tbody>\n",
       "    <tr>\n",
       "      <th>38399</th>\n",
       "      <td>600000</td>\n",
       "      <td>-353</td>\n",
       "      <td>950</td>\n",
       "      <td>178</td>\n",
       "      <td>172</td>\n",
       "      <td>953</td>\n",
       "      <td>232</td>\n",
       "      <td>87</td>\n",
       "      <td>1000</td>\n",
       "      <td>-116</td>\n",
       "      <td>10</td>\n",
       "    </tr>\n",
       "    <tr>\n",
       "      <th>38400</th>\n",
       "      <td>600015</td>\n",
       "      <td>-383</td>\n",
       "      <td>960</td>\n",
       "      <td>198</td>\n",
       "      <td>181</td>\n",
       "      <td>944</td>\n",
       "      <td>212</td>\n",
       "      <td>97</td>\n",
       "      <td>990</td>\n",
       "      <td>-87</td>\n",
       "      <td>10</td>\n",
       "    </tr>\n",
       "    <tr>\n",
       "      <th>38401</th>\n",
       "      <td>600031</td>\n",
       "      <td>-363</td>\n",
       "      <td>950</td>\n",
       "      <td>178</td>\n",
       "      <td>190</td>\n",
       "      <td>935</td>\n",
       "      <td>232</td>\n",
       "      <td>97</td>\n",
       "      <td>1000</td>\n",
       "      <td>-116</td>\n",
       "      <td>10</td>\n",
       "    </tr>\n",
       "    <tr>\n",
       "      <th>38402</th>\n",
       "      <td>600046</td>\n",
       "      <td>-363</td>\n",
       "      <td>950</td>\n",
       "      <td>198</td>\n",
       "      <td>172</td>\n",
       "      <td>944</td>\n",
       "      <td>202</td>\n",
       "      <td>97</td>\n",
       "      <td>1000</td>\n",
       "      <td>-97</td>\n",
       "      <td>10</td>\n",
       "    </tr>\n",
       "    <tr>\n",
       "      <th>38403</th>\n",
       "      <td>600062</td>\n",
       "      <td>-343</td>\n",
       "      <td>960</td>\n",
       "      <td>207</td>\n",
       "      <td>163</td>\n",
       "      <td>944</td>\n",
       "      <td>232</td>\n",
       "      <td>106</td>\n",
       "      <td>1000</td>\n",
       "      <td>-97</td>\n",
       "      <td>10</td>\n",
       "    </tr>\n",
       "    <tr>\n",
       "      <th>...</th>\n",
       "      <td>...</td>\n",
       "      <td>...</td>\n",
       "      <td>...</td>\n",
       "      <td>...</td>\n",
       "      <td>...</td>\n",
       "      <td>...</td>\n",
       "      <td>...</td>\n",
       "      <td>...</td>\n",
       "      <td>...</td>\n",
       "      <td>...</td>\n",
       "      <td>...</td>\n",
       "    </tr>\n",
       "    <tr>\n",
       "      <th>94075</th>\n",
       "      <td>1469937</td>\n",
       "      <td>343</td>\n",
       "      <td>1009</td>\n",
       "      <td>118</td>\n",
       "      <td>818</td>\n",
       "      <td>481</td>\n",
       "      <td>-50</td>\n",
       "      <td>864</td>\n",
       "      <td>485</td>\n",
       "      <td>203</td>\n",
       "      <td>5</td>\n",
       "    </tr>\n",
       "    <tr>\n",
       "      <th>94076</th>\n",
       "      <td>1469953</td>\n",
       "      <td>313</td>\n",
       "      <td>990</td>\n",
       "      <td>128</td>\n",
       "      <td>818</td>\n",
       "      <td>527</td>\n",
       "      <td>-80</td>\n",
       "      <td>844</td>\n",
       "      <td>476</td>\n",
       "      <td>223</td>\n",
       "      <td>5</td>\n",
       "    </tr>\n",
       "    <tr>\n",
       "      <th>94077</th>\n",
       "      <td>1469968</td>\n",
       "      <td>333</td>\n",
       "      <td>1000</td>\n",
       "      <td>108</td>\n",
       "      <td>827</td>\n",
       "      <td>500</td>\n",
       "      <td>-20</td>\n",
       "      <td>864</td>\n",
       "      <td>466</td>\n",
       "      <td>194</td>\n",
       "      <td>5</td>\n",
       "    </tr>\n",
       "    <tr>\n",
       "      <th>94078</th>\n",
       "      <td>1469984</td>\n",
       "      <td>323</td>\n",
       "      <td>1039</td>\n",
       "      <td>108</td>\n",
       "      <td>836</td>\n",
       "      <td>500</td>\n",
       "      <td>-40</td>\n",
       "      <td>854</td>\n",
       "      <td>457</td>\n",
       "      <td>233</td>\n",
       "      <td>5</td>\n",
       "    </tr>\n",
       "    <tr>\n",
       "      <th>94079</th>\n",
       "      <td>1470000</td>\n",
       "      <td>333</td>\n",
       "      <td>980</td>\n",
       "      <td>168</td>\n",
       "      <td>836</td>\n",
       "      <td>500</td>\n",
       "      <td>-60</td>\n",
       "      <td>873</td>\n",
       "      <td>438</td>\n",
       "      <td>223</td>\n",
       "      <td>5</td>\n",
       "    </tr>\n",
       "  </tbody>\n",
       "</table>\n",
       "<p>1140835 rows × 11 columns</p>\n",
       "</div>"
      ],
      "text/plain": [
       "          Time  ankle-x  ankle-y  ankle-z  thigh-x  thigh-y  thigh-z  trunk-x  \\\n",
       "38399   600000     -353      950      178      172      953      232       87   \n",
       "38400   600015     -383      960      198      181      944      212       97   \n",
       "38401   600031     -363      950      178      190      935      232       97   \n",
       "38402   600046     -363      950      198      172      944      202       97   \n",
       "38403   600062     -343      960      207      163      944      232      106   \n",
       "...        ...      ...      ...      ...      ...      ...      ...      ...   \n",
       "94075  1469937      343     1009      118      818      481      -50      864   \n",
       "94076  1469953      313      990      128      818      527      -80      844   \n",
       "94077  1469968      333     1000      108      827      500      -20      864   \n",
       "94078  1469984      323     1039      108      836      500      -40      854   \n",
       "94079  1470000      333      980      168      836      500      -60      873   \n",
       "\n",
       "       trunk-y  trunk-z  user_number  \n",
       "38399     1000     -116           10  \n",
       "38400      990      -87           10  \n",
       "38401     1000     -116           10  \n",
       "38402     1000      -97           10  \n",
       "38403     1000      -97           10  \n",
       "...        ...      ...          ...  \n",
       "94075      485      203            5  \n",
       "94076      476      223            5  \n",
       "94077      466      194            5  \n",
       "94078      457      233            5  \n",
       "94079      438      223            5  \n",
       "\n",
       "[1140835 rows x 11 columns]"
      ]
     },
     "execution_count": 13,
     "metadata": {},
     "output_type": "execute_result"
    }
   ],
   "source": [
    "X=df.drop('status',axis=1)\n",
    "X"
   ]
  },
  {
   "cell_type": "code",
   "execution_count": 15,
   "id": "366049a6-eb48-4a5f-9447-5f80b3ffcf3d",
   "metadata": {},
   "outputs": [
    {
     "data": {
      "text/html": [
       "<div>\n",
       "<style scoped>\n",
       "    .dataframe tbody tr th:only-of-type {\n",
       "        vertical-align: middle;\n",
       "    }\n",
       "\n",
       "    .dataframe tbody tr th {\n",
       "        vertical-align: top;\n",
       "    }\n",
       "\n",
       "    .dataframe thead th {\n",
       "        text-align: right;\n",
       "    }\n",
       "</style>\n",
       "<table border=\"1\" class=\"dataframe\">\n",
       "  <thead>\n",
       "    <tr style=\"text-align: right;\">\n",
       "      <th></th>\n",
       "      <th>Time</th>\n",
       "      <th>ankle-x</th>\n",
       "      <th>ankle-y</th>\n",
       "      <th>ankle-z</th>\n",
       "      <th>thigh-x</th>\n",
       "      <th>thigh-y</th>\n",
       "      <th>thigh-z</th>\n",
       "      <th>trunk-x</th>\n",
       "      <th>trunk-y</th>\n",
       "      <th>trunk-z</th>\n",
       "    </tr>\n",
       "  </thead>\n",
       "  <tbody>\n",
       "    <tr>\n",
       "      <th>38399</th>\n",
       "      <td>600000</td>\n",
       "      <td>-353</td>\n",
       "      <td>950</td>\n",
       "      <td>178</td>\n",
       "      <td>172</td>\n",
       "      <td>953</td>\n",
       "      <td>232</td>\n",
       "      <td>87</td>\n",
       "      <td>1000</td>\n",
       "      <td>-116</td>\n",
       "    </tr>\n",
       "    <tr>\n",
       "      <th>38400</th>\n",
       "      <td>600015</td>\n",
       "      <td>-383</td>\n",
       "      <td>960</td>\n",
       "      <td>198</td>\n",
       "      <td>181</td>\n",
       "      <td>944</td>\n",
       "      <td>212</td>\n",
       "      <td>97</td>\n",
       "      <td>990</td>\n",
       "      <td>-87</td>\n",
       "    </tr>\n",
       "    <tr>\n",
       "      <th>38401</th>\n",
       "      <td>600031</td>\n",
       "      <td>-363</td>\n",
       "      <td>950</td>\n",
       "      <td>178</td>\n",
       "      <td>190</td>\n",
       "      <td>935</td>\n",
       "      <td>232</td>\n",
       "      <td>97</td>\n",
       "      <td>1000</td>\n",
       "      <td>-116</td>\n",
       "    </tr>\n",
       "    <tr>\n",
       "      <th>38402</th>\n",
       "      <td>600046</td>\n",
       "      <td>-363</td>\n",
       "      <td>950</td>\n",
       "      <td>198</td>\n",
       "      <td>172</td>\n",
       "      <td>944</td>\n",
       "      <td>202</td>\n",
       "      <td>97</td>\n",
       "      <td>1000</td>\n",
       "      <td>-97</td>\n",
       "    </tr>\n",
       "    <tr>\n",
       "      <th>38403</th>\n",
       "      <td>600062</td>\n",
       "      <td>-343</td>\n",
       "      <td>960</td>\n",
       "      <td>207</td>\n",
       "      <td>163</td>\n",
       "      <td>944</td>\n",
       "      <td>232</td>\n",
       "      <td>106</td>\n",
       "      <td>1000</td>\n",
       "      <td>-97</td>\n",
       "    </tr>\n",
       "    <tr>\n",
       "      <th>...</th>\n",
       "      <td>...</td>\n",
       "      <td>...</td>\n",
       "      <td>...</td>\n",
       "      <td>...</td>\n",
       "      <td>...</td>\n",
       "      <td>...</td>\n",
       "      <td>...</td>\n",
       "      <td>...</td>\n",
       "      <td>...</td>\n",
       "      <td>...</td>\n",
       "    </tr>\n",
       "    <tr>\n",
       "      <th>94075</th>\n",
       "      <td>1469937</td>\n",
       "      <td>343</td>\n",
       "      <td>1009</td>\n",
       "      <td>118</td>\n",
       "      <td>818</td>\n",
       "      <td>481</td>\n",
       "      <td>-50</td>\n",
       "      <td>864</td>\n",
       "      <td>485</td>\n",
       "      <td>203</td>\n",
       "    </tr>\n",
       "    <tr>\n",
       "      <th>94076</th>\n",
       "      <td>1469953</td>\n",
       "      <td>313</td>\n",
       "      <td>990</td>\n",
       "      <td>128</td>\n",
       "      <td>818</td>\n",
       "      <td>527</td>\n",
       "      <td>-80</td>\n",
       "      <td>844</td>\n",
       "      <td>476</td>\n",
       "      <td>223</td>\n",
       "    </tr>\n",
       "    <tr>\n",
       "      <th>94077</th>\n",
       "      <td>1469968</td>\n",
       "      <td>333</td>\n",
       "      <td>1000</td>\n",
       "      <td>108</td>\n",
       "      <td>827</td>\n",
       "      <td>500</td>\n",
       "      <td>-20</td>\n",
       "      <td>864</td>\n",
       "      <td>466</td>\n",
       "      <td>194</td>\n",
       "    </tr>\n",
       "    <tr>\n",
       "      <th>94078</th>\n",
       "      <td>1469984</td>\n",
       "      <td>323</td>\n",
       "      <td>1039</td>\n",
       "      <td>108</td>\n",
       "      <td>836</td>\n",
       "      <td>500</td>\n",
       "      <td>-40</td>\n",
       "      <td>854</td>\n",
       "      <td>457</td>\n",
       "      <td>233</td>\n",
       "    </tr>\n",
       "    <tr>\n",
       "      <th>94079</th>\n",
       "      <td>1470000</td>\n",
       "      <td>333</td>\n",
       "      <td>980</td>\n",
       "      <td>168</td>\n",
       "      <td>836</td>\n",
       "      <td>500</td>\n",
       "      <td>-60</td>\n",
       "      <td>873</td>\n",
       "      <td>438</td>\n",
       "      <td>223</td>\n",
       "    </tr>\n",
       "  </tbody>\n",
       "</table>\n",
       "<p>1140835 rows × 10 columns</p>\n",
       "</div>"
      ],
      "text/plain": [
       "          Time  ankle-x  ankle-y  ankle-z  thigh-x  thigh-y  thigh-z  trunk-x  \\\n",
       "38399   600000     -353      950      178      172      953      232       87   \n",
       "38400   600015     -383      960      198      181      944      212       97   \n",
       "38401   600031     -363      950      178      190      935      232       97   \n",
       "38402   600046     -363      950      198      172      944      202       97   \n",
       "38403   600062     -343      960      207      163      944      232      106   \n",
       "...        ...      ...      ...      ...      ...      ...      ...      ...   \n",
       "94075  1469937      343     1009      118      818      481      -50      864   \n",
       "94076  1469953      313      990      128      818      527      -80      844   \n",
       "94077  1469968      333     1000      108      827      500      -20      864   \n",
       "94078  1469984      323     1039      108      836      500      -40      854   \n",
       "94079  1470000      333      980      168      836      500      -60      873   \n",
       "\n",
       "       trunk-y  trunk-z  \n",
       "38399     1000     -116  \n",
       "38400      990      -87  \n",
       "38401     1000     -116  \n",
       "38402     1000      -97  \n",
       "38403     1000      -97  \n",
       "...        ...      ...  \n",
       "94075      485      203  \n",
       "94076      476      223  \n",
       "94077      466      194  \n",
       "94078      457      233  \n",
       "94079      438      223  \n",
       "\n",
       "[1140835 rows x 10 columns]"
      ]
     },
     "execution_count": 15,
     "metadata": {},
     "output_type": "execute_result"
    }
   ],
   "source": [
    "X=X.drop('user_number',axis=1)\n",
    "X"
   ]
  },
  {
   "cell_type": "code",
   "execution_count": 16,
   "id": "8e9a2e5e-1235-44ee-939a-73c4c49fcced",
   "metadata": {},
   "outputs": [],
   "source": [
    "import numpy as np\n",
    "\n",
    "# 데이터프레임에서 'status' 열을 가져옵니다.\n",
    "y = df['status']\n",
    "# 2차원 배열로 변환합니다.\n",
    "y = np.array(y).reshape(-1, 1)"
   ]
  },
  {
   "cell_type": "code",
   "execution_count": 17,
   "id": "39b065af-c647-4bea-a492-2be4733f366d",
   "metadata": {
    "scrolled": true
   },
   "outputs": [
    {
     "name": "stdout",
     "output_type": "stream",
     "text": [
      "(730134, 10) (730134, 1)\n",
      "(228167, 10) (228167, 1)\n"
     ]
    }
   ],
   "source": [
    "X_train, X_test,y_train, y_test = train_test_split(X, y, test_size = 0.2, stratify= y)\n",
    "X_train, X_val, y_train, y_val  = train_test_split(X_train, y_train, test_size = 0.2, stratify= y_train )\n",
    "print(X_train.shape, y_train.shape)\n",
    "print(X_test.shape, y_test.shape)"
   ]
  },
  {
   "cell_type": "code",
   "execution_count": 18,
   "id": "3cad3fc1-7bea-4f2a-93a7-8d506fdd4ef2",
   "metadata": {},
   "outputs": [],
   "source": [
    "from sklearn.preprocessing import OneHotEncoder\n",
    "\n",
    "enc = OneHotEncoder(handle_unknown=\"ignore\", sparse_output=False)\n",
    "enc.fit(y_train)\n",
    "\n",
    "y_train_hot = enc.transform(y_train) \n",
    "y_test_hot = enc.transform(y_test) \n",
    "y_val_hot = enc.transform(y_val)"
   ]
  },
  {
   "cell_type": "code",
   "execution_count": 19,
   "id": "1f6f39b2-2eda-4dd0-a08b-d5cd3ff26db5",
   "metadata": {},
   "outputs": [
    {
     "data": {
      "text/plain": [
       "(10, 2)"
      ]
     },
     "execution_count": 19,
     "metadata": {},
     "output_type": "execute_result"
    }
   ],
   "source": [
    "n_features, n_outputs = X_train.shape[1], y_train_hot.shape[1]\n",
    "n_features , n_outputs"
   ]
  },
  {
   "cell_type": "code",
   "execution_count": 20,
   "id": "44fd216f-d7e4-4be7-bbf7-716d0d907d6f",
   "metadata": {},
   "outputs": [],
   "source": [
    "from tensorflow.keras.layers import Conv1D\n",
    "from tensorflow.keras.layers import Input\n",
    "from keras.layers import Dense, Flatten, Dropout\n"
   ]
  },
  {
   "cell_type": "markdown",
   "id": "d9bed0c5-04f1-45df-bcd8-deeda13c1093",
   "metadata": {},
   "source": [
    "# 샘플링 하기전"
   ]
  },
  {
   "cell_type": "code",
   "execution_count": 21,
   "id": "9860e1a2-a73a-4b78-9222-beba447ede4e",
   "metadata": {},
   "outputs": [
    {
     "name": "stdout",
     "output_type": "stream",
     "text": [
      "Metal device set to: Apple M2 Pro\n",
      "Model: \"sequential\"\n",
      "_________________________________________________________________\n",
      " Layer (type)                Output Shape              Param #   \n",
      "=================================================================\n",
      " dense (Dense)               (None, 50)                550       \n",
      "                                                                 \n",
      " flatten (Flatten)           (None, 50)                0         \n",
      "                                                                 \n",
      " dense_1 (Dense)             (None, 2)                 102       \n",
      "                                                                 \n",
      "=================================================================\n",
      "Total params: 652\n",
      "Trainable params: 652\n",
      "Non-trainable params: 0\n",
      "_________________________________________________________________\n"
     ]
    },
    {
     "name": "stderr",
     "output_type": "stream",
     "text": [
      "2024-04-02 23:35:38.104623: I tensorflow/core/common_runtime/pluggable_device/pluggable_device_factory.cc:305] Could not identify NUMA node of platform GPU ID 0, defaulting to 0. Your kernel may not have been built with NUMA support.\n",
      "2024-04-02 23:35:38.105059: I tensorflow/core/common_runtime/pluggable_device/pluggable_device_factory.cc:271] Created TensorFlow device (/job:localhost/replica:0/task:0/device:GPU:0 with 0 MB memory) -> physical PluggableDevice (device: 0, name: METAL, pci bus id: <undefined>)\n"
     ]
    }
   ],
   "source": [
    "model = keras.Sequential()\n",
    "model.add(keras.layers.Dense(50, activation='relu', input_shape=(n_features,)))\n",
    "model.add(Flatten())\n",
    "model.add(Dense(n_outputs, activation='softmax'))\n",
    "model.compile(loss='binary_crossentropy', optimizer='adam', metrics=['accuracy'])\n",
    "model.summary()"
   ]
  },
  {
   "cell_type": "code",
   "execution_count": 22,
   "id": "ebb4c73f-7bc7-4db5-8a4e-64f6a0788446",
   "metadata": {
    "scrolled": true
   },
   "outputs": [
    {
     "name": "stdout",
     "output_type": "stream",
     "text": [
      "Epoch 1/10\n"
     ]
    },
    {
     "name": "stderr",
     "output_type": "stream",
     "text": [
      "2024-04-02 23:35:38.897507: W tensorflow/core/platform/profile_utils/cpu_utils.cc:128] Failed to get CPU frequency: 0 Hz\n",
      "2024-04-02 23:35:39.293567: I tensorflow/core/grappler/optimizers/custom_graph_optimizer_registry.cc:113] Plugin optimizer for device_type GPU is enabled.\n"
     ]
    },
    {
     "name": "stdout",
     "output_type": "stream",
     "text": [
      "18254/18254 [==============================] - ETA: 0s - loss: 332.2534 - accuracy: 0.8730"
     ]
    },
    {
     "name": "stderr",
     "output_type": "stream",
     "text": [
      "2024-04-02 23:37:13.873876: I tensorflow/core/grappler/optimizers/custom_graph_optimizer_registry.cc:113] Plugin optimizer for device_type GPU is enabled.\n"
     ]
    },
    {
     "name": "stdout",
     "output_type": "stream",
     "text": [
      "18254/18254 [==============================] - 110s 6ms/step - loss: 332.2534 - accuracy: 0.8730 - val_loss: 465.8796 - val_accuracy: 0.9035\n",
      "Epoch 2/10\n",
      "18254/18254 [==============================] - 102s 6ms/step - loss: 205.5520 - accuracy: 0.8737 - val_loss: 567.5036 - val_accuracy: 0.2122\n",
      "Epoch 3/10\n",
      "18254/18254 [==============================] - 104s 6ms/step - loss: 173.1565 - accuracy: 0.8725 - val_loss: 319.9766 - val_accuracy: 0.8686\n",
      "Epoch 4/10\n",
      "18254/18254 [==============================] - 104s 6ms/step - loss: 141.8787 - accuracy: 0.8731 - val_loss: 255.2254 - val_accuracy: 0.9033\n",
      "Epoch 5/10\n",
      "18254/18254 [==============================] - 92s 5ms/step - loss: 102.0767 - accuracy: 0.8711 - val_loss: 17.9986 - val_accuracy: 0.8509\n",
      "Epoch 6/10\n",
      "18254/18254 [==============================] - 99s 5ms/step - loss: 78.5073 - accuracy: 0.8696 - val_loss: 129.2192 - val_accuracy: 0.9032\n",
      "Epoch 7/10\n",
      "18254/18254 [==============================] - 91s 5ms/step - loss: 67.2680 - accuracy: 0.8711 - val_loss: 52.5032 - val_accuracy: 0.9016\n",
      "Epoch 8/10\n",
      "18254/18254 [==============================] - 91s 5ms/step - loss: 53.0048 - accuracy: 0.8698 - val_loss: 45.1881 - val_accuracy: 0.9035\n",
      "Epoch 9/10\n",
      "18254/18254 [==============================] - 94s 5ms/step - loss: 39.5401 - accuracy: 0.8705 - val_loss: 38.0199 - val_accuracy: 0.9035\n",
      "Epoch 10/10\n",
      "18254/18254 [==============================] - 112s 6ms/step - loss: 27.5981 - accuracy: 0.8701 - val_loss: 18.9290 - val_accuracy: 0.9034\n"
     ]
    }
   ],
   "source": [
    "train_epochs = 10\n",
    "history = model.fit(X_train, y_train_hot, epochs=train_epochs, verbose=True,  validation_split = 0.2)"
   ]
  },
  {
   "cell_type": "code",
   "execution_count": 23,
   "id": "f637ec23-a6d5-4b42-9071-8c613ad2de6d",
   "metadata": {},
   "outputs": [
    {
     "data": {
      "image/png": "[encoded data removed]",
      "text/plain": [
       "<Figure size 640x480 with 1 Axes>"
      ]
     },
     "metadata": {},
     "output_type": "display_data"
    }
   ],
   "source": [
    "import matplotlib.pyplot as plt\n",
    "import seaborn as sns\n",
    "\n",
    "loss = history.history['loss']\n",
    "val_loss = history.history['val_loss']\n",
    "epochs = range(1, len(loss) + 1)\n",
    "plt.plot(epochs, loss, 'y', label='Training loss')\n",
    "plt.plot(epochs, val_loss, 'r', label='Validation loss')\n",
    "plt.title('Training and validation loss')\n",
    "plt.xlabel('Epochs')\n",
    "plt.ylabel('Loss')\n",
    "plt.legend()\n",
    "plt.show()"
   ]
  },
  {
   "cell_type": "code",
   "execution_count": 24,
   "id": "5d586336-4043-480d-aa22-f6eb9ba30679",
   "metadata": {},
   "outputs": [
    {
     "data": {
      "image/png": "[encoded data removed]",
      "text/plain": [
       "<Figure size 640x480 with 1 Axes>"
      ]
     },
     "metadata": {},
     "output_type": "display_data"
    }
   ],
   "source": [
    "acc = history.history['accuracy']\n",
    "val_acc = history.history['val_accuracy']\n",
    "plt.plot(epochs, acc, 'y', label='Training acc')\n",
    "plt.plot(epochs, val_acc, 'r', label='Validation acc')\n",
    "plt.title('Training and validation accuracy')\n",
    "plt.xlabel('Epochs')\n",
    "plt.ylabel('Accuracy')\n",
    "plt.legend()\n",
    "plt.show()"
   ]
  },
  {
   "cell_type": "code",
   "execution_count": 26,
   "id": "a85bde3c-35c5-4f98-ba37-ba6c12ac189a",
   "metadata": {},
   "outputs": [
    {
     "name": "stdout",
     "output_type": "stream",
     "text": [
      "7131/7131 [==============================] - 9s 1ms/step\n",
      "f1_score =  0.8569525901170691\n",
      "0.9026896965818896\n",
      "              precision    recall  f1-score   support\n",
      "\n",
      "           0       0.90      1.00      0.95    206010\n",
      "           1       0.27      0.00      0.00     22157\n",
      "\n",
      "    accuracy                           0.90    228167\n",
      "   macro avg       0.59      0.50      0.48    228167\n",
      "weighted avg       0.84      0.90      0.86    228167\n",
      "\n"
     ]
    },
    {
     "data": {
      "text/plain": [
       "<Axes: >"
      ]
     },
     "execution_count": 26,
     "metadata": {},
     "output_type": "execute_result"
    },
    {
     "data": {
      "image/png": "[encoded data removed]",
      "text/plain": [
       "<Figure size 640x480 with 2 Axes>"
      ]
     },
     "metadata": {},
     "output_type": "display_data"
    }
   ],
   "source": [
    "from sklearn.metrics import confusion_matrix,classification_report,accuracy_score\n",
    "\n",
    "y_pred=model.predict(X_test)\n",
    "y_pred = np.argmax(y_pred, axis=-1)\n",
    "y_true = np.argmax(y_test_hot, axis=-1)\n",
    "\n",
    "LABELS = ['No_Freeze','Freeze']\n",
    "cm=confusion_matrix(y_true,y_pred)\n",
    "\n",
    "#print(cm)\n",
    "print('f1_score = ', f1_score(y_true, y_pred, average='weighted'))\n",
    "print(accuracy_score(y_true,y_pred))\n",
    "print(classification_report(y_true,y_pred))\n",
    "sns.heatmap(cm, cmap=\"YlGnBu\", xticklabels=LABELS, yticklabels=LABELS, annot=True, fmt = '.2f')"
   ]
  },
  {
   "cell_type": "markdown",
   "id": "e2f38848-fc06-47a0-80e2-e1d3e876cfcc",
   "metadata": {},
   "source": [
    "# Smote 사용 - dense"
   ]
  },
  {
   "cell_type": "code",
   "execution_count": 27,
   "id": "fa615f0a-e762-46ce-8701-015cb0ba5cbb",
   "metadata": {},
   "outputs": [],
   "source": [
    "import numpy as np\n",
    "\n",
    "# 데이터프레임에서 'status' 열을 가져옵니다.\n",
    "y = df['status']\n",
    "# 2차원 배열로 변환합니다.\n"
   ]
  },
  {
   "cell_type": "code",
   "execution_count": 28,
   "id": "dfe0cc01-4167-400a-8755-50699c409ff7",
   "metadata": {},
   "outputs": [
    {
     "data": {
      "text/html": [
       "<div>\n",
       "<style scoped>\n",
       "    .dataframe tbody tr th:only-of-type {\n",
       "        vertical-align: middle;\n",
       "    }\n",
       "\n",
       "    .dataframe tbody tr th {\n",
       "        vertical-align: top;\n",
       "    }\n",
       "\n",
       "    .dataframe thead th {\n",
       "        text-align: right;\n",
       "    }\n",
       "</style>\n",
       "<table border=\"1\" class=\"dataframe\">\n",
       "  <thead>\n",
       "    <tr style=\"text-align: right;\">\n",
       "      <th></th>\n",
       "      <th>Time</th>\n",
       "      <th>ankle-x</th>\n",
       "      <th>ankle-y</th>\n",
       "      <th>ankle-z</th>\n",
       "      <th>thigh-x</th>\n",
       "      <th>thigh-y</th>\n",
       "      <th>thigh-z</th>\n",
       "      <th>trunk-x</th>\n",
       "      <th>trunk-y</th>\n",
       "      <th>trunk-z</th>\n",
       "    </tr>\n",
       "  </thead>\n",
       "  <tbody>\n",
       "    <tr>\n",
       "      <th>38399</th>\n",
       "      <td>600000</td>\n",
       "      <td>-353</td>\n",
       "      <td>950</td>\n",
       "      <td>178</td>\n",
       "      <td>172</td>\n",
       "      <td>953</td>\n",
       "      <td>232</td>\n",
       "      <td>87</td>\n",
       "      <td>1000</td>\n",
       "      <td>-116</td>\n",
       "    </tr>\n",
       "    <tr>\n",
       "      <th>38400</th>\n",
       "      <td>600015</td>\n",
       "      <td>-383</td>\n",
       "      <td>960</td>\n",
       "      <td>198</td>\n",
       "      <td>181</td>\n",
       "      <td>944</td>\n",
       "      <td>212</td>\n",
       "      <td>97</td>\n",
       "      <td>990</td>\n",
       "      <td>-87</td>\n",
       "    </tr>\n",
       "    <tr>\n",
       "      <th>38401</th>\n",
       "      <td>600031</td>\n",
       "      <td>-363</td>\n",
       "      <td>950</td>\n",
       "      <td>178</td>\n",
       "      <td>190</td>\n",
       "      <td>935</td>\n",
       "      <td>232</td>\n",
       "      <td>97</td>\n",
       "      <td>1000</td>\n",
       "      <td>-116</td>\n",
       "    </tr>\n",
       "    <tr>\n",
       "      <th>38402</th>\n",
       "      <td>600046</td>\n",
       "      <td>-363</td>\n",
       "      <td>950</td>\n",
       "      <td>198</td>\n",
       "      <td>172</td>\n",
       "      <td>944</td>\n",
       "      <td>202</td>\n",
       "      <td>97</td>\n",
       "      <td>1000</td>\n",
       "      <td>-97</td>\n",
       "    </tr>\n",
       "    <tr>\n",
       "      <th>38403</th>\n",
       "      <td>600062</td>\n",
       "      <td>-343</td>\n",
       "      <td>960</td>\n",
       "      <td>207</td>\n",
       "      <td>163</td>\n",
       "      <td>944</td>\n",
       "      <td>232</td>\n",
       "      <td>106</td>\n",
       "      <td>1000</td>\n",
       "      <td>-97</td>\n",
       "    </tr>\n",
       "    <tr>\n",
       "      <th>...</th>\n",
       "      <td>...</td>\n",
       "      <td>...</td>\n",
       "      <td>...</td>\n",
       "      <td>...</td>\n",
       "      <td>...</td>\n",
       "      <td>...</td>\n",
       "      <td>...</td>\n",
       "      <td>...</td>\n",
       "      <td>...</td>\n",
       "      <td>...</td>\n",
       "    </tr>\n",
       "    <tr>\n",
       "      <th>94075</th>\n",
       "      <td>1469937</td>\n",
       "      <td>343</td>\n",
       "      <td>1009</td>\n",
       "      <td>118</td>\n",
       "      <td>818</td>\n",
       "      <td>481</td>\n",
       "      <td>-50</td>\n",
       "      <td>864</td>\n",
       "      <td>485</td>\n",
       "      <td>203</td>\n",
       "    </tr>\n",
       "    <tr>\n",
       "      <th>94076</th>\n",
       "      <td>1469953</td>\n",
       "      <td>313</td>\n",
       "      <td>990</td>\n",
       "      <td>128</td>\n",
       "      <td>818</td>\n",
       "      <td>527</td>\n",
       "      <td>-80</td>\n",
       "      <td>844</td>\n",
       "      <td>476</td>\n",
       "      <td>223</td>\n",
       "    </tr>\n",
       "    <tr>\n",
       "      <th>94077</th>\n",
       "      <td>1469968</td>\n",
       "      <td>333</td>\n",
       "      <td>1000</td>\n",
       "      <td>108</td>\n",
       "      <td>827</td>\n",
       "      <td>500</td>\n",
       "      <td>-20</td>\n",
       "      <td>864</td>\n",
       "      <td>466</td>\n",
       "      <td>194</td>\n",
       "    </tr>\n",
       "    <tr>\n",
       "      <th>94078</th>\n",
       "      <td>1469984</td>\n",
       "      <td>323</td>\n",
       "      <td>1039</td>\n",
       "      <td>108</td>\n",
       "      <td>836</td>\n",
       "      <td>500</td>\n",
       "      <td>-40</td>\n",
       "      <td>854</td>\n",
       "      <td>457</td>\n",
       "      <td>233</td>\n",
       "    </tr>\n",
       "    <tr>\n",
       "      <th>94079</th>\n",
       "      <td>1470000</td>\n",
       "      <td>333</td>\n",
       "      <td>980</td>\n",
       "      <td>168</td>\n",
       "      <td>836</td>\n",
       "      <td>500</td>\n",
       "      <td>-60</td>\n",
       "      <td>873</td>\n",
       "      <td>438</td>\n",
       "      <td>223</td>\n",
       "    </tr>\n",
       "  </tbody>\n",
       "</table>\n",
       "<p>1140835 rows × 10 columns</p>\n",
       "</div>"
      ],
      "text/plain": [
       "          Time  ankle-x  ankle-y  ankle-z  thigh-x  thigh-y  thigh-z  trunk-x  \\\n",
       "38399   600000     -353      950      178      172      953      232       87   \n",
       "38400   600015     -383      960      198      181      944      212       97   \n",
       "38401   600031     -363      950      178      190      935      232       97   \n",
       "38402   600046     -363      950      198      172      944      202       97   \n",
       "38403   600062     -343      960      207      163      944      232      106   \n",
       "...        ...      ...      ...      ...      ...      ...      ...      ...   \n",
       "94075  1469937      343     1009      118      818      481      -50      864   \n",
       "94076  1469953      313      990      128      818      527      -80      844   \n",
       "94077  1469968      333     1000      108      827      500      -20      864   \n",
       "94078  1469984      323     1039      108      836      500      -40      854   \n",
       "94079  1470000      333      980      168      836      500      -60      873   \n",
       "\n",
       "       trunk-y  trunk-z  \n",
       "38399     1000     -116  \n",
       "38400      990      -87  \n",
       "38401     1000     -116  \n",
       "38402     1000      -97  \n",
       "38403     1000      -97  \n",
       "...        ...      ...  \n",
       "94075      485      203  \n",
       "94076      476      223  \n",
       "94077      466      194  \n",
       "94078      457      233  \n",
       "94079      438      223  \n",
       "\n",
       "[1140835 rows x 10 columns]"
      ]
     },
     "execution_count": 28,
     "metadata": {},
     "output_type": "execute_result"
    }
   ],
   "source": [
    "X"
   ]
  },
  {
   "cell_type": "code",
   "execution_count": 29,
   "id": "71bed896-5600-42d1-bcc9-39e8b47006b6",
   "metadata": {},
   "outputs": [
    {
     "name": "stdout",
     "output_type": "stream",
     "text": [
      "이전 클래스 분포: Counter({0: 1030050, 1: 110785})\n",
      "샘플링 이후 클래스 분포: Counter({0: 1030050, 1: 1030050})\n"
     ]
    }
   ],
   "source": [
    "from imblearn.over_sampling import SMOTE\n",
    "from collections import Counter  \n",
    "# SMOTE 적용\n",
    "smote = SMOTE(sampling_strategy='auto', random_state=42)\n",
    "X_resampled, y_resampled = smote.fit_resample(X, y)\n",
    "\n",
    "# 샘플링 이전과 이후의 클래스 분포 확인\n",
    "print(\"이전 클래스 분포:\", Counter(y))\n",
    "print(\"샘플링 이후 클래스 분포:\", Counter(y_resampled))\n"
   ]
  },
  {
   "cell_type": "code",
   "execution_count": 30,
   "id": "a8f7257b-bc0a-40cc-bbd0-45c6d969b8ca",
   "metadata": {
    "scrolled": true
   },
   "outputs": [
    {
     "data": {
      "text/plain": [
       "status\n",
       "0    1030050\n",
       "1     110785\n",
       "Name: count, dtype: int64"
      ]
     },
     "execution_count": 30,
     "metadata": {},
     "output_type": "execute_result"
    }
   ],
   "source": [
    "y.value_counts()"
   ]
  },
  {
   "cell_type": "code",
   "execution_count": 31,
   "id": "b9bce737-3b07-41d4-bdb5-c9d457bae515",
   "metadata": {},
   "outputs": [],
   "source": [
    "import numpy as np\n",
    "\n",
    "# y_resampled를 NumPy 배열로 변환\n",
    "y_resampled_array = np.array(y_resampled)\n",
    "\n",
    "# NumPy 배열을 2D 배열로 변환\n",
    "y_resampled = y_resampled_array.reshape(-1, 1)\n"
   ]
  },
  {
   "cell_type": "code",
   "execution_count": 32,
   "id": "9e944c23-a757-4653-865b-1f8d7987ce2d",
   "metadata": {
    "scrolled": true
   },
   "outputs": [
    {
     "name": "stdout",
     "output_type": "stream",
     "text": [
      "(1318464, 10) (1318464, 1)\n",
      "(412020, 10) (412020, 1)\n"
     ]
    }
   ],
   "source": [
    "X_train, X_test,y_train, y_test = train_test_split(X_resampled, y_resampled, test_size = 0.2, stratify= y_resampled)\n",
    "X_train, X_val, y_train, y_val  = train_test_split(X_train, y_train, test_size = 0.2, stratify= y_train )\n",
    "print(X_train.shape, y_train.shape)\n",
    "print(X_test.shape, y_test.shape)"
   ]
  },
  {
   "cell_type": "code",
   "execution_count": 33,
   "id": "5204e513-e87c-40f8-8786-f76c36f27bce",
   "metadata": {},
   "outputs": [],
   "source": [
    "from sklearn.preprocessing import OneHotEncoder\n",
    "\n",
    "enc = OneHotEncoder(handle_unknown=\"ignore\", sparse_output=False)\n",
    "enc.fit(y_train)\n",
    "\n",
    "y_train_hot = enc.transform(y_train) \n",
    "y_test_hot = enc.transform(y_test) \n",
    "y_val_hot = enc.transform(y_val)"
   ]
  },
  {
   "cell_type": "code",
   "execution_count": 34,
   "id": "d09f119e-c6ba-4d92-a234-c700fb4f8fa3",
   "metadata": {},
   "outputs": [
    {
     "data": {
      "text/plain": [
       "(10, 2)"
      ]
     },
     "execution_count": 34,
     "metadata": {},
     "output_type": "execute_result"
    }
   ],
   "source": [
    "n_features, n_outputs = X_train.shape[1], y_train_hot.shape[1]\n",
    "n_features , n_outputs"
   ]
  },
  {
   "cell_type": "code",
   "execution_count": 35,
   "id": "2399fb4c-ac07-4269-ac48-aa5343cecfaa",
   "metadata": {},
   "outputs": [],
   "source": [
    "from tensorflow.keras.layers import Conv1D\n",
    "from tensorflow.keras.layers import Input\n",
    "from keras.layers import Dense, Flatten, Dropout\n"
   ]
  },
  {
   "cell_type": "code",
   "execution_count": 36,
   "id": "66a1587a-fc13-4cbf-b4fd-04dcf21432db",
   "metadata": {},
   "outputs": [
    {
     "name": "stdout",
     "output_type": "stream",
     "text": [
      "Model: \"sequential_1\"\n",
      "_________________________________________________________________\n",
      " Layer (type)                Output Shape              Param #   \n",
      "=================================================================\n",
      " dense_2 (Dense)             (None, 50)                550       \n",
      "                                                                 \n",
      " flatten_1 (Flatten)         (None, 50)                0         \n",
      "                                                                 \n",
      " dense_3 (Dense)             (None, 2)                 102       \n",
      "                                                                 \n",
      "=================================================================\n",
      "Total params: 652\n",
      "Trainable params: 652\n",
      "Non-trainable params: 0\n",
      "_________________________________________________________________\n"
     ]
    }
   ],
   "source": [
    "model = keras.Sequential()\n",
    "model.add(keras.layers.Dense(50, activation='relu', input_shape=(n_features,)))\n",
    "model.add(Flatten())\n",
    "model.add(Dense(n_outputs, activation='softmax'))\n",
    "model.compile(loss='binary_crossentropy', optimizer='adam', metrics=['accuracy'])\n",
    "model.summary()"
   ]
  },
  {
   "cell_type": "code",
   "execution_count": 37,
   "id": "5d7270eb-ff6f-41f7-80bb-c1d96da19538",
   "metadata": {},
   "outputs": [
    {
     "name": "stdout",
     "output_type": "stream",
     "text": [
      "Epoch 1/10\n",
      "    1/32962 [..............................] - ETA: 3:09:42 - loss: 87428.8125 - accuracy: 0.5312"
     ]
    },
    {
     "name": "stderr",
     "output_type": "stream",
     "text": [
      "2024-04-02 23:54:29.924634: I tensorflow/core/grappler/optimizers/custom_graph_optimizer_registry.cc:113] Plugin optimizer for device_type GPU is enabled.\n"
     ]
    },
    {
     "name": "stdout",
     "output_type": "stream",
     "text": [
      "32962/32962 [==============================] - ETA: 0s - loss: 309.7870 - accuracy: 0.6031"
     ]
    },
    {
     "name": "stderr",
     "output_type": "stream",
     "text": [
      "2024-04-02 23:57:18.760956: I tensorflow/core/grappler/optimizers/custom_graph_optimizer_registry.cc:113] Plugin optimizer for device_type GPU is enabled.\n"
     ]
    },
    {
     "name": "stdout",
     "output_type": "stream",
     "text": [
      "32962/32962 [==============================] - 195s 6ms/step - loss: 309.7870 - accuracy: 0.6031 - val_loss: 109.8800 - val_accuracy: 0.6877\n",
      "Epoch 2/10\n",
      "32962/32962 [==============================] - 196s 6ms/step - loss: 203.4540 - accuracy: 0.6283 - val_loss: 131.5775 - val_accuracy: 0.5426\n",
      "Epoch 3/10\n",
      "32962/32962 [==============================] - 162s 5ms/step - loss: 169.2141 - accuracy: 0.6268 - val_loss: 162.3554 - val_accuracy: 0.5414\n",
      "Epoch 4/10\n",
      "32962/32962 [==============================] - 161s 5ms/step - loss: 141.7103 - accuracy: 0.6271 - val_loss: 106.8660 - val_accuracy: 0.6714\n",
      "Epoch 5/10\n",
      "32962/32962 [==============================] - 160s 5ms/step - loss: 115.8655 - accuracy: 0.6279 - val_loss: 121.4337 - val_accuracy: 0.5963\n",
      "Epoch 6/10\n",
      "32962/32962 [==============================] - 162s 5ms/step - loss: 92.1929 - accuracy: 0.6283 - val_loss: 95.9581 - val_accuracy: 0.5007\n",
      "Epoch 7/10\n",
      "32962/32962 [==============================] - 160s 5ms/step - loss: 70.0837 - accuracy: 0.6275 - val_loss: 114.6320 - val_accuracy: 0.6557\n",
      "Epoch 8/10\n",
      "32962/32962 [==============================] - 160s 5ms/step - loss: 50.6754 - accuracy: 0.6269 - val_loss: 47.2668 - val_accuracy: 0.6593\n",
      "Epoch 9/10\n",
      "32962/32962 [==============================] - 160s 5ms/step - loss: 32.1547 - accuracy: 0.6288 - val_loss: 19.6264 - val_accuracy: 0.5733\n",
      "Epoch 10/10\n",
      "32962/32962 [==============================] - 160s 5ms/step - loss: 19.3041 - accuracy: 0.6293 - val_loss: 4.7414 - val_accuracy: 0.6823\n"
     ]
    }
   ],
   "source": [
    "train_epochs = 10\n",
    "history = model.fit(X_train, y_train_hot, epochs=train_epochs, verbose=True,  validation_split = 0.2)"
   ]
  },
  {
   "cell_type": "code",
   "execution_count": 38,
   "id": "006e8fbc-8c7a-4a6a-beeb-8f571aa1d920",
   "metadata": {},
   "outputs": [
    {
     "data": {
      "image/png": "[encoded data removed]",
      "text/plain": [
       "<Figure size 640x480 with 1 Axes>"
      ]
     },
     "metadata": {},
     "output_type": "display_data"
    }
   ],
   "source": [
    "import matplotlib.pyplot as plt\n",
    "import seaborn as sns\n",
    "\n",
    "loss = history.history['loss']\n",
    "val_loss = history.history['val_loss']\n",
    "epochs = range(1, len(loss) + 1)\n",
    "plt.plot(epochs, loss, 'y', label='Training loss')\n",
    "plt.plot(epochs, val_loss, 'r', label='Validation loss')\n",
    "plt.title('Training and validation loss')\n",
    "plt.xlabel('Epochs')\n",
    "plt.ylabel('Loss')\n",
    "plt.legend()\n",
    "plt.show()"
   ]
  },
  {
   "cell_type": "code",
   "execution_count": 39,
   "id": "072531cb-ab1e-4331-a13f-e791ea95686d",
   "metadata": {
    "scrolled": true
   },
   "outputs": [
    {
     "data": {
      "image/png": "[encoded data removed]",
      "text/plain": [
       "<Figure size 640x480 with 1 Axes>"
      ]
     },
     "metadata": {},
     "output_type": "display_data"
    }
   ],
   "source": [
    "acc = history.history['accuracy']\n",
    "val_acc = history.history['val_accuracy']\n",
    "plt.plot(epochs, acc, 'y', label='Training acc')\n",
    "plt.plot(epochs, val_acc, 'r', label='Validation acc')\n",
    "plt.title('Training and validation accuracy')\n",
    "plt.xlabel('Epochs')\n",
    "plt.ylabel('Accuracy')\n",
    "plt.legend()\n",
    "plt.show()"
   ]
  },
  {
   "cell_type": "code",
   "execution_count": 40,
   "id": "062e86a2-a8a5-4fa2-a9b1-13a343e2b6cd",
   "metadata": {},
   "outputs": [
    {
     "name": "stdout",
     "output_type": "stream",
     "text": [
      "  103/12876 [..............................] - ETA: 19s"
     ]
    },
    {
     "name": "stderr",
     "output_type": "stream",
     "text": [
      "2024-04-03 00:29:38.747416: I tensorflow/core/grappler/optimizers/custom_graph_optimizer_registry.cc:113] Plugin optimizer for device_type GPU is enabled.\n"
     ]
    },
    {
     "name": "stdout",
     "output_type": "stream",
     "text": [
      "12876/12876 [==============================] - 17s 1ms/step\n",
      "f1_score =  0.681007552562497\n",
      "0.6818916557448668\n",
      "              precision    recall  f1-score   support\n",
      "\n",
      "           0       0.70      0.63      0.66    206010\n",
      "           1       0.66      0.73      0.70    206010\n",
      "\n",
      "    accuracy                           0.68    412020\n",
      "   macro avg       0.68      0.68      0.68    412020\n",
      "weighted avg       0.68      0.68      0.68    412020\n",
      "\n"
     ]
    },
    {
     "data": {
      "text/plain": [
       "<Axes: >"
      ]
     },
     "execution_count": 40,
     "metadata": {},
     "output_type": "execute_result"
    },
    {
     "data": {
      "image/png": "[encoded data removed]",
      "text/plain": [
       "<Figure size 640x480 with 2 Axes>"
      ]
     },
     "metadata": {},
     "output_type": "display_data"
    }
   ],
   "source": [
    "from sklearn.metrics import confusion_matrix,classification_report,accuracy_score\n",
    "\n",
    "y_pred=model.predict(X_test)\n",
    "y_pred = np.argmax(y_pred, axis=-1)\n",
    "y_true = np.argmax(y_test_hot, axis=-1)\n",
    "\n",
    "LABELS = ['No_Freeze','Freeze']\n",
    "cm=confusion_matrix(y_true,y_pred)\n",
    "\n",
    "#print(cm)\n",
    "print('f1_score = ', f1_score(y_true, y_pred, average='weighted'))\n",
    "print(accuracy_score(y_true,y_pred))\n",
    "print(classification_report(y_true,y_pred))\n",
    "sns.heatmap(cm, cmap=\"YlGnBu\", xticklabels=LABELS, yticklabels=LABELS, annot=True, fmt = '.2f')"
   ]
  },
  {
   "cell_type": "code",
   "execution_count": 41,
   "id": "3c965e0e-daec-4ea4-b6e9-dfd543d71caf",
   "metadata": {
    "scrolled": true
   },
   "outputs": [
    {
     "name": "stdout",
     "output_type": "stream",
     "text": [
      "(18249, 200, 10) (18249, 1)\n",
      "(5704, 200, 10) (5704, 1)\n"
     ]
    }
   ],
   "source": [
    "from scipy import stats\n",
    "\n",
    "def create_dataset(X, y, time_steps=1, step=1):\n",
    "    Xs, ys = [], []\n",
    "    for i in range(0, len(X) - time_steps, step):\n",
    "        v = X.iloc[i:(i + time_steps)].values\n",
    "        labels = y.iloc[i: i + time_steps]\n",
    "        Xs.append(v)\n",
    "        ys.append(stats.mode(labels)[0])\n",
    "    return np.array(Xs), np.array(ys).reshape(-1, 1)\n",
    "\n",
    "TIME_STEPS = 200\n",
    "STEP = 40\n",
    "\n",
    "X_data, y_data = create_dataset(df[['Time', 'ankle-x', 'ankle-y', 'ankle-z', \n",
    "            'thigh-x', 'thigh-y', 'thigh-z',\n",
    "            'trunk-x', 'trunk-y', 'trunk-z']], df.status, TIME_STEPS,\n",
    "                                  STEP)\n",
    "\n",
    "X_train, X_test,y_train, y_test = train_test_split(X_data, y_data, test_size = 0.2, stratify=  y_data )\n",
    "X_train, X_val, y_train, y_val  = train_test_split(X_train, y_train, test_size = 0.2, stratify=  y_train )\n",
    "print(X_train.shape, y_train.shape)\n",
    "print(X_test.shape, y_test.shape)"
   ]
  },
  {
   "cell_type": "markdown",
   "id": "5292668c-8a3e-4710-ba58-d9a6edcc406d",
   "metadata": {},
   "source": [
    "# smote 사용 - CNN"
   ]
  },
  {
   "cell_type": "code",
   "execution_count": 42,
   "id": "b695407c-a654-47c8-a9b1-cfc386037ebb",
   "metadata": {},
   "outputs": [
    {
     "name": "stdout",
     "output_type": "stream",
     "text": [
      "(18249, 200, 10) (18249, 2) (5704, 200, 10) (5704, 2)\n"
     ]
    }
   ],
   "source": [
    "from sklearn.preprocessing import OneHotEncoder\n",
    "\n",
    "enc = OneHotEncoder(handle_unknown = \"ignore\", sparse_output = False)\n",
    "enc = enc.fit(y_train)\n",
    "\n",
    "y_train_hot = enc.transform(y_train)\n",
    "y_test_hot = enc.transform(y_test)\n",
    "y_val_hot = enc.transform(y_val)\n",
    "\n",
    "print(X_train.shape, y_train_hot.shape, X_test.shape, y_test_hot.shape)"
   ]
  },
  {
   "cell_type": "code",
   "execution_count": 43,
   "id": "0c28ef92-f642-4584-aa59-6216a59345f7",
   "metadata": {},
   "outputs": [
    {
     "data": {
      "text/plain": [
       "(200, 10, 2)"
      ]
     },
     "execution_count": 43,
     "metadata": {},
     "output_type": "execute_result"
    }
   ],
   "source": [
    "n_timesteps,n_features,n_outputs= X_train.shape[1],X_train.shape[2],y_train_hot.shape[1]\n",
    "n_timesteps,n_features,n_outputs"
   ]
  },
  {
   "cell_type": "code",
   "execution_count": 44,
   "id": "a181e3c1-5638-473f-acc8-f77dfb655943",
   "metadata": {
    "scrolled": true
   },
   "outputs": [
    {
     "name": "stdout",
     "output_type": "stream",
     "text": [
      "Model: \"sequential_2\"\n",
      "_________________________________________________________________\n",
      " Layer (type)                Output Shape              Param #   \n",
      "=================================================================\n",
      " conv1d (Conv1D)             (None, 198, 64)           1984      \n",
      "                                                                 \n",
      " dropout (Dropout)           (None, 198, 64)           0         \n",
      "                                                                 \n",
      " max_pooling1d (MaxPooling1D  (None, 99, 64)           0         \n",
      " )                                                               \n",
      "                                                                 \n",
      " flatten_2 (Flatten)         (None, 6336)              0         \n",
      "                                                                 \n",
      " dense_4 (Dense)             (None, 128)               811136    \n",
      "                                                                 \n",
      " dense_5 (Dense)             (None, 2)                 258       \n",
      "                                                                 \n",
      "=================================================================\n",
      "Total params: 813,378\n",
      "Trainable params: 813,378\n",
      "Non-trainable params: 0\n",
      "_________________________________________________________________\n"
     ]
    }
   ],
   "source": [
    "model = Sequential()\n",
    "model.add(Conv1D(filters=64, kernel_size=3, activation='relu', input_shape=(n_timesteps,n_features)))\n",
    "model.add(Dropout(0.5))\n",
    "model.add(MaxPooling1D(pool_size=2))\n",
    "model.add(Flatten())\n",
    "\n",
    "model.add(Dense(128, activation='relu'))\n",
    "model.add(Dense(n_outputs, activation='sigmoid'))\n",
    "model.compile(loss='binary_crossentropy', optimizer='adam', metrics=['accuracy'])\n",
    "model.summary()"
   ]
  },
  {
   "cell_type": "code",
   "execution_count": null,
   "id": "c0b87f54-7e8e-4b5f-a621-c953d3bba947",
   "metadata": {},
   "outputs": [],
   "source": []
  },
  {
   "cell_type": "code",
   "execution_count": 45,
   "id": "44c497b7-6a57-4a52-8d03-cc8e077eec72",
   "metadata": {},
   "outputs": [
    {
     "name": "stdout",
     "output_type": "stream",
     "text": [
      "Epoch 1/10\n"
     ]
    },
    {
     "name": "stderr",
     "output_type": "stream",
     "text": [
      "2024-04-03 00:36:16.841230: I tensorflow/core/grappler/optimizers/custom_graph_optimizer_registry.cc:113] Plugin optimizer for device_type GPU is enabled.\n"
     ]
    },
    {
     "name": "stdout",
     "output_type": "stream",
     "text": [
      "143/143 [==============================] - ETA: 0s - loss: 45224.7617 - accuracy: 0.8877"
     ]
    },
    {
     "name": "stderr",
     "output_type": "stream",
     "text": [
      "2024-04-03 00:36:19.357862: I tensorflow/core/grappler/optimizers/custom_graph_optimizer_registry.cc:113] Plugin optimizer for device_type GPU is enabled.\n"
     ]
    },
    {
     "name": "stdout",
     "output_type": "stream",
     "text": [
      "143/143 [==============================] - 3s 15ms/step - loss: 45224.7617 - accuracy: 0.8877 - val_loss: 17609.8828 - val_accuracy: 0.9047\n",
      "Epoch 2/10\n",
      "143/143 [==============================] - 1s 9ms/step - loss: 6527.3438 - accuracy: 0.8888 - val_loss: 338.7121 - val_accuracy: 0.9044\n",
      "Epoch 3/10\n",
      "143/143 [==============================] - 1s 9ms/step - loss: 1724.6892 - accuracy: 0.8820 - val_loss: 218.8755 - val_accuracy: 0.9040\n",
      "Epoch 4/10\n",
      "143/143 [==============================] - 1s 10ms/step - loss: 198.2093 - accuracy: 0.8865 - val_loss: 29.8719 - val_accuracy: 0.8948\n",
      "Epoch 5/10\n",
      "143/143 [==============================] - 1s 9ms/step - loss: 42.9478 - accuracy: 0.8685 - val_loss: 28.4464 - val_accuracy: 0.8832\n",
      "Epoch 6/10\n",
      "143/143 [==============================] - 1s 9ms/step - loss: 29.6558 - accuracy: 0.8653 - val_loss: 30.1643 - val_accuracy: 0.8957\n",
      "Epoch 7/10\n",
      "143/143 [==============================] - 1s 9ms/step - loss: 19.9263 - accuracy: 0.8673 - val_loss: 25.1408 - val_accuracy: 0.8876\n",
      "Epoch 8/10\n",
      "143/143 [==============================] - 1s 10ms/step - loss: 11.9701 - accuracy: 0.8724 - val_loss: 9.2790 - val_accuracy: 0.9001\n",
      "Epoch 9/10\n",
      "143/143 [==============================] - 1s 9ms/step - loss: 0.5109 - accuracy: 0.9028 - val_loss: 8.9367 - val_accuracy: 0.9020\n",
      "Epoch 10/10\n",
      "143/143 [==============================] - 1s 9ms/step - loss: 0.9438 - accuracy: 0.9034 - val_loss: 8.5661 - val_accuracy: 0.9025\n"
     ]
    }
   ],
   "source": [
    "epochs, batch_size = 10, 128\n",
    "history = model.fit(X_train, y_train_hot, epochs=epochs, batch_size=batch_size, verbose=1, validation_data=(X_val, y_val_hot), shuffle=True)"
   ]
  },
  {
   "cell_type": "code",
   "execution_count": 47,
   "id": "2152805e-41d7-4691-9001-a61ec534890a",
   "metadata": {},
   "outputs": [
    {
     "data": {
      "image/png": "[encoded data removed]",
      "text/plain": [
       "<Figure size 640x480 with 1 Axes>"
      ]
     },
     "metadata": {},
     "output_type": "display_data"
    }
   ],
   "source": [
    "import matplotlib.pyplot as plt\n",
    "import seaborn as sns\n",
    "\n",
    "loss = history.history['loss']\n",
    "val_loss = history.history['val_loss']\n",
    "epochs = range(1, len(loss) + 1)\n",
    "plt.plot(epochs, loss, 'y', label='Training loss')\n",
    "plt.plot(epochs, val_loss, 'r', label='Validation loss')\n",
    "plt.title('Training and validation loss')\n",
    "plt.xlabel('Epochs')\n",
    "plt.ylabel('Loss')\n",
    "plt.legend()\n",
    "plt.show()"
   ]
  },
  {
   "cell_type": "code",
   "execution_count": 48,
   "id": "d7ab4721-aa8f-4463-875d-7bb88c464caa",
   "metadata": {
    "scrolled": true
   },
   "outputs": [
    {
     "data": {
      "image/png": "[encoded data removed]",
      "text/plain": [
       "<Figure size 640x480 with 1 Axes>"
      ]
     },
     "metadata": {},
     "output_type": "display_data"
    }
   ],
   "source": [
    "acc = history.history['accuracy']\n",
    "val_acc = history.history['val_accuracy']\n",
    "plt.plot(epochs, acc, 'y', label='Training acc')\n",
    "plt.plot(epochs, val_acc, 'r', label='Validation acc')\n",
    "plt.title('Training and validation accuracy')\n",
    "plt.xlabel('Epochs')\n",
    "plt.ylabel('Accuracy')\n",
    "plt.legend()\n",
    "plt.show()"
   ]
  },
  {
   "cell_type": "code",
   "execution_count": 49,
   "id": "fd9d45c9-99b2-431d-bf64-62f4ee25c6e9",
   "metadata": {},
   "outputs": [
    {
     "name": "stdout",
     "output_type": "stream",
     "text": [
      " 94/179 [==============>...............] - ETA: 0s"
     ]
    },
    {
     "name": "stderr",
     "output_type": "stream",
     "text": [
      "2024-04-03 00:38:12.705087: I tensorflow/core/grappler/optimizers/custom_graph_optimizer_registry.cc:113] Plugin optimizer for device_type GPU is enabled.\n"
     ]
    },
    {
     "name": "stdout",
     "output_type": "stream",
     "text": [
      "179/179 [==============================] - 1s 6ms/step\n",
      "f1_score =  0.8591553915073279\n",
      "0.9042776998597476\n",
      "              precision    recall  f1-score   support\n",
      "\n",
      "           0       0.90      1.00      0.95      5160\n",
      "           1       0.00      0.00      0.00       544\n",
      "\n",
      "    accuracy                           0.90      5704\n",
      "   macro avg       0.45      0.50      0.47      5704\n",
      "weighted avg       0.82      0.90      0.86      5704\n",
      "\n"
     ]
    },
    {
     "data": {
      "text/plain": [
       "<Axes: >"
      ]
     },
     "execution_count": 49,
     "metadata": {},
     "output_type": "execute_result"
    },
    {
     "data": {
      "image/png": "[encoded data removed]",
      "text/plain": [
       "<Figure size 640x480 with 2 Axes>"
      ]
     },
     "metadata": {},
     "output_type": "display_data"
    }
   ],
   "source": [
    "from sklearn.metrics import confusion_matrix,classification_report,accuracy_score\n",
    "\n",
    "y_pred=model.predict(X_test)\n",
    "y_pred = np.argmax(y_pred, axis=-1)\n",
    "y_true = np.argmax(y_test_hot, axis=-1)\n",
    "\n",
    "LABELS = ['No_Freeze','Freeze']\n",
    "cm=confusion_matrix(y_true,y_pred)\n",
    "\n",
    "#print(cm)\n",
    "print('f1_score = ', f1_score(y_true, y_pred, average='weighted'))\n",
    "print(accuracy_score(y_true,y_pred))\n",
    "print(classification_report(y_true,y_pred))\n",
    "sns.heatmap(cm, cmap=\"YlGnBu\", xticklabels=LABELS, yticklabels=LABELS, annot=True, fmt = '.2f')"
   ]
  }
 ],
 "metadata": {
  "kernelspec": {
   "display_name": "Python 3 (ipykernel)",
   "language": "python",
   "name": "python3"
  },
  "language_info": {
   "codemirror_mode": {
    "name": "ipython",
    "version": 3
   },
   "file_extension": ".py",
   "mimetype": "text/x-python",
   "name": "python",
   "nbconvert_exporter": "python",
   "pygments_lexer": "ipython3",
   "version": "3.9.18"
  }
 },
 "nbformat": 4,
 "nbformat_minor": 5
}
